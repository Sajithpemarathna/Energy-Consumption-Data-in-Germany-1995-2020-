{
  "nbformat": 4,
  "nbformat_minor": 0,
  "metadata": {
    "colab": {
      "provenance": [],
      "authorship_tag": "ABX9TyNCowZ2+9SWf3J6Q1xjyZWj",
      "include_colab_link": true
    },
    "kernelspec": {
      "name": "python3",
      "display_name": "Python 3"
    },
    "language_info": {
      "name": "python"
    }
  },
  "cells": [
    {
      "cell_type": "markdown",
      "metadata": {
        "id": "view-in-github",
        "colab_type": "text"
      },
      "source": [
        "<a href=\"https://colab.research.google.com/github/Sajithpemarathna/Energy-Consumption-Data-in-Germany-1995-2020-/blob/main/SQL_Queries.ipynb\" target=\"_parent\"><img src=\"https://colab.research.google.com/assets/colab-badge.svg\" alt=\"Open In Colab\"/></a>"
      ]
    },
    {
      "cell_type": "code",
      "execution_count": null,
      "metadata": {
        "colab": {
          "base_uri": "https://localhost:8080/"
        },
        "id": "e4lAvRRzer1P",
        "outputId": "ec9f8618-9fe4-46b4-ac6a-9574911ec7f5"
      },
      "outputs": [
        {
          "output_type": "stream",
          "name": "stdout",
          "text": [
            "Requirement already satisfied: pandas in /usr/local/lib/python3.11/dist-packages (2.2.2)\n",
            "Requirement already satisfied: xlrd in /usr/local/lib/python3.11/dist-packages (2.0.1)\n",
            "Requirement already satisfied: openpyxl in /usr/local/lib/python3.11/dist-packages (3.1.5)\n",
            "Requirement already satisfied: numpy>=1.23.2 in /usr/local/lib/python3.11/dist-packages (from pandas) (1.26.4)\n",
            "Requirement already satisfied: python-dateutil>=2.8.2 in /usr/local/lib/python3.11/dist-packages (from pandas) (2.8.2)\n",
            "Requirement already satisfied: pytz>=2020.1 in /usr/local/lib/python3.11/dist-packages (from pandas) (2024.2)\n",
            "Requirement already satisfied: tzdata>=2022.7 in /usr/local/lib/python3.11/dist-packages (from pandas) (2025.1)\n",
            "Requirement already satisfied: et-xmlfile in /usr/local/lib/python3.11/dist-packages (from openpyxl) (2.0.0)\n",
            "Requirement already satisfied: six>=1.5 in /usr/local/lib/python3.11/dist-packages (from python-dateutil>=2.8.2->pandas) (1.17.0)\n"
          ]
        }
      ],
      "source": [
        "# Install required libraries for SQLite and Pandas\n",
        "!pip install pandas xlrd openpyxl\n"
      ]
    },
    {
      "cell_type": "code",
      "source": [
        "import pandas as pd\n",
        "\n",
        "# Load the cleaned Excel files\n",
        "branches_df = pd.read_excel('Energy Consumption of Homogeneous Branches.xlsx')\n",
        "carriers_df = pd.read_excel('Use of Energy of Energy Carriers.xlsx')\n",
        "\n",
        "# Display the first few rows to verify the data\n",
        "print(\"Branches Data:\")\n",
        "print(branches_df.head())\n",
        "\n",
        "print(\"\\nCarriers Data:\")\n",
        "print(carriers_df.head())\n"
      ],
      "metadata": {
        "colab": {
          "base_uri": "https://localhost:8080/"
        },
        "id": "iKYlLT1ZfMRY",
        "outputId": "205d7498-de04-4333-b214-a90348e8ab4c"
      },
      "execution_count": null,
      "outputs": [
        {
          "output_type": "stream",
          "name": "stdout",
          "text": [
            "Branches Data:\n",
            "  Branch Code                               Homogeneous Branches    1995  \\\n",
            "0    CPA08-01   Products of agric., hunting and related services  194596   \n",
            "1    CPA08-02  Products of forestry, logging and related serv...    7264   \n",
            "2    CPA08-03  Fish,aquaculture prod.,support services to fis...    2882   \n",
            "3    CPA08-05                                   Coal and lignite   33934   \n",
            "4    CPA08-06                    Crude petroleum and natural gas   20304   \n",
            "\n",
            "     1996    1997    1998    1999    2000    2001    2002  ...    2011  \\\n",
            "0  245008  221128  215325  201556  187373  201202  194596  ...  156271   \n",
            "1    7941    7620    7254    8316    8657    7240    7264  ...    6382   \n",
            "2    4155    3350    3720    3137    2981    2878    2882  ...    2327   \n",
            "3   76847   71506   60658   52097   36337   34736   33934  ...   39280   \n",
            "4   26462   24269   25027   24370   23675   22586   20304  ...   11555   \n",
            "\n",
            "     2012    2013    2014    2015    2016    2017    2018    2019    2020  \n",
            "0  195144  186684  175276  191304  187411  189994  169782  166131  158932  \n",
            "1    3692    5211    4997    6600    6792    8035    8463    8176    9621  \n",
            "2     970    2392    1934    1961    2289    1265    1216    1154    1112  \n",
            "3   30782   29409   28941   32347   32187   32060   32140   25813   22890  \n",
            "4   11226   11836   11334   11327   10134   11025    9534    9608    8752  \n",
            "\n",
            "[5 rows x 28 columns]\n",
            "\n",
            "Carriers Data:\n",
            "  Branch Code                              Homogeneous Branches  \\\n",
            "0    CPA08-01  Products of agric., hunting and related services   \n",
            "1         NaN                                               NaN   \n",
            "2         NaN                                               NaN   \n",
            "3         NaN                                               NaN   \n",
            "4         NaN                                               NaN   \n",
            "\n",
            "                                Energy Carriers     1995     1996     1997  \\\n",
            "0              Hard coal and hard coal products    888.0    946.0    829.0   \n",
            "1  Brown coal (lignite) and brown coal products   1477.0   1346.0   1275.0   \n",
            "2                                     Crude oil      0.0      0.0      0.0   \n",
            "3                                        Petrol   4580.0   3610.0   2976.0   \n",
            "4                                  Diesel fuels  94156.0  94655.0  94546.0   \n",
            "\n",
            "      1998     1999     2000     2001  ...     2011     2012     2013  \\\n",
            "0   1071.0   1185.0   1329.0   1692.0  ...    360.0   1080.0    248.0   \n",
            "1   1056.0    873.0    678.0    545.0  ...      0.0      0.0      0.0   \n",
            "2      0.0      0.0      0.0      0.0  ...      0.0      0.0      0.0   \n",
            "3   2897.0   2456.0   1926.0   1573.0  ...    383.0    350.0    345.0   \n",
            "4  94130.0  93709.0  82778.0  81461.0  ...  48796.0  47952.0  50725.0   \n",
            "\n",
            "      2014     2015     2016     2017     2018     2019     2020  \n",
            "0    475.0   1766.0    565.0    368.0    417.0     34.0     30.0  \n",
            "1      0.0      0.0      0.0      0.0      0.0      0.0      0.0  \n",
            "2      0.0      0.0      0.0      0.0      0.0      0.0      0.0  \n",
            "3    317.0    284.0    270.0    265.0    261.0    275.0    241.0  \n",
            "4  52114.0  54741.0  56857.0  58373.0  54796.0  55719.0  56631.0  \n",
            "\n",
            "[5 rows x 29 columns]\n"
          ]
        }
      ]
    },
    {
      "cell_type": "code",
      "source": [
        "import sqlite3\n",
        "\n",
        "# Create an SQLite database in memory\n",
        "conn = sqlite3.connect(':memory:')\n",
        "\n",
        "# Write DataFrames to SQL tables\n",
        "branches_df.to_sql('Energy_Consumption_Branches', conn, index=False, if_exists='replace')\n",
        "carriers_df.to_sql('Energy_Use_Carriers', conn, index=False, if_exists='replace')\n",
        "\n",
        "# Verify tables are loaded\n",
        "print(\"Tables in the database:\")\n",
        "tables = pd.read_sql_query(\"SELECT name FROM sqlite_master WHERE type='table';\", conn)\n",
        "print(tables)\n"
      ],
      "metadata": {
        "colab": {
          "base_uri": "https://localhost:8080/"
        },
        "id": "1SUbQws4feJD",
        "outputId": "bffb15fd-df49-45c4-eb6c-60feeefb1e00"
      },
      "execution_count": null,
      "outputs": [
        {
          "output_type": "stream",
          "name": "stdout",
          "text": [
            "Tables in the database:\n",
            "                          name\n",
            "0  Energy_Consumption_Branches\n",
            "1          Energy_Use_Carriers\n"
          ]
        }
      ]
    },
    {
      "cell_type": "code",
      "source": [
        "query1 = \"\"\"\n",
        "SELECT Year, SUM(Energy_Consumption) AS Total_Consumption\n",
        "FROM Energy_Consumption_Branches\n",
        "GROUP BY Year\n",
        "ORDER BY Year ASC;\n",
        "\"\"\"\n",
        "result1 = pd.read_sql_query(query1, conn)\n",
        "print(result1)\n"
      ],
      "metadata": {
        "colab": {
          "base_uri": "https://localhost:8080/",
          "height": 549
        },
        "id": "gB0utUoGfhcx",
        "outputId": "36ca2e7a-0000-4989-a30f-eb4c60046d1a"
      },
      "execution_count": null,
      "outputs": [
        {
          "output_type": "error",
          "ename": "DatabaseError",
          "evalue": "Execution failed on sql '\nSELECT Year, SUM(Energy_Consumption) AS Total_Consumption\nFROM Energy_Consumption_Branches\nGROUP BY Year\nORDER BY Year ASC;\n': no such column: Year",
          "traceback": [
            "\u001b[0;31m---------------------------------------------------------------------------\u001b[0m",
            "\u001b[0;31mOperationalError\u001b[0m                          Traceback (most recent call last)",
            "\u001b[0;32m/usr/local/lib/python3.11/dist-packages/pandas/io/sql.py\u001b[0m in \u001b[0;36mexecute\u001b[0;34m(self, sql, params)\u001b[0m\n\u001b[1;32m   2673\u001b[0m         \u001b[0;32mtry\u001b[0m\u001b[0;34m:\u001b[0m\u001b[0;34m\u001b[0m\u001b[0;34m\u001b[0m\u001b[0m\n\u001b[0;32m-> 2674\u001b[0;31m             \u001b[0mcur\u001b[0m\u001b[0;34m.\u001b[0m\u001b[0mexecute\u001b[0m\u001b[0;34m(\u001b[0m\u001b[0msql\u001b[0m\u001b[0;34m,\u001b[0m \u001b[0;34m*\u001b[0m\u001b[0margs\u001b[0m\u001b[0;34m)\u001b[0m\u001b[0;34m\u001b[0m\u001b[0;34m\u001b[0m\u001b[0m\n\u001b[0m\u001b[1;32m   2675\u001b[0m             \u001b[0;32mreturn\u001b[0m \u001b[0mcur\u001b[0m\u001b[0;34m\u001b[0m\u001b[0;34m\u001b[0m\u001b[0m\n",
            "\u001b[0;31mOperationalError\u001b[0m: no such column: Year",
            "\nThe above exception was the direct cause of the following exception:\n",
            "\u001b[0;31mDatabaseError\u001b[0m                             Traceback (most recent call last)",
            "\u001b[0;32m<ipython-input-4-b436444ec312>\u001b[0m in \u001b[0;36m<cell line: 0>\u001b[0;34m()\u001b[0m\n\u001b[1;32m      5\u001b[0m \u001b[0mORDER\u001b[0m \u001b[0mBY\u001b[0m \u001b[0mYear\u001b[0m \u001b[0mASC\u001b[0m\u001b[0;34m;\u001b[0m\u001b[0;34m\u001b[0m\u001b[0;34m\u001b[0m\u001b[0m\n\u001b[1;32m      6\u001b[0m \"\"\"\n\u001b[0;32m----> 7\u001b[0;31m \u001b[0mresult1\u001b[0m \u001b[0;34m=\u001b[0m \u001b[0mpd\u001b[0m\u001b[0;34m.\u001b[0m\u001b[0mread_sql_query\u001b[0m\u001b[0;34m(\u001b[0m\u001b[0mquery1\u001b[0m\u001b[0;34m,\u001b[0m \u001b[0mconn\u001b[0m\u001b[0;34m)\u001b[0m\u001b[0;34m\u001b[0m\u001b[0;34m\u001b[0m\u001b[0m\n\u001b[0m\u001b[1;32m      8\u001b[0m \u001b[0mprint\u001b[0m\u001b[0;34m(\u001b[0m\u001b[0mresult1\u001b[0m\u001b[0;34m)\u001b[0m\u001b[0;34m\u001b[0m\u001b[0;34m\u001b[0m\u001b[0m\n",
            "\u001b[0;32m/usr/local/lib/python3.11/dist-packages/pandas/io/sql.py\u001b[0m in \u001b[0;36mread_sql_query\u001b[0;34m(sql, con, index_col, coerce_float, params, parse_dates, chunksize, dtype, dtype_backend)\u001b[0m\n\u001b[1;32m    524\u001b[0m \u001b[0;34m\u001b[0m\u001b[0m\n\u001b[1;32m    525\u001b[0m     \u001b[0;32mwith\u001b[0m \u001b[0mpandasSQL_builder\u001b[0m\u001b[0;34m(\u001b[0m\u001b[0mcon\u001b[0m\u001b[0;34m)\u001b[0m \u001b[0;32mas\u001b[0m \u001b[0mpandas_sql\u001b[0m\u001b[0;34m:\u001b[0m\u001b[0;34m\u001b[0m\u001b[0;34m\u001b[0m\u001b[0m\n\u001b[0;32m--> 526\u001b[0;31m         return pandas_sql.read_query(\n\u001b[0m\u001b[1;32m    527\u001b[0m             \u001b[0msql\u001b[0m\u001b[0;34m,\u001b[0m\u001b[0;34m\u001b[0m\u001b[0;34m\u001b[0m\u001b[0m\n\u001b[1;32m    528\u001b[0m             \u001b[0mindex_col\u001b[0m\u001b[0;34m=\u001b[0m\u001b[0mindex_col\u001b[0m\u001b[0;34m,\u001b[0m\u001b[0;34m\u001b[0m\u001b[0;34m\u001b[0m\u001b[0m\n",
            "\u001b[0;32m/usr/local/lib/python3.11/dist-packages/pandas/io/sql.py\u001b[0m in \u001b[0;36mread_query\u001b[0;34m(self, sql, index_col, coerce_float, parse_dates, params, chunksize, dtype, dtype_backend)\u001b[0m\n\u001b[1;32m   2736\u001b[0m         \u001b[0mdtype_backend\u001b[0m\u001b[0;34m:\u001b[0m \u001b[0mDtypeBackend\u001b[0m \u001b[0;34m|\u001b[0m \u001b[0mLiteral\u001b[0m\u001b[0;34m[\u001b[0m\u001b[0;34m\"numpy\"\u001b[0m\u001b[0;34m]\u001b[0m \u001b[0;34m=\u001b[0m \u001b[0;34m\"numpy\"\u001b[0m\u001b[0;34m,\u001b[0m\u001b[0;34m\u001b[0m\u001b[0;34m\u001b[0m\u001b[0m\n\u001b[1;32m   2737\u001b[0m     ) -> DataFrame | Iterator[DataFrame]:\n\u001b[0;32m-> 2738\u001b[0;31m         \u001b[0mcursor\u001b[0m \u001b[0;34m=\u001b[0m \u001b[0mself\u001b[0m\u001b[0;34m.\u001b[0m\u001b[0mexecute\u001b[0m\u001b[0;34m(\u001b[0m\u001b[0msql\u001b[0m\u001b[0;34m,\u001b[0m \u001b[0mparams\u001b[0m\u001b[0;34m)\u001b[0m\u001b[0;34m\u001b[0m\u001b[0;34m\u001b[0m\u001b[0m\n\u001b[0m\u001b[1;32m   2739\u001b[0m         \u001b[0mcolumns\u001b[0m \u001b[0;34m=\u001b[0m \u001b[0;34m[\u001b[0m\u001b[0mcol_desc\u001b[0m\u001b[0;34m[\u001b[0m\u001b[0;36m0\u001b[0m\u001b[0;34m]\u001b[0m \u001b[0;32mfor\u001b[0m \u001b[0mcol_desc\u001b[0m \u001b[0;32min\u001b[0m \u001b[0mcursor\u001b[0m\u001b[0;34m.\u001b[0m\u001b[0mdescription\u001b[0m\u001b[0;34m]\u001b[0m\u001b[0;34m\u001b[0m\u001b[0;34m\u001b[0m\u001b[0m\n\u001b[1;32m   2740\u001b[0m \u001b[0;34m\u001b[0m\u001b[0m\n",
            "\u001b[0;32m/usr/local/lib/python3.11/dist-packages/pandas/io/sql.py\u001b[0m in \u001b[0;36mexecute\u001b[0;34m(self, sql, params)\u001b[0m\n\u001b[1;32m   2684\u001b[0m \u001b[0;34m\u001b[0m\u001b[0m\n\u001b[1;32m   2685\u001b[0m             \u001b[0mex\u001b[0m \u001b[0;34m=\u001b[0m \u001b[0mDatabaseError\u001b[0m\u001b[0;34m(\u001b[0m\u001b[0;34mf\"Execution failed on sql '{sql}': {exc}\"\u001b[0m\u001b[0;34m)\u001b[0m\u001b[0;34m\u001b[0m\u001b[0;34m\u001b[0m\u001b[0m\n\u001b[0;32m-> 2686\u001b[0;31m             \u001b[0;32mraise\u001b[0m \u001b[0mex\u001b[0m \u001b[0;32mfrom\u001b[0m \u001b[0mexc\u001b[0m\u001b[0;34m\u001b[0m\u001b[0;34m\u001b[0m\u001b[0m\n\u001b[0m\u001b[1;32m   2687\u001b[0m \u001b[0;34m\u001b[0m\u001b[0m\n\u001b[1;32m   2688\u001b[0m     \u001b[0;34m@\u001b[0m\u001b[0mstaticmethod\u001b[0m\u001b[0;34m\u001b[0m\u001b[0;34m\u001b[0m\u001b[0m\n",
            "\u001b[0;31mDatabaseError\u001b[0m: Execution failed on sql '\nSELECT Year, SUM(Energy_Consumption) AS Total_Consumption\nFROM Energy_Consumption_Branches\nGROUP BY Year\nORDER BY Year ASC;\n': no such column: Year"
          ]
        }
      ]
    },
    {
      "cell_type": "code",
      "source": [
        "query_check = \"\"\"\n",
        "PRAGMA table_info(Energy_Consumption_Branches);\n",
        "\"\"\"\n",
        "table_info = pd.read_sql_query(query_check, conn)\n",
        "print(table_info)\n"
      ],
      "metadata": {
        "colab": {
          "base_uri": "https://localhost:8080/"
        },
        "id": "9Ky3Z_SdgSwt",
        "outputId": "3e458479-e399-49a9-ec2a-8b538b874127"
      },
      "execution_count": null,
      "outputs": [
        {
          "output_type": "stream",
          "name": "stdout",
          "text": [
            "    cid                  name     type  notnull dflt_value  pk\n",
            "0     0           Branch Code     TEXT        0       None   0\n",
            "1     1  Homogeneous Branches     TEXT        0       None   0\n",
            "2     2                  1995  INTEGER        0       None   0\n",
            "3     3                  1996  INTEGER        0       None   0\n",
            "4     4                  1997  INTEGER        0       None   0\n",
            "5     5                  1998  INTEGER        0       None   0\n",
            "6     6                  1999  INTEGER        0       None   0\n",
            "7     7                  2000  INTEGER        0       None   0\n",
            "8     8                  2001  INTEGER        0       None   0\n",
            "9     9                  2002  INTEGER        0       None   0\n",
            "10   10                  2003  INTEGER        0       None   0\n",
            "11   11                  2004  INTEGER        0       None   0\n",
            "12   12                  2005  INTEGER        0       None   0\n",
            "13   13                  2006  INTEGER        0       None   0\n",
            "14   14                  2007  INTEGER        0       None   0\n",
            "15   15                  2008  INTEGER        0       None   0\n",
            "16   16                  2009  INTEGER        0       None   0\n",
            "17   17                  2010  INTEGER        0       None   0\n",
            "18   18                  2011  INTEGER        0       None   0\n",
            "19   19                  2012  INTEGER        0       None   0\n",
            "20   20                  2013  INTEGER        0       None   0\n",
            "21   21                  2014  INTEGER        0       None   0\n",
            "22   22                  2015  INTEGER        0       None   0\n",
            "23   23                  2016  INTEGER        0       None   0\n",
            "24   24                  2017  INTEGER        0       None   0\n",
            "25   25                  2018  INTEGER        0       None   0\n",
            "26   26                  2019  INTEGER        0       None   0\n",
            "27   27                  2020  INTEGER        0       None   0\n"
          ]
        }
      ]
    },
    {
      "cell_type": "code",
      "source": [
        "# Melt the dataframe to reshape it into a long format\n",
        "branches_long = branches_df.melt(id_vars=[\"Branch Code\", \"Homogeneous Branches\"],\n",
        "                                  var_name=\"Year\",\n",
        "                                  value_name=\"Energy_Consumption\")\n",
        "\n",
        "# Convert the Year column to an integer for consistency\n",
        "branches_long[\"Year\"] = branches_long[\"Year\"].astype(int)\n",
        "\n",
        "# Display the reshaped dataframe\n",
        "print(branches_long.head())\n"
      ],
      "metadata": {
        "colab": {
          "base_uri": "https://localhost:8080/"
        },
        "id": "Ikmo-mIAhDDy",
        "outputId": "0d30e13d-18da-426c-c016-cc807ca088f7"
      },
      "execution_count": null,
      "outputs": [
        {
          "output_type": "stream",
          "name": "stdout",
          "text": [
            "  Branch Code                               Homogeneous Branches  Year  \\\n",
            "0    CPA08-01   Products of agric., hunting and related services  1995   \n",
            "1    CPA08-02  Products of forestry, logging and related serv...  1995   \n",
            "2    CPA08-03  Fish,aquaculture prod.,support services to fis...  1995   \n",
            "3    CPA08-05                                   Coal and lignite  1995   \n",
            "4    CPA08-06                    Crude petroleum and natural gas  1995   \n",
            "\n",
            "   Energy_Consumption  \n",
            "0              194596  \n",
            "1                7264  \n",
            "2                2882  \n",
            "3               33934  \n",
            "4               20304  \n"
          ]
        }
      ]
    },
    {
      "cell_type": "code",
      "source": [
        "# Reload the reshaped data into the database\n",
        "branches_long.to_sql('Energy_Consumption_Branches', conn, index=False, if_exists='replace')\n",
        "\n",
        "# Verify the new structure\n",
        "query_check = \"\"\"\n",
        "PRAGMA table_info(Energy_Consumption_Branches);\n",
        "\"\"\"\n",
        "table_info = pd.read_sql_query(query_check, conn)\n",
        "print(table_info)\n"
      ],
      "metadata": {
        "colab": {
          "base_uri": "https://localhost:8080/"
        },
        "id": "zJtFamsDhXbn",
        "outputId": "1ab6001f-53c3-4ca0-f11e-c44d806441dd"
      },
      "execution_count": null,
      "outputs": [
        {
          "output_type": "stream",
          "name": "stdout",
          "text": [
            "   cid                  name     type  notnull dflt_value  pk\n",
            "0    0           Branch Code     TEXT        0       None   0\n",
            "1    1  Homogeneous Branches     TEXT        0       None   0\n",
            "2    2                  Year  INTEGER        0       None   0\n",
            "3    3    Energy_Consumption  INTEGER        0       None   0\n"
          ]
        }
      ]
    },
    {
      "cell_type": "code",
      "source": [
        "query1 = \"\"\"\n",
        "SELECT Year, SUM(Energy_Consumption) AS Total_Consumption\n",
        "FROM Energy_Consumption_Branches\n",
        "GROUP BY Year\n",
        "ORDER BY Year ASC;\n",
        "\"\"\"\n",
        "result1 = pd.read_sql_query(query1, conn)\n",
        "print(result1)\n"
      ],
      "metadata": {
        "colab": {
          "base_uri": "https://localhost:8080/"
        },
        "id": "H5UChML6hf9-",
        "outputId": "607f50d9-f398-4fcd-ac0a-32c154245b34"
      },
      "execution_count": null,
      "outputs": [
        {
          "output_type": "stream",
          "name": "stdout",
          "text": [
            "    Year  Total_Consumption\n",
            "0   1995           14357268\n",
            "1   1996           14683191\n",
            "2   1997           14513045\n",
            "3   1998           14405142\n",
            "4   1999           14236759\n",
            "5   2000           14290357\n",
            "6   2001           14590137\n",
            "7   2002           14357268\n",
            "8   2003           14521745\n",
            "9   2004           14515959\n",
            "10  2005           14738830\n",
            "11  2006           14969148\n",
            "12  2007           14458573\n",
            "13  2008           14751605\n",
            "14  2009           13850025\n",
            "15  2010           14717813\n",
            "16  2011           14026360\n",
            "17  2012           13831179\n",
            "18  2013           14118917\n",
            "19  2014           13405145\n",
            "20  2015           13669827\n",
            "21  2016           13679308\n",
            "22  2017           13678181\n",
            "23  2018           13399931\n",
            "24  2019           13022128\n",
            "25  2020           11977459\n"
          ]
        }
      ]
    },
    {
      "cell_type": "code",
      "source": [
        "SELECT Carrier_Type, Year, SUM(Energy_Usage) AS Total_Consumption\n",
        "FROM Energy_Use_Carriers\n",
        "WHERE Carrier_Type != 'Total'\n",
        "GROUP BY Carrier_Type, Year\n",
        "ORDER BY Carrier_Type, Year;\n"
      ],
      "metadata": {
        "colab": {
          "base_uri": "https://localhost:8080/",
          "height": 109
        },
        "id": "Fhl-cJi_iz9n",
        "outputId": "21de1ba3-5e08-4c80-a034-731f663ae8ba"
      },
      "execution_count": null,
      "outputs": [
        {
          "output_type": "error",
          "ename": "SyntaxError",
          "evalue": "invalid syntax (<ipython-input-9-307cd85b32df>, line 1)",
          "traceback": [
            "\u001b[0;36m  File \u001b[0;32m\"<ipython-input-9-307cd85b32df>\"\u001b[0;36m, line \u001b[0;32m1\u001b[0m\n\u001b[0;31m    SELECT Carrier_Type, Year, SUM(Energy_Usage) AS Total_Consumption\u001b[0m\n\u001b[0m           ^\u001b[0m\n\u001b[0;31mSyntaxError\u001b[0m\u001b[0;31m:\u001b[0m invalid syntax\n"
          ]
        }
      ]
    },
    {
      "cell_type": "code",
      "source": [
        "query_check = \"\"\"\n",
        "PRAGMA table_info(Energy_Use_Carriers);\n",
        "\"\"\"\n",
        "table_info = pd.read_sql_query(query_check, conn)\n",
        "print(table_info)\n"
      ],
      "metadata": {
        "colab": {
          "base_uri": "https://localhost:8080/"
        },
        "id": "gskGaCbvjM_I",
        "outputId": "e2734afc-fd69-4a32-875a-c25355cf7e35"
      },
      "execution_count": null,
      "outputs": [
        {
          "output_type": "stream",
          "name": "stdout",
          "text": [
            "    cid                  name  type  notnull dflt_value  pk\n",
            "0     0           Branch Code  TEXT        0       None   0\n",
            "1     1  Homogeneous Branches  TEXT        0       None   0\n",
            "2     2       Energy Carriers  TEXT        0       None   0\n",
            "3     3                  1995  REAL        0       None   0\n",
            "4     4                  1996  REAL        0       None   0\n",
            "5     5                  1997  REAL        0       None   0\n",
            "6     6                  1998  REAL        0       None   0\n",
            "7     7                  1999  REAL        0       None   0\n",
            "8     8                  2000  REAL        0       None   0\n",
            "9     9                  2001  REAL        0       None   0\n",
            "10   10                  2002  REAL        0       None   0\n",
            "11   11                  2003  REAL        0       None   0\n",
            "12   12                  2004  REAL        0       None   0\n",
            "13   13                  2005  REAL        0       None   0\n",
            "14   14                  2006  REAL        0       None   0\n",
            "15   15                  2007  REAL        0       None   0\n",
            "16   16                  2008  REAL        0       None   0\n",
            "17   17                  2009  REAL        0       None   0\n",
            "18   18                  2010  REAL        0       None   0\n",
            "19   19                  2011  REAL        0       None   0\n",
            "20   20                  2012  REAL        0       None   0\n",
            "21   21                  2013  REAL        0       None   0\n",
            "22   22                  2014  REAL        0       None   0\n",
            "23   23                  2015  REAL        0       None   0\n",
            "24   24                  2016  REAL        0       None   0\n",
            "25   25                  2017  REAL        0       None   0\n",
            "26   26                  2018  REAL        0       None   0\n",
            "27   27                  2019  REAL        0       None   0\n",
            "28   28                  2020  REAL        0       None   0\n"
          ]
        }
      ]
    },
    {
      "cell_type": "code",
      "source": [
        "# Reshape the data into a long format\n",
        "carriers_long = carriers_df.melt(id_vars=[\"Branch Code\", \"Homogeneous Branches\", \"Energy Carriers\"],\n",
        "                                 var_name=\"Year\",\n",
        "                                 value_name=\"Energy_Usage\")\n",
        "\n",
        "# Convert the Year column to integer for consistency\n",
        "carriers_long[\"Year\"] = carriers_long[\"Year\"].astype(int)\n",
        "\n",
        "# Display the reshaped DataFrame\n",
        "print(carriers_long.head())\n",
        "\n",
        "# Save the reshaped DataFrame into SQLite\n",
        "carriers_long.to_sql('Energy_Use_Carriers_Long', conn, index=False, if_exists='replace')\n"
      ],
      "metadata": {
        "colab": {
          "base_uri": "https://localhost:8080/"
        },
        "id": "gJnrlcZPjnUv",
        "outputId": "f6a8d4b3-ef27-49a4-d03e-14aef77f8243"
      },
      "execution_count": null,
      "outputs": [
        {
          "output_type": "stream",
          "name": "stdout",
          "text": [
            "  Branch Code                              Homogeneous Branches  \\\n",
            "0    CPA08-01  Products of agric., hunting and related services   \n",
            "1         NaN                                               NaN   \n",
            "2         NaN                                               NaN   \n",
            "3         NaN                                               NaN   \n",
            "4         NaN                                               NaN   \n",
            "\n",
            "                                Energy Carriers  Year  Energy_Usage  \n",
            "0              Hard coal and hard coal products  1995         888.0  \n",
            "1  Brown coal (lignite) and brown coal products  1995        1477.0  \n",
            "2                                     Crude oil  1995           0.0  \n",
            "3                                        Petrol  1995        4580.0  \n",
            "4                                  Diesel fuels  1995       94156.0  \n"
          ]
        },
        {
          "output_type": "execute_result",
          "data": {
            "text/plain": [
              "16640"
            ]
          },
          "metadata": {},
          "execution_count": 11
        }
      ]
    },
    {
      "cell_type": "code",
      "source": [
        "query_total_carriers = \"\"\"\n",
        "SELECT \"Energy Carriers\", Year, SUM(Energy_Usage) AS Total_Consumption\n",
        "FROM Energy_Use_Carriers_Long\n",
        "WHERE \"Energy Carriers\" != 'Total'\n",
        "GROUP BY \"Energy Carriers\", Year\n",
        "ORDER BY \"Energy Carriers\", Year;\n",
        "\"\"\"\n",
        "result_carriers = pd.read_sql_query(query_total_carriers, conn)\n",
        "print(result_carriers)\n"
      ],
      "metadata": {
        "colab": {
          "base_uri": "https://localhost:8080/"
        },
        "id": "0NUvrMzejxNT",
        "outputId": "c1a60291-5696-4514-fd3c-5abf65ec1a4c"
      },
      "execution_count": null,
      "outputs": [
        {
          "output_type": "stream",
          "name": "stdout",
          "text": [
            "           Energy Carriers  Year  Total_Consumption\n",
            "0    Aviation turbine fuel  1995           696728.0\n",
            "1    Aviation turbine fuel  1996           719250.0\n",
            "2    Aviation turbine fuel  1997           760899.0\n",
            "3    Aviation turbine fuel  1998           779452.0\n",
            "4    Aviation turbine fuel  1999           831340.0\n",
            "..                     ...   ...                ...\n",
            "307     Renewable energies  2016          3503515.0\n",
            "308     Renewable energies  2017          3746369.0\n",
            "309     Renewable energies  2018          3746719.0\n",
            "310     Renewable energies  2019          3937624.0\n",
            "311     Renewable energies  2020          4047305.0\n",
            "\n",
            "[312 rows x 3 columns]\n"
          ]
        }
      ]
    },
    {
      "cell_type": "code",
      "source": [
        "query_total_year = \"\"\"\n",
        "SELECT Year, SUM(Energy_Usage) AS Total_Consumption\n",
        "FROM Energy_Use_Carriers_Long\n",
        "WHERE \"Energy Carriers\" = 'Total'\n",
        "GROUP BY Year\n",
        "ORDER BY Year;\n",
        "\"\"\"\n",
        "result_total_year = pd.read_sql_query(query_total_year, conn)\n",
        "print(result_total_year)\n"
      ],
      "metadata": {
        "colab": {
          "base_uri": "https://localhost:8080/"
        },
        "id": "Ey7QnV4hkA7A",
        "outputId": "61c844cc-6f14-40e9-8a09-01124ddb85df"
      },
      "execution_count": null,
      "outputs": [
        {
          "output_type": "stream",
          "name": "stdout",
          "text": [
            "    Year  Total_Consumption\n",
            "0   1995         42162734.0\n",
            "1   1996         42902541.0\n",
            "2   1997         42401596.0\n",
            "3   1998         42837106.0\n",
            "4   1999         42264119.0\n",
            "5   2000         43055046.0\n",
            "6   2001         43032040.0\n",
            "7   2002         42616001.0\n",
            "8   2003         44041388.0\n",
            "9   2004         45069426.0\n",
            "10  2005         46284572.0\n",
            "11  2006         46822644.0\n",
            "12  2007         45814327.0\n",
            "13  2008         45698196.0\n",
            "14  2009         42497279.0\n",
            "15  2010         43903839.0\n",
            "16  2011         42565582.0\n",
            "17  2012         42247883.0\n",
            "18  2013         42701765.0\n",
            "19  2014         41365442.0\n",
            "20  2015         42454507.0\n",
            "21  2016         42500923.0\n",
            "22  2017         42906645.0\n",
            "23  2018         43477236.0\n",
            "24  2019         42227183.0\n",
            "25  2020         39140244.0\n"
          ]
        }
      ]
    },
    {
      "cell_type": "code",
      "source": [
        "query_percentage_contribution = \"\"\"\n",
        "SELECT Year, \"Energy Carriers\",\n",
        "       SUM(Energy_Usage) * 100.0 /\n",
        "       (SELECT SUM(Energy_Usage)\n",
        "        FROM Energy_Use_Carriers_Long\n",
        "        WHERE Year = e.Year AND \"Energy Carriers\" = 'Total') AS Contribution_Percentage\n",
        "FROM Energy_Use_Carriers_Long e\n",
        "WHERE \"Energy Carriers\" != 'Total'\n",
        "GROUP BY Year, \"Energy Carriers\"\n",
        "ORDER BY Year, \"Energy Carriers\";\n",
        "\"\"\"\n",
        "result_contribution = pd.read_sql_query(query_percentage_contribution, conn)\n",
        "print(result_contribution)\n"
      ],
      "metadata": {
        "colab": {
          "base_uri": "https://localhost:8080/"
        },
        "id": "lu09kDK6kMSW",
        "outputId": "de92275d-88fd-4d70-eb62-e3ddc3cf0e53"
      },
      "execution_count": null,
      "outputs": [
        {
          "output_type": "stream",
          "name": "stdout",
          "text": [
            "     Year                               Energy Carriers  \\\n",
            "0    1995                         Aviation turbine fuel   \n",
            "1    1995  Brown coal (lignite) and brown coal products   \n",
            "2    1995                                     Crude oil   \n",
            "3    1995                                  Diesel fuels   \n",
            "4    1995          Electricity and other energy sources   \n",
            "..    ...                                           ...   \n",
            "307  2020                                   Heating oil   \n",
            "308  2020                                Heavy fuel oil   \n",
            "309  2020                    Other mineral oil products   \n",
            "310  2020                                        Petrol   \n",
            "311  2020                            Renewable energies   \n",
            "\n",
            "     Contribution_Percentage  \n",
            "0                   1.652473  \n",
            "1                   8.974304  \n",
            "2                  20.920662  \n",
            "3                   5.131529  \n",
            "4                  17.736226  \n",
            "..                       ...  \n",
            "307                 3.394307  \n",
            "308                 2.661131  \n",
            "309                 7.252405  \n",
            "310                 3.464460  \n",
            "311                10.340521  \n",
            "\n",
            "[312 rows x 3 columns]\n"
          ]
        }
      ]
    },
    {
      "cell_type": "code",
      "source": [
        "result_carriers.to_csv('total_carriers.csv', index=False)\n",
        "result_total_year.to_csv('total_year.csv', index=False)\n",
        "result_contribution.to_csv('contribution_percentage.csv', index=False)\n"
      ],
      "metadata": {
        "id": "cv0hpor6kjy-"
      },
      "execution_count": null,
      "outputs": []
    },
    {
      "cell_type": "code",
      "source": [
        "# Export total energy consumption by carrier\n",
        "result_carriers.to_csv('total_carriers.csv', index=False)\n",
        "\n",
        "# Export total energy consumption by year\n",
        "result_total_year.to_csv('total_year.csv', index=False)\n",
        "\n",
        "# Export contribution percentages\n",
        "result_contribution.to_csv('contribution_percentage.csv', index=False)\n",
        "\n",
        "print(\"Results exported as CSV files.\")\n"
      ],
      "metadata": {
        "id": "LqtrNce4lDRQ",
        "outputId": "ad6b2a6d-b5f7-4358-e7c4-41e7ac463284",
        "colab": {
          "base_uri": "https://localhost:8080/"
        }
      },
      "execution_count": null,
      "outputs": [
        {
          "output_type": "stream",
          "name": "stdout",
          "text": [
            "Results exported as CSV files.\n"
          ]
        }
      ]
    }
  ]
}