{
  "nbformat": 4,
  "nbformat_minor": 0,
  "metadata": {
    "colab": {
      "provenance": [],
      "gpuType": "T4",
      "authorship_tag": "ABX9TyNxQ8dIfQ0hcCP679FOLle4",
      "include_colab_link": true
    },
    "kernelspec": {
      "name": "python3",
      "display_name": "Python 3"
    },
    "language_info": {
      "name": "python"
    },
    "accelerator": "GPU"
  },
  "cells": [
    {
      "cell_type": "markdown",
      "metadata": {
        "id": "view-in-github",
        "colab_type": "text"
      },
      "source": [
        "<a href=\"https://colab.research.google.com/github/Sajithpemarathna/Energy-Consumption-Data-in-Germany-1995-2020-/blob/main/Model_Implementation_Attempt_4.ipynb\" target=\"_parent\"><img src=\"https://colab.research.google.com/assets/colab-badge.svg\" alt=\"Open In Colab\"/></a>"
      ]
    },
    {
      "cell_type": "code",
      "source": [
        "import pandas as pd\n",
        "\n",
        "# Define file path (if manually uploaded)\n",
        "file_path = \"/content/Use of Energy of Energy Carriers.csv\"\n",
        "\n",
        "# Load dataset\n",
        "df = pd.read_csv(file_path)\n",
        "\n",
        "# Display first few rows to confirm it's loaded correctly\n",
        "df.head()\n"
      ],
      "metadata": {
        "colab": {
          "base_uri": "https://localhost:8080/",
          "height": 654
        },
        "id": "vxMzQjKqhsv7",
        "outputId": "ede99561-d88e-4ada-9bcc-0e271f54e696"
      },
      "execution_count": null,
      "outputs": [
        {
          "output_type": "execute_result",
          "data": {
            "text/plain": [
              "  Branch Code                              Homogeneous Branches  \\\n",
              "0    CPA08-01  Products of agric., hunting and related services   \n",
              "1    CPA08-01  Products of agric., hunting and related services   \n",
              "2    CPA08-01  Products of agric., hunting and related services   \n",
              "3    CPA08-01  Products of agric., hunting and related services   \n",
              "4    CPA08-01  Products of agric., hunting and related services   \n",
              "\n",
              "                                Energy Carriers   1995   1996   1997   1998  \\\n",
              "0              Hard coal and hard coal products    888    946    829   1071   \n",
              "1  Brown coal (lignite) and brown coal products   1477   1346   1275   1056   \n",
              "2                                     Crude oil      0      0      0      0   \n",
              "3                                        Petrol   4580   3610   2976   2897   \n",
              "4                                  Diesel fuels  94156  94655  94546  94130   \n",
              "\n",
              "    1999   2000   2001  ...   2011   2012   2013   2014   2015   2016   2017  \\\n",
              "0   1185   1329   1692  ...    360   1080    248    475   1766    565    368   \n",
              "1    873    678    545  ...      0      0      0      0      0      0      0   \n",
              "2      0      0      0  ...      0      0      0      0      0      0      0   \n",
              "3   2456   1926   1573  ...    383    350    345    317    284    270    265   \n",
              "4  93709  82778  81461  ...  48796  47952  50725  52114  54741  56857  58373   \n",
              "\n",
              "    2018   2019   2020  \n",
              "0    417     34     30  \n",
              "1      0      0      0  \n",
              "2      0      0      0  \n",
              "3    261    275    241  \n",
              "4  54796  55719  56631  \n",
              "\n",
              "[5 rows x 29 columns]"
            ],
            "text/html": [
              "\n",
              "  <div id=\"df-5c9a10eb-489d-4f74-b885-cc06b3b74ecd\" class=\"colab-df-container\">\n",
              "    <div>\n",
              "<style scoped>\n",
              "    .dataframe tbody tr th:only-of-type {\n",
              "        vertical-align: middle;\n",
              "    }\n",
              "\n",
              "    .dataframe tbody tr th {\n",
              "        vertical-align: top;\n",
              "    }\n",
              "\n",
              "    .dataframe thead th {\n",
              "        text-align: right;\n",
              "    }\n",
              "</style>\n",
              "<table border=\"1\" class=\"dataframe\">\n",
              "  <thead>\n",
              "    <tr style=\"text-align: right;\">\n",
              "      <th></th>\n",
              "      <th>Branch Code</th>\n",
              "      <th>Homogeneous Branches</th>\n",
              "      <th>Energy Carriers</th>\n",
              "      <th>1995</th>\n",
              "      <th>1996</th>\n",
              "      <th>1997</th>\n",
              "      <th>1998</th>\n",
              "      <th>1999</th>\n",
              "      <th>2000</th>\n",
              "      <th>2001</th>\n",
              "      <th>...</th>\n",
              "      <th>2011</th>\n",
              "      <th>2012</th>\n",
              "      <th>2013</th>\n",
              "      <th>2014</th>\n",
              "      <th>2015</th>\n",
              "      <th>2016</th>\n",
              "      <th>2017</th>\n",
              "      <th>2018</th>\n",
              "      <th>2019</th>\n",
              "      <th>2020</th>\n",
              "    </tr>\n",
              "  </thead>\n",
              "  <tbody>\n",
              "    <tr>\n",
              "      <th>0</th>\n",
              "      <td>CPA08-01</td>\n",
              "      <td>Products of agric., hunting and related services</td>\n",
              "      <td>Hard coal and hard coal products</td>\n",
              "      <td>888</td>\n",
              "      <td>946</td>\n",
              "      <td>829</td>\n",
              "      <td>1071</td>\n",
              "      <td>1185</td>\n",
              "      <td>1329</td>\n",
              "      <td>1692</td>\n",
              "      <td>...</td>\n",
              "      <td>360</td>\n",
              "      <td>1080</td>\n",
              "      <td>248</td>\n",
              "      <td>475</td>\n",
              "      <td>1766</td>\n",
              "      <td>565</td>\n",
              "      <td>368</td>\n",
              "      <td>417</td>\n",
              "      <td>34</td>\n",
              "      <td>30</td>\n",
              "    </tr>\n",
              "    <tr>\n",
              "      <th>1</th>\n",
              "      <td>CPA08-01</td>\n",
              "      <td>Products of agric., hunting and related services</td>\n",
              "      <td>Brown coal (lignite) and brown coal products</td>\n",
              "      <td>1477</td>\n",
              "      <td>1346</td>\n",
              "      <td>1275</td>\n",
              "      <td>1056</td>\n",
              "      <td>873</td>\n",
              "      <td>678</td>\n",
              "      <td>545</td>\n",
              "      <td>...</td>\n",
              "      <td>0</td>\n",
              "      <td>0</td>\n",
              "      <td>0</td>\n",
              "      <td>0</td>\n",
              "      <td>0</td>\n",
              "      <td>0</td>\n",
              "      <td>0</td>\n",
              "      <td>0</td>\n",
              "      <td>0</td>\n",
              "      <td>0</td>\n",
              "    </tr>\n",
              "    <tr>\n",
              "      <th>2</th>\n",
              "      <td>CPA08-01</td>\n",
              "      <td>Products of agric., hunting and related services</td>\n",
              "      <td>Crude oil</td>\n",
              "      <td>0</td>\n",
              "      <td>0</td>\n",
              "      <td>0</td>\n",
              "      <td>0</td>\n",
              "      <td>0</td>\n",
              "      <td>0</td>\n",
              "      <td>0</td>\n",
              "      <td>...</td>\n",
              "      <td>0</td>\n",
              "      <td>0</td>\n",
              "      <td>0</td>\n",
              "      <td>0</td>\n",
              "      <td>0</td>\n",
              "      <td>0</td>\n",
              "      <td>0</td>\n",
              "      <td>0</td>\n",
              "      <td>0</td>\n",
              "      <td>0</td>\n",
              "    </tr>\n",
              "    <tr>\n",
              "      <th>3</th>\n",
              "      <td>CPA08-01</td>\n",
              "      <td>Products of agric., hunting and related services</td>\n",
              "      <td>Petrol</td>\n",
              "      <td>4580</td>\n",
              "      <td>3610</td>\n",
              "      <td>2976</td>\n",
              "      <td>2897</td>\n",
              "      <td>2456</td>\n",
              "      <td>1926</td>\n",
              "      <td>1573</td>\n",
              "      <td>...</td>\n",
              "      <td>383</td>\n",
              "      <td>350</td>\n",
              "      <td>345</td>\n",
              "      <td>317</td>\n",
              "      <td>284</td>\n",
              "      <td>270</td>\n",
              "      <td>265</td>\n",
              "      <td>261</td>\n",
              "      <td>275</td>\n",
              "      <td>241</td>\n",
              "    </tr>\n",
              "    <tr>\n",
              "      <th>4</th>\n",
              "      <td>CPA08-01</td>\n",
              "      <td>Products of agric., hunting and related services</td>\n",
              "      <td>Diesel fuels</td>\n",
              "      <td>94156</td>\n",
              "      <td>94655</td>\n",
              "      <td>94546</td>\n",
              "      <td>94130</td>\n",
              "      <td>93709</td>\n",
              "      <td>82778</td>\n",
              "      <td>81461</td>\n",
              "      <td>...</td>\n",
              "      <td>48796</td>\n",
              "      <td>47952</td>\n",
              "      <td>50725</td>\n",
              "      <td>52114</td>\n",
              "      <td>54741</td>\n",
              "      <td>56857</td>\n",
              "      <td>58373</td>\n",
              "      <td>54796</td>\n",
              "      <td>55719</td>\n",
              "      <td>56631</td>\n",
              "    </tr>\n",
              "  </tbody>\n",
              "</table>\n",
              "<p>5 rows × 29 columns</p>\n",
              "</div>\n",
              "    <div class=\"colab-df-buttons\">\n",
              "\n",
              "  <div class=\"colab-df-container\">\n",
              "    <button class=\"colab-df-convert\" onclick=\"convertToInteractive('df-5c9a10eb-489d-4f74-b885-cc06b3b74ecd')\"\n",
              "            title=\"Convert this dataframe to an interactive table.\"\n",
              "            style=\"display:none;\">\n",
              "\n",
              "  <svg xmlns=\"http://www.w3.org/2000/svg\" height=\"24px\" viewBox=\"0 -960 960 960\">\n",
              "    <path d=\"M120-120v-720h720v720H120Zm60-500h600v-160H180v160Zm220 220h160v-160H400v160Zm0 220h160v-160H400v160ZM180-400h160v-160H180v160Zm440 0h160v-160H620v160ZM180-180h160v-160H180v160Zm440 0h160v-160H620v160Z\"/>\n",
              "  </svg>\n",
              "    </button>\n",
              "\n",
              "  <style>\n",
              "    .colab-df-container {\n",
              "      display:flex;\n",
              "      gap: 12px;\n",
              "    }\n",
              "\n",
              "    .colab-df-convert {\n",
              "      background-color: #E8F0FE;\n",
              "      border: none;\n",
              "      border-radius: 50%;\n",
              "      cursor: pointer;\n",
              "      display: none;\n",
              "      fill: #1967D2;\n",
              "      height: 32px;\n",
              "      padding: 0 0 0 0;\n",
              "      width: 32px;\n",
              "    }\n",
              "\n",
              "    .colab-df-convert:hover {\n",
              "      background-color: #E2EBFA;\n",
              "      box-shadow: 0px 1px 2px rgba(60, 64, 67, 0.3), 0px 1px 3px 1px rgba(60, 64, 67, 0.15);\n",
              "      fill: #174EA6;\n",
              "    }\n",
              "\n",
              "    .colab-df-buttons div {\n",
              "      margin-bottom: 4px;\n",
              "    }\n",
              "\n",
              "    [theme=dark] .colab-df-convert {\n",
              "      background-color: #3B4455;\n",
              "      fill: #D2E3FC;\n",
              "    }\n",
              "\n",
              "    [theme=dark] .colab-df-convert:hover {\n",
              "      background-color: #434B5C;\n",
              "      box-shadow: 0px 1px 3px 1px rgba(0, 0, 0, 0.15);\n",
              "      filter: drop-shadow(0px 1px 2px rgba(0, 0, 0, 0.3));\n",
              "      fill: #FFFFFF;\n",
              "    }\n",
              "  </style>\n",
              "\n",
              "    <script>\n",
              "      const buttonEl =\n",
              "        document.querySelector('#df-5c9a10eb-489d-4f74-b885-cc06b3b74ecd button.colab-df-convert');\n",
              "      buttonEl.style.display =\n",
              "        google.colab.kernel.accessAllowed ? 'block' : 'none';\n",
              "\n",
              "      async function convertToInteractive(key) {\n",
              "        const element = document.querySelector('#df-5c9a10eb-489d-4f74-b885-cc06b3b74ecd');\n",
              "        const dataTable =\n",
              "          await google.colab.kernel.invokeFunction('convertToInteractive',\n",
              "                                                    [key], {});\n",
              "        if (!dataTable) return;\n",
              "\n",
              "        const docLinkHtml = 'Like what you see? Visit the ' +\n",
              "          '<a target=\"_blank\" href=https://colab.research.google.com/notebooks/data_table.ipynb>data table notebook</a>'\n",
              "          + ' to learn more about interactive tables.';\n",
              "        element.innerHTML = '';\n",
              "        dataTable['output_type'] = 'display_data';\n",
              "        await google.colab.output.renderOutput(dataTable, element);\n",
              "        const docLink = document.createElement('div');\n",
              "        docLink.innerHTML = docLinkHtml;\n",
              "        element.appendChild(docLink);\n",
              "      }\n",
              "    </script>\n",
              "  </div>\n",
              "\n",
              "\n",
              "<div id=\"df-5a75f4d2-d583-4338-81d6-0730c0b617c0\">\n",
              "  <button class=\"colab-df-quickchart\" onclick=\"quickchart('df-5a75f4d2-d583-4338-81d6-0730c0b617c0')\"\n",
              "            title=\"Suggest charts\"\n",
              "            style=\"display:none;\">\n",
              "\n",
              "<svg xmlns=\"http://www.w3.org/2000/svg\" height=\"24px\"viewBox=\"0 0 24 24\"\n",
              "     width=\"24px\">\n",
              "    <g>\n",
              "        <path d=\"M19 3H5c-1.1 0-2 .9-2 2v14c0 1.1.9 2 2 2h14c1.1 0 2-.9 2-2V5c0-1.1-.9-2-2-2zM9 17H7v-7h2v7zm4 0h-2V7h2v10zm4 0h-2v-4h2v4z\"/>\n",
              "    </g>\n",
              "</svg>\n",
              "  </button>\n",
              "\n",
              "<style>\n",
              "  .colab-df-quickchart {\n",
              "      --bg-color: #E8F0FE;\n",
              "      --fill-color: #1967D2;\n",
              "      --hover-bg-color: #E2EBFA;\n",
              "      --hover-fill-color: #174EA6;\n",
              "      --disabled-fill-color: #AAA;\n",
              "      --disabled-bg-color: #DDD;\n",
              "  }\n",
              "\n",
              "  [theme=dark] .colab-df-quickchart {\n",
              "      --bg-color: #3B4455;\n",
              "      --fill-color: #D2E3FC;\n",
              "      --hover-bg-color: #434B5C;\n",
              "      --hover-fill-color: #FFFFFF;\n",
              "      --disabled-bg-color: #3B4455;\n",
              "      --disabled-fill-color: #666;\n",
              "  }\n",
              "\n",
              "  .colab-df-quickchart {\n",
              "    background-color: var(--bg-color);\n",
              "    border: none;\n",
              "    border-radius: 50%;\n",
              "    cursor: pointer;\n",
              "    display: none;\n",
              "    fill: var(--fill-color);\n",
              "    height: 32px;\n",
              "    padding: 0;\n",
              "    width: 32px;\n",
              "  }\n",
              "\n",
              "  .colab-df-quickchart:hover {\n",
              "    background-color: var(--hover-bg-color);\n",
              "    box-shadow: 0 1px 2px rgba(60, 64, 67, 0.3), 0 1px 3px 1px rgba(60, 64, 67, 0.15);\n",
              "    fill: var(--button-hover-fill-color);\n",
              "  }\n",
              "\n",
              "  .colab-df-quickchart-complete:disabled,\n",
              "  .colab-df-quickchart-complete:disabled:hover {\n",
              "    background-color: var(--disabled-bg-color);\n",
              "    fill: var(--disabled-fill-color);\n",
              "    box-shadow: none;\n",
              "  }\n",
              "\n",
              "  .colab-df-spinner {\n",
              "    border: 2px solid var(--fill-color);\n",
              "    border-color: transparent;\n",
              "    border-bottom-color: var(--fill-color);\n",
              "    animation:\n",
              "      spin 1s steps(1) infinite;\n",
              "  }\n",
              "\n",
              "  @keyframes spin {\n",
              "    0% {\n",
              "      border-color: transparent;\n",
              "      border-bottom-color: var(--fill-color);\n",
              "      border-left-color: var(--fill-color);\n",
              "    }\n",
              "    20% {\n",
              "      border-color: transparent;\n",
              "      border-left-color: var(--fill-color);\n",
              "      border-top-color: var(--fill-color);\n",
              "    }\n",
              "    30% {\n",
              "      border-color: transparent;\n",
              "      border-left-color: var(--fill-color);\n",
              "      border-top-color: var(--fill-color);\n",
              "      border-right-color: var(--fill-color);\n",
              "    }\n",
              "    40% {\n",
              "      border-color: transparent;\n",
              "      border-right-color: var(--fill-color);\n",
              "      border-top-color: var(--fill-color);\n",
              "    }\n",
              "    60% {\n",
              "      border-color: transparent;\n",
              "      border-right-color: var(--fill-color);\n",
              "    }\n",
              "    80% {\n",
              "      border-color: transparent;\n",
              "      border-right-color: var(--fill-color);\n",
              "      border-bottom-color: var(--fill-color);\n",
              "    }\n",
              "    90% {\n",
              "      border-color: transparent;\n",
              "      border-bottom-color: var(--fill-color);\n",
              "    }\n",
              "  }\n",
              "</style>\n",
              "\n",
              "  <script>\n",
              "    async function quickchart(key) {\n",
              "      const quickchartButtonEl =\n",
              "        document.querySelector('#' + key + ' button');\n",
              "      quickchartButtonEl.disabled = true;  // To prevent multiple clicks.\n",
              "      quickchartButtonEl.classList.add('colab-df-spinner');\n",
              "      try {\n",
              "        const charts = await google.colab.kernel.invokeFunction(\n",
              "            'suggestCharts', [key], {});\n",
              "      } catch (error) {\n",
              "        console.error('Error during call to suggestCharts:', error);\n",
              "      }\n",
              "      quickchartButtonEl.classList.remove('colab-df-spinner');\n",
              "      quickchartButtonEl.classList.add('colab-df-quickchart-complete');\n",
              "    }\n",
              "    (() => {\n",
              "      let quickchartButtonEl =\n",
              "        document.querySelector('#df-5a75f4d2-d583-4338-81d6-0730c0b617c0 button');\n",
              "      quickchartButtonEl.style.display =\n",
              "        google.colab.kernel.accessAllowed ? 'block' : 'none';\n",
              "    })();\n",
              "  </script>\n",
              "</div>\n",
              "\n",
              "    </div>\n",
              "  </div>\n"
            ],
            "application/vnd.google.colaboratory.intrinsic+json": {
              "type": "dataframe",
              "variable_name": "df"
            }
          },
          "metadata": {},
          "execution_count": 23
        }
      ]
    },
    {
      "cell_type": "code",
      "source": [
        "# Convert dataset to time-series format\n",
        "df_melted = df.melt(id_vars=[\"Branch Code\", \"Homogeneous Branches\", \"Energy Carriers\"],\n",
        "                     var_name=\"Year\",\n",
        "                     value_name=\"Energy Consumption\")\n",
        "\n",
        "# Convert Year column to integer type\n",
        "df_melted[\"Year\"] = df_melted[\"Year\"].astype(int)\n",
        "\n",
        "# Display the first few rows to verify the transformation\n",
        "df_melted.head()\n"
      ],
      "metadata": {
        "colab": {
          "base_uri": "https://localhost:8080/",
          "height": 310
        },
        "id": "XGrMqB75hwt1",
        "outputId": "c68aae27-bd7b-4277-aea8-3d536d349887"
      },
      "execution_count": null,
      "outputs": [
        {
          "output_type": "execute_result",
          "data": {
            "text/plain": [
              "  Branch Code                              Homogeneous Branches  \\\n",
              "0    CPA08-01  Products of agric., hunting and related services   \n",
              "1    CPA08-01  Products of agric., hunting and related services   \n",
              "2    CPA08-01  Products of agric., hunting and related services   \n",
              "3    CPA08-01  Products of agric., hunting and related services   \n",
              "4    CPA08-01  Products of agric., hunting and related services   \n",
              "\n",
              "                                Energy Carriers  Year  Energy Consumption  \n",
              "0              Hard coal and hard coal products  1995                 888  \n",
              "1  Brown coal (lignite) and brown coal products  1995                1477  \n",
              "2                                     Crude oil  1995                   0  \n",
              "3                                        Petrol  1995                4580  \n",
              "4                                  Diesel fuels  1995               94156  "
            ],
            "text/html": [
              "\n",
              "  <div id=\"df-a810e55e-c3ed-44e2-abcf-d60805da6a28\" class=\"colab-df-container\">\n",
              "    <div>\n",
              "<style scoped>\n",
              "    .dataframe tbody tr th:only-of-type {\n",
              "        vertical-align: middle;\n",
              "    }\n",
              "\n",
              "    .dataframe tbody tr th {\n",
              "        vertical-align: top;\n",
              "    }\n",
              "\n",
              "    .dataframe thead th {\n",
              "        text-align: right;\n",
              "    }\n",
              "</style>\n",
              "<table border=\"1\" class=\"dataframe\">\n",
              "  <thead>\n",
              "    <tr style=\"text-align: right;\">\n",
              "      <th></th>\n",
              "      <th>Branch Code</th>\n",
              "      <th>Homogeneous Branches</th>\n",
              "      <th>Energy Carriers</th>\n",
              "      <th>Year</th>\n",
              "      <th>Energy Consumption</th>\n",
              "    </tr>\n",
              "  </thead>\n",
              "  <tbody>\n",
              "    <tr>\n",
              "      <th>0</th>\n",
              "      <td>CPA08-01</td>\n",
              "      <td>Products of agric., hunting and related services</td>\n",
              "      <td>Hard coal and hard coal products</td>\n",
              "      <td>1995</td>\n",
              "      <td>888</td>\n",
              "    </tr>\n",
              "    <tr>\n",
              "      <th>1</th>\n",
              "      <td>CPA08-01</td>\n",
              "      <td>Products of agric., hunting and related services</td>\n",
              "      <td>Brown coal (lignite) and brown coal products</td>\n",
              "      <td>1995</td>\n",
              "      <td>1477</td>\n",
              "    </tr>\n",
              "    <tr>\n",
              "      <th>2</th>\n",
              "      <td>CPA08-01</td>\n",
              "      <td>Products of agric., hunting and related services</td>\n",
              "      <td>Crude oil</td>\n",
              "      <td>1995</td>\n",
              "      <td>0</td>\n",
              "    </tr>\n",
              "    <tr>\n",
              "      <th>3</th>\n",
              "      <td>CPA08-01</td>\n",
              "      <td>Products of agric., hunting and related services</td>\n",
              "      <td>Petrol</td>\n",
              "      <td>1995</td>\n",
              "      <td>4580</td>\n",
              "    </tr>\n",
              "    <tr>\n",
              "      <th>4</th>\n",
              "      <td>CPA08-01</td>\n",
              "      <td>Products of agric., hunting and related services</td>\n",
              "      <td>Diesel fuels</td>\n",
              "      <td>1995</td>\n",
              "      <td>94156</td>\n",
              "    </tr>\n",
              "  </tbody>\n",
              "</table>\n",
              "</div>\n",
              "    <div class=\"colab-df-buttons\">\n",
              "\n",
              "  <div class=\"colab-df-container\">\n",
              "    <button class=\"colab-df-convert\" onclick=\"convertToInteractive('df-a810e55e-c3ed-44e2-abcf-d60805da6a28')\"\n",
              "            title=\"Convert this dataframe to an interactive table.\"\n",
              "            style=\"display:none;\">\n",
              "\n",
              "  <svg xmlns=\"http://www.w3.org/2000/svg\" height=\"24px\" viewBox=\"0 -960 960 960\">\n",
              "    <path d=\"M120-120v-720h720v720H120Zm60-500h600v-160H180v160Zm220 220h160v-160H400v160Zm0 220h160v-160H400v160ZM180-400h160v-160H180v160Zm440 0h160v-160H620v160ZM180-180h160v-160H180v160Zm440 0h160v-160H620v160Z\"/>\n",
              "  </svg>\n",
              "    </button>\n",
              "\n",
              "  <style>\n",
              "    .colab-df-container {\n",
              "      display:flex;\n",
              "      gap: 12px;\n",
              "    }\n",
              "\n",
              "    .colab-df-convert {\n",
              "      background-color: #E8F0FE;\n",
              "      border: none;\n",
              "      border-radius: 50%;\n",
              "      cursor: pointer;\n",
              "      display: none;\n",
              "      fill: #1967D2;\n",
              "      height: 32px;\n",
              "      padding: 0 0 0 0;\n",
              "      width: 32px;\n",
              "    }\n",
              "\n",
              "    .colab-df-convert:hover {\n",
              "      background-color: #E2EBFA;\n",
              "      box-shadow: 0px 1px 2px rgba(60, 64, 67, 0.3), 0px 1px 3px 1px rgba(60, 64, 67, 0.15);\n",
              "      fill: #174EA6;\n",
              "    }\n",
              "\n",
              "    .colab-df-buttons div {\n",
              "      margin-bottom: 4px;\n",
              "    }\n",
              "\n",
              "    [theme=dark] .colab-df-convert {\n",
              "      background-color: #3B4455;\n",
              "      fill: #D2E3FC;\n",
              "    }\n",
              "\n",
              "    [theme=dark] .colab-df-convert:hover {\n",
              "      background-color: #434B5C;\n",
              "      box-shadow: 0px 1px 3px 1px rgba(0, 0, 0, 0.15);\n",
              "      filter: drop-shadow(0px 1px 2px rgba(0, 0, 0, 0.3));\n",
              "      fill: #FFFFFF;\n",
              "    }\n",
              "  </style>\n",
              "\n",
              "    <script>\n",
              "      const buttonEl =\n",
              "        document.querySelector('#df-a810e55e-c3ed-44e2-abcf-d60805da6a28 button.colab-df-convert');\n",
              "      buttonEl.style.display =\n",
              "        google.colab.kernel.accessAllowed ? 'block' : 'none';\n",
              "\n",
              "      async function convertToInteractive(key) {\n",
              "        const element = document.querySelector('#df-a810e55e-c3ed-44e2-abcf-d60805da6a28');\n",
              "        const dataTable =\n",
              "          await google.colab.kernel.invokeFunction('convertToInteractive',\n",
              "                                                    [key], {});\n",
              "        if (!dataTable) return;\n",
              "\n",
              "        const docLinkHtml = 'Like what you see? Visit the ' +\n",
              "          '<a target=\"_blank\" href=https://colab.research.google.com/notebooks/data_table.ipynb>data table notebook</a>'\n",
              "          + ' to learn more about interactive tables.';\n",
              "        element.innerHTML = '';\n",
              "        dataTable['output_type'] = 'display_data';\n",
              "        await google.colab.output.renderOutput(dataTable, element);\n",
              "        const docLink = document.createElement('div');\n",
              "        docLink.innerHTML = docLinkHtml;\n",
              "        element.appendChild(docLink);\n",
              "      }\n",
              "    </script>\n",
              "  </div>\n",
              "\n",
              "\n",
              "<div id=\"df-96cf8285-4606-433d-83d4-689c2e00bb77\">\n",
              "  <button class=\"colab-df-quickchart\" onclick=\"quickchart('df-96cf8285-4606-433d-83d4-689c2e00bb77')\"\n",
              "            title=\"Suggest charts\"\n",
              "            style=\"display:none;\">\n",
              "\n",
              "<svg xmlns=\"http://www.w3.org/2000/svg\" height=\"24px\"viewBox=\"0 0 24 24\"\n",
              "     width=\"24px\">\n",
              "    <g>\n",
              "        <path d=\"M19 3H5c-1.1 0-2 .9-2 2v14c0 1.1.9 2 2 2h14c1.1 0 2-.9 2-2V5c0-1.1-.9-2-2-2zM9 17H7v-7h2v7zm4 0h-2V7h2v10zm4 0h-2v-4h2v4z\"/>\n",
              "    </g>\n",
              "</svg>\n",
              "  </button>\n",
              "\n",
              "<style>\n",
              "  .colab-df-quickchart {\n",
              "      --bg-color: #E8F0FE;\n",
              "      --fill-color: #1967D2;\n",
              "      --hover-bg-color: #E2EBFA;\n",
              "      --hover-fill-color: #174EA6;\n",
              "      --disabled-fill-color: #AAA;\n",
              "      --disabled-bg-color: #DDD;\n",
              "  }\n",
              "\n",
              "  [theme=dark] .colab-df-quickchart {\n",
              "      --bg-color: #3B4455;\n",
              "      --fill-color: #D2E3FC;\n",
              "      --hover-bg-color: #434B5C;\n",
              "      --hover-fill-color: #FFFFFF;\n",
              "      --disabled-bg-color: #3B4455;\n",
              "      --disabled-fill-color: #666;\n",
              "  }\n",
              "\n",
              "  .colab-df-quickchart {\n",
              "    background-color: var(--bg-color);\n",
              "    border: none;\n",
              "    border-radius: 50%;\n",
              "    cursor: pointer;\n",
              "    display: none;\n",
              "    fill: var(--fill-color);\n",
              "    height: 32px;\n",
              "    padding: 0;\n",
              "    width: 32px;\n",
              "  }\n",
              "\n",
              "  .colab-df-quickchart:hover {\n",
              "    background-color: var(--hover-bg-color);\n",
              "    box-shadow: 0 1px 2px rgba(60, 64, 67, 0.3), 0 1px 3px 1px rgba(60, 64, 67, 0.15);\n",
              "    fill: var(--button-hover-fill-color);\n",
              "  }\n",
              "\n",
              "  .colab-df-quickchart-complete:disabled,\n",
              "  .colab-df-quickchart-complete:disabled:hover {\n",
              "    background-color: var(--disabled-bg-color);\n",
              "    fill: var(--disabled-fill-color);\n",
              "    box-shadow: none;\n",
              "  }\n",
              "\n",
              "  .colab-df-spinner {\n",
              "    border: 2px solid var(--fill-color);\n",
              "    border-color: transparent;\n",
              "    border-bottom-color: var(--fill-color);\n",
              "    animation:\n",
              "      spin 1s steps(1) infinite;\n",
              "  }\n",
              "\n",
              "  @keyframes spin {\n",
              "    0% {\n",
              "      border-color: transparent;\n",
              "      border-bottom-color: var(--fill-color);\n",
              "      border-left-color: var(--fill-color);\n",
              "    }\n",
              "    20% {\n",
              "      border-color: transparent;\n",
              "      border-left-color: var(--fill-color);\n",
              "      border-top-color: var(--fill-color);\n",
              "    }\n",
              "    30% {\n",
              "      border-color: transparent;\n",
              "      border-left-color: var(--fill-color);\n",
              "      border-top-color: var(--fill-color);\n",
              "      border-right-color: var(--fill-color);\n",
              "    }\n",
              "    40% {\n",
              "      border-color: transparent;\n",
              "      border-right-color: var(--fill-color);\n",
              "      border-top-color: var(--fill-color);\n",
              "    }\n",
              "    60% {\n",
              "      border-color: transparent;\n",
              "      border-right-color: var(--fill-color);\n",
              "    }\n",
              "    80% {\n",
              "      border-color: transparent;\n",
              "      border-right-color: var(--fill-color);\n",
              "      border-bottom-color: var(--fill-color);\n",
              "    }\n",
              "    90% {\n",
              "      border-color: transparent;\n",
              "      border-bottom-color: var(--fill-color);\n",
              "    }\n",
              "  }\n",
              "</style>\n",
              "\n",
              "  <script>\n",
              "    async function quickchart(key) {\n",
              "      const quickchartButtonEl =\n",
              "        document.querySelector('#' + key + ' button');\n",
              "      quickchartButtonEl.disabled = true;  // To prevent multiple clicks.\n",
              "      quickchartButtonEl.classList.add('colab-df-spinner');\n",
              "      try {\n",
              "        const charts = await google.colab.kernel.invokeFunction(\n",
              "            'suggestCharts', [key], {});\n",
              "      } catch (error) {\n",
              "        console.error('Error during call to suggestCharts:', error);\n",
              "      }\n",
              "      quickchartButtonEl.classList.remove('colab-df-spinner');\n",
              "      quickchartButtonEl.classList.add('colab-df-quickchart-complete');\n",
              "    }\n",
              "    (() => {\n",
              "      let quickchartButtonEl =\n",
              "        document.querySelector('#df-96cf8285-4606-433d-83d4-689c2e00bb77 button');\n",
              "      quickchartButtonEl.style.display =\n",
              "        google.colab.kernel.accessAllowed ? 'block' : 'none';\n",
              "    })();\n",
              "  </script>\n",
              "</div>\n",
              "\n",
              "    </div>\n",
              "  </div>\n"
            ],
            "application/vnd.google.colaboratory.intrinsic+json": {
              "type": "dataframe",
              "variable_name": "df_melted",
              "summary": "{\n  \"name\": \"df_melted\",\n  \"rows\": 14976,\n  \"fields\": [\n    {\n      \"column\": \"Branch Code\",\n      \"properties\": {\n        \"dtype\": \"category\",\n        \"num_unique_values\": 48,\n        \"samples\": [\n          \"CPA08-37-01\",\n          \"CPA08-K\",\n          \"CPA08-36-01\"\n        ],\n        \"semantic_type\": \"\",\n        \"description\": \"\"\n      }\n    },\n    {\n      \"column\": \"Homogeneous Branches\",\n      \"properties\": {\n        \"dtype\": \"category\",\n        \"num_unique_values\": 48,\n        \"samples\": [\n          \"Sewage, waste disposal, material recovery services\",\n          \"Financial and insurance services\",\n          \"Natural water, water treatment and supply servcies\"\n        ],\n        \"semantic_type\": \"\",\n        \"description\": \"\"\n      }\n    },\n    {\n      \"column\": \"Energy Carriers\",\n      \"properties\": {\n        \"dtype\": \"category\",\n        \"num_unique_values\": 12,\n        \"samples\": [\n          \"Renewable energies\",\n          \"Gases\",\n          \"Hard coal and hard coal products\"\n        ],\n        \"semantic_type\": \"\",\n        \"description\": \"\"\n      }\n    },\n    {\n      \"column\": \"Year\",\n      \"properties\": {\n        \"dtype\": \"number\",\n        \"std\": 7,\n        \"min\": 1995,\n        \"max\": 2020,\n        \"num_unique_values\": 26,\n        \"samples\": [\n          2003,\n          2011,\n          1995\n        ],\n        \"semantic_type\": \"\",\n        \"description\": \"\"\n      }\n    },\n    {\n      \"column\": \"Energy Consumption\",\n      \"properties\": {\n        \"dtype\": \"number\",\n        \"std\": 217833,\n        \"min\": -55,\n        \"max\": 4919545,\n        \"num_unique_values\": 6692,\n        \"samples\": [\n          7224,\n          2491,\n          42985\n        ],\n        \"semantic_type\": \"\",\n        \"description\": \"\"\n      }\n    }\n  ]\n}"
            }
          },
          "metadata": {},
          "execution_count": 24
        }
      ]
    },
    {
      "cell_type": "code",
      "source": [
        "df_total_yearly = df_melted.groupby(\"Year\")[\"Energy Consumption\"].sum().reset_index()\n",
        "print(df_total_yearly.head())  # Check the first few rows\n"
      ],
      "metadata": {
        "colab": {
          "base_uri": "https://localhost:8080/"
        },
        "id": "4zYXqVHlh1Fw",
        "outputId": "c099938a-60c5-41b7-8e2d-b811ac82cc75"
      },
      "execution_count": null,
      "outputs": [
        {
          "output_type": "stream",
          "name": "stdout",
          "text": [
            "   Year  Energy Consumption\n",
            "0  1995            18465426\n",
            "1  1996            18682027\n",
            "2  1997            18337400\n",
            "3  1998            18563438\n",
            "4  1999            18328142\n"
          ]
        }
      ]
    },
    {
      "cell_type": "code",
      "source": [
        "df_carrier_yearly = df_melted.groupby([\"Year\", \"Energy Carriers\"])[\"Energy Consumption\"].sum().reset_index()\n",
        "print(df_carrier_yearly.head())  # Check the first few rows\n"
      ],
      "metadata": {
        "colab": {
          "base_uri": "https://localhost:8080/"
        },
        "id": "Nw32yyn_h5FP",
        "outputId": "5ca6c30a-aa79-46de-8f62-55c08b0c6ed0"
      },
      "execution_count": null,
      "outputs": [
        {
          "output_type": "stream",
          "name": "stdout",
          "text": [
            "   Year                               Energy Carriers  Energy Consumption\n",
            "0  1995                         Aviation turbine fuel              299573\n",
            "1  1995  Brown coal (lignite) and brown coal products             1851506\n",
            "2  1995                                     Crude oil             4399992\n",
            "3  1995                                  Diesel fuels              855747\n",
            "4  1995          Electricity and other energy sources             3300078\n"
          ]
        }
      ]
    },
    {
      "cell_type": "code",
      "source": [
        "from sklearn.model_selection import train_test_split\n",
        "from sklearn.ensemble import RandomForestRegressor\n",
        "import numpy as np\n",
        "\n",
        "# Use aggregated dataset (df_carrier_yearly) for feature selection\n",
        "df_fs = df_carrier_yearly.copy()\n",
        "\n",
        "# Convert categorical 'Energy Carriers' column into numerical (One-Hot Encoding)\n",
        "df_fs = pd.get_dummies(df_fs, columns=[\"Energy Carriers\"])\n",
        "\n",
        "# Split into features (X) and target (y)\n",
        "X = df_fs.drop(columns=[\"Energy Consumption\", \"Year\"])  # Features (Energy carriers)\n",
        "y = df_fs[\"Energy Consumption\"]  # Target variable (Energy consumption)\n",
        "\n",
        "# Split dataset into training & test sets (80% train, 20% test)\n",
        "X_train, X_test, y_train, y_test = train_test_split(X, y, test_size=0.2, random_state=42)\n",
        "\n",
        "# Check dataset dimensions\n",
        "X_train.shape, X_test.shape, y_train.shape, y_test.shape\n"
      ],
      "metadata": {
        "colab": {
          "base_uri": "https://localhost:8080/"
        },
        "id": "nQo4fP36iEgb",
        "outputId": "7db9f8c5-30ab-449f-860a-1539d0f7bbd7"
      },
      "execution_count": null,
      "outputs": [
        {
          "output_type": "execute_result",
          "data": {
            "text/plain": [
              "((249, 12), (63, 12), (249,), (63,))"
            ]
          },
          "metadata": {},
          "execution_count": 27
        }
      ]
    },
    {
      "cell_type": "code",
      "source": [
        "import matplotlib.pyplot as plt\n",
        "\n",
        "# Train a Random Forest model\n",
        "rf_model = RandomForestRegressor(n_estimators=100, random_state=42)\n",
        "rf_model.fit(X_train, y_train)\n",
        "\n",
        "# Get feature importances\n",
        "feature_importances = rf_model.feature_importances_\n",
        "\n",
        "# Create a DataFrame to store results\n",
        "feature_df = pd.DataFrame({'Feature': X.columns, 'Importance': feature_importances})\n",
        "\n",
        "# Sort by importance\n",
        "feature_df = feature_df.sort_values(by='Importance', ascending=False)\n",
        "\n",
        "# Display feature importance\n",
        "print(feature_df)\n",
        "\n",
        "# Plot feature importance\n",
        "plt.figure(figsize=(12,6))\n",
        "plt.barh(feature_df['Feature'], feature_df['Importance'], color='blue')\n",
        "plt.xlabel(\"Feature Importance Score\")\n",
        "plt.ylabel(\"Features\")\n",
        "plt.title(\"Feature Importance using Random Forest\")\n",
        "plt.gca().invert_yaxis()  # Reverse order\n",
        "plt.show()\n"
      ],
      "metadata": {
        "colab": {
          "base_uri": "https://localhost:8080/",
          "height": 612
        },
        "id": "SE87dzvWiJF7",
        "outputId": "9949d1ce-135b-49bc-d271-b3647aa5791c"
      },
      "execution_count": null,
      "outputs": [
        {
          "output_type": "stream",
          "name": "stdout",
          "text": [
            "                                              Feature  Importance\n",
            "2                           Energy Carriers_Crude oil    0.517468\n",
            "4   Energy Carriers_Electricity and other energy s...    0.214479\n",
            "5                               Energy Carriers_Gases    0.089459\n",
            "6    Energy Carriers_Hard coal and hard coal products    0.079201\n",
            "1   Energy Carriers_Brown coal (lignite) and brown...    0.047128\n",
            "9          Energy Carriers_Other mineral oil products    0.028410\n",
            "3                        Energy Carriers_Diesel fuels    0.008584\n",
            "11                 Energy Carriers_Renewable energies    0.008558\n",
            "10                             Energy Carriers_Petrol    0.005414\n",
            "0               Energy Carriers_Aviation turbine fuel    0.000703\n",
            "8                      Energy Carriers_Heavy fuel oil    0.000429\n",
            "7                         Energy Carriers_Heating oil    0.000168\n"
          ]
        },
        {
          "output_type": "display_data",
          "data": {
            "text/plain": [
              "<Figure size 1200x600 with 1 Axes>"
            ],
            "image/png": "[encoded data removed]"
          },
          "metadata": {}
        }
      ]
    },
    {
      "cell_type": "code",
      "source": [
        "from xgboost import XGBRegressor\n",
        "\n",
        "# Train an XGBoost model\n",
        "xgb_model = XGBRegressor(n_estimators=100, random_state=42)\n",
        "xgb_model.fit(X_train, y_train)\n",
        "\n",
        "# Get feature importance from XGBoost\n",
        "xgb_importances = xgb_model.feature_importances_\n",
        "\n",
        "# Create a DataFrame for XGBoost results\n",
        "xgb_feature_df = pd.DataFrame({'Feature': X.columns, 'Importance': xgb_importances})\n",
        "\n",
        "# Sort by importance\n",
        "xgb_feature_df = xgb_feature_df.sort_values(by='Importance', ascending=False)\n",
        "\n",
        "# Display XGBoost feature importance\n",
        "print(xgb_feature_df)\n",
        "\n",
        "# Plot XGBoost feature importance\n",
        "plt.figure(figsize=(12,6))\n",
        "plt.barh(xgb_feature_df['Feature'], xgb_feature_df['Importance'], color='green')\n",
        "plt.xlabel(\"Feature Importance Score\")\n",
        "plt.ylabel(\"Features\")\n",
        "plt.title(\"Feature Importance using XGBoost\")\n",
        "plt.gca().invert_yaxis()\n",
        "plt.show()\n"
      ],
      "metadata": {
        "colab": {
          "base_uri": "https://localhost:8080/",
          "height": 612
        },
        "id": "2uF_sJgHiVte",
        "outputId": "f30dbeba-413c-446b-e401-f3b45fed3203"
      },
      "execution_count": null,
      "outputs": [
        {
          "output_type": "stream",
          "name": "stdout",
          "text": [
            "                                              Feature    Importance\n",
            "2                           Energy Carriers_Crude oil  2.844082e-01\n",
            "6    Energy Carriers_Hard coal and hard coal products  2.802884e-01\n",
            "1   Energy Carriers_Brown coal (lignite) and brown...  1.763575e-01\n",
            "4   Energy Carriers_Electricity and other energy s...  1.332583e-01\n",
            "5                               Energy Carriers_Gases  4.488510e-02\n",
            "10                             Energy Carriers_Petrol  2.788215e-02\n",
            "9          Energy Carriers_Other mineral oil products  1.850557e-02\n",
            "0               Energy Carriers_Aviation turbine fuel  1.231504e-02\n",
            "7                         Energy Carriers_Heating oil  1.133005e-02\n",
            "8                      Energy Carriers_Heavy fuel oil  1.075887e-02\n",
            "11                 Energy Carriers_Renewable energies  1.056949e-05\n",
            "3                        Energy Carriers_Diesel fuels  1.401135e-07\n"
          ]
        },
        {
          "output_type": "display_data",
          "data": {
            "text/plain": [
              "<Figure size 1200x600 with 1 Axes>"
            ],
            "image/png": "[encoded data removed]"
          },
          "metadata": {}
        }
      ]
    },
    {
      "cell_type": "code",
      "source": [
        "import pandas as pd\n",
        "import numpy as np\n",
        "from xgboost import XGBRegressor\n",
        "from sklearn.model_selection import train_test_split\n",
        "from sklearn.metrics import mean_squared_error, mean_absolute_percentage_error\n",
        "import matplotlib.pyplot as plt\n",
        "\n",
        "# Select only the most important features\n",
        "important_features = [\n",
        "    \"Energy Carriers_Crude oil\",\n",
        "    \"Energy Carriers_Electricity and other energy sources\",\n",
        "    \"Energy Carriers_Hard coal and hard coal products\",\n",
        "    \"Energy Carriers_Brown coal (lignite) and brown coal products\",\n",
        "    \"Energy Carriers_Gases\",\n",
        "    \"Energy Carriers_Petrol\",\n",
        "    \"Energy Carriers_Other mineral oil products\"\n",
        "]\n",
        "\n",
        "# Filter dataset to include only these features\n",
        "df_filtered = df_carrier_yearly[df_carrier_yearly[\"Energy Carriers\"].isin([\n",
        "    \"Crude oil\",\n",
        "    \"Electricity and other energy sources\",\n",
        "    \"Hard coal and hard coal products\",\n",
        "    \"Brown coal (lignite) and brown coal products\",\n",
        "    \"Gases\",\n",
        "    \"Petrol\",\n",
        "    \"Other mineral oil products\"\n",
        "])]\n",
        "\n",
        "# Pivot table to get time-series format (Years as index, Energy Carriers as columns)\n",
        "df_pivot = df_filtered.pivot(index=\"Year\", columns=\"Energy Carriers\", values=\"Energy Consumption\").fillna(0)\n",
        "\n",
        "# Create target variable (energy consumption for next year)\n",
        "df_pivot[\"Target\"] = df_pivot.shift(-1)[\"Crude oil\"]  # Using crude oil as target for now\n",
        "\n",
        "# Drop last row (since it has NaN in target column)\n",
        "df_pivot = df_pivot.iloc[:-1]\n",
        "\n",
        "# Define features (X) and target (y)\n",
        "X = df_pivot.drop(columns=[\"Target\"])  # Features\n",
        "y = df_pivot[\"Target\"]  # Target variable\n",
        "\n",
        "# Split dataset into train and test sets (80% train, 20% test)\n",
        "X_train, X_test, y_train, y_test = train_test_split(X, y, test_size=0.2, random_state=42, shuffle=False)\n",
        "\n",
        "# Check data structure\n",
        "print(X_train.shape, X_test.shape, y_train.shape, y_test.shape)\n"
      ],
      "metadata": {
        "colab": {
          "base_uri": "https://localhost:8080/"
        },
        "id": "v7SbAGl5iuSF",
        "outputId": "1df12cd0-bd2c-49eb-87fe-a1c7ab170c14"
      },
      "execution_count": null,
      "outputs": [
        {
          "output_type": "stream",
          "name": "stdout",
          "text": [
            "(20, 7) (5, 7) (20,) (5,)\n"
          ]
        }
      ]
    },
    {
      "cell_type": "code",
      "source": [
        "# Train an XGBoost model\n",
        "xgb_model = XGBRegressor(n_estimators=100, learning_rate=0.05, random_state=42)\n",
        "xgb_model.fit(X_train, y_train)\n",
        "\n",
        "# Predict energy consumption for test set\n",
        "y_pred = xgb_model.predict(X_test)\n",
        "\n",
        "# Evaluate performance\n",
        "mse = mean_squared_error(y_test, y_pred)\n",
        "rmse = np.sqrt(mse)\n",
        "mape = mean_absolute_percentage_error(y_test, y_pred)\n",
        "\n",
        "print(f\"XGBoost Performance:\\nMSE: {mse}\\nRMSE: {rmse}\\nMAPE: {mape*100:.2f}%\")\n"
      ],
      "metadata": {
        "colab": {
          "base_uri": "https://localhost:8080/"
        },
        "id": "B0sSf4OLiyDx",
        "outputId": "a66303d7-b736-406f-b2e9-0cae8d2c6df9"
      },
      "execution_count": null,
      "outputs": [
        {
          "output_type": "stream",
          "name": "stdout",
          "text": [
            "XGBoost Performance:\n",
            "MSE: 75825046480.1\n",
            "RMSE: 275363.4806580205\n",
            "MAPE: 5.84%\n"
          ]
        }
      ]
    },
    {
      "cell_type": "code",
      "source": [
        "# Create future years (2021-2030)\n",
        "future_years = np.arange(2021, 2031)\n",
        "\n",
        "# Predict energy consumption for future years\n",
        "future_predictions = []\n",
        "current_data = X.iloc[-1:].values  # Start with the last available data\n",
        "\n",
        "for year in future_years:\n",
        "    next_prediction = xgb_model.predict(current_data)[0]\n",
        "    future_predictions.append(next_prediction)\n",
        "\n",
        "    # Update current data for the next prediction\n",
        "    current_data = np.roll(current_data, -1, axis=0)  # Shift data\n",
        "    current_data[0, 0] = next_prediction  # Replace the oldest value with the new prediction\n",
        "\n",
        "# Create DataFrame for future predictions\n",
        "df_forecast = pd.DataFrame({\"Year\": future_years, \"Predicted Energy Consumption\": future_predictions})\n",
        "\n",
        "# Display results\n",
        "print(df_forecast)\n",
        "\n",
        "# Plot the results\n",
        "plt.figure(figsize=(10, 5))\n",
        "plt.plot(df_pivot.index, df_pivot[\"Crude oil\"], label=\"Actual (1995-2020)\", marker='o')\n",
        "plt.plot(df_forecast[\"Year\"], df_forecast[\"Predicted Energy Consumption\"], label=\"Forecast (2021-2030)\", linestyle='dashed', marker='o', color='red')\n",
        "plt.xlabel(\"Year\")\n",
        "plt.ylabel(\"Energy Consumption\")\n",
        "plt.title(\"Energy Consumption Forecast (2021-2030) using XGBoost\")\n",
        "plt.legend()\n",
        "plt.grid(True)\n",
        "plt.show()\n"
      ],
      "metadata": {
        "colab": {
          "base_uri": "https://localhost:8080/",
          "height": 686
        },
        "id": "M7gg-FiDi1yz",
        "outputId": "b73ea38e-ea47-4ef4-de1e-030c95c2398f"
      },
      "execution_count": null,
      "outputs": [
        {
          "output_type": "stream",
          "name": "stdout",
          "text": [
            "   Year  Predicted Energy Consumption\n",
            "0  2021                    4036126.25\n",
            "1  2022                    4002111.75\n",
            "2  2023                    4002111.75\n",
            "3  2024                    4002111.75\n",
            "4  2025                    4002111.75\n",
            "5  2026                    4002111.75\n",
            "6  2027                    4002111.75\n",
            "7  2028                    4002111.75\n",
            "8  2029                    4002111.75\n",
            "9  2030                    4002111.75\n"
          ]
        },
        {
          "output_type": "display_data",
          "data": {
            "text/plain": [
              "<Figure size 1000x500 with 1 Axes>"
            ],
            "image/png": "[encoded data removed]"
          },
          "metadata": {}
        }
      ]
    },
    {
      "cell_type": "code",
      "source": [],
      "metadata": {
        "id": "LLpVtza9FRpb"
      },
      "execution_count": null,
      "outputs": []
    },
    {
      "cell_type": "code",
      "source": [
        "# Create lag features (past values)\n",
        "for lag in range(1, 4):  # Using 3 past years as features\n",
        "    df_pivot[f\"Lag_{lag}\"] = df_pivot[\"Crude oil\"].shift(lag)\n",
        "\n",
        "# Drop NaN rows created by shifting\n",
        "df_pivot = df_pivot.dropna()\n",
        "\n",
        "# Update X and y\n",
        "X = df_pivot.drop(columns=[\"Target\"])  # Features\n",
        "y = df_pivot[\"Target\"]  # Target variable\n",
        "\n",
        "# Split data\n",
        "X_train, X_test, y_train, y_test = train_test_split(X, y, test_size=0.2, random_state=42, shuffle=False)\n"
      ],
      "metadata": {
        "id": "oaNx6g-0jc2d"
      },
      "execution_count": null,
      "outputs": []
    },
    {
      "cell_type": "code",
      "source": [
        "from xgboost import XGBRegressor\n",
        "from sklearn.model_selection import RandomizedSearchCV\n",
        "\n",
        "# Define hyperparameter grid\n",
        "param_grid = {\n",
        "    'n_estimators': [100, 200, 300],\n",
        "    'learning_rate': [0.01, 0.05, 0.1],\n",
        "    'max_depth': [3, 5, 7],\n",
        "    'subsample': [0.7, 0.8, 0.9],\n",
        "    'colsample_bytree': [0.7, 0.8, 0.9]\n",
        "}\n",
        "\n",
        "# Initialize model\n",
        "xgb_model = XGBRegressor(random_state=42)\n",
        "\n",
        "# Perform Randomized Search for best parameters\n",
        "random_search = RandomizedSearchCV(xgb_model, param_distributions=param_grid,\n",
        "                                   n_iter=20, cv=3, scoring='neg_mean_squared_error', n_jobs=-1)\n",
        "\n",
        "# Fit model\n",
        "random_search.fit(X_train, y_train)\n",
        "\n",
        "# Get best parameters\n",
        "best_params = random_search.best_params_\n",
        "print(\"Best Parameters:\", best_params)\n",
        "\n",
        "# Train model with best parameters\n",
        "xgb_optimized = XGBRegressor(**best_params, random_state=42)\n",
        "xgb_optimized.fit(X_train, y_train)\n"
      ],
      "metadata": {
        "colab": {
          "base_uri": "https://localhost:8080/",
          "height": 368
        },
        "id": "jHXMNSL7jhO9",
        "outputId": "81c950ab-734a-403e-d172-d223429159da"
      },
      "execution_count": null,
      "outputs": [
        {
          "output_type": "error",
          "ename": "AttributeError",
          "evalue": "'super' object has no attribute '__sklearn_tags__'",
          "traceback": [
            "\u001b[0;31m---------------------------------------------------------------------------\u001b[0m",
            "\u001b[0;31mAttributeError\u001b[0m                            Traceback (most recent call last)",
            "\u001b[0;32m<ipython-input-34-b746c5ee54a4>\u001b[0m in \u001b[0;36m<cell line: 0>\u001b[0;34m()\u001b[0m\n\u001b[1;32m     19\u001b[0m \u001b[0;34m\u001b[0m\u001b[0m\n\u001b[1;32m     20\u001b[0m \u001b[0;31m# Fit model\u001b[0m\u001b[0;34m\u001b[0m\u001b[0;34m\u001b[0m\u001b[0m\n\u001b[0;32m---> 21\u001b[0;31m \u001b[0mrandom_search\u001b[0m\u001b[0;34m.\u001b[0m\u001b[0mfit\u001b[0m\u001b[0;34m(\u001b[0m\u001b[0mX_train\u001b[0m\u001b[0;34m,\u001b[0m \u001b[0my_train\u001b[0m\u001b[0;34m)\u001b[0m\u001b[0;34m\u001b[0m\u001b[0;34m\u001b[0m\u001b[0m\n\u001b[0m\u001b[1;32m     22\u001b[0m \u001b[0;34m\u001b[0m\u001b[0m\n\u001b[1;32m     23\u001b[0m \u001b[0;31m# Get best parameters\u001b[0m\u001b[0;34m\u001b[0m\u001b[0;34m\u001b[0m\u001b[0m\n",
            "\u001b[0;32m/usr/local/lib/python3.11/dist-packages/sklearn/base.py\u001b[0m in \u001b[0;36mwrapper\u001b[0;34m(estimator, *args, **kwargs)\u001b[0m\n\u001b[1;32m   1387\u001b[0m                 )\n\u001b[1;32m   1388\u001b[0m             ):\n\u001b[0;32m-> 1389\u001b[0;31m                 \u001b[0;32mreturn\u001b[0m \u001b[0mfit_method\u001b[0m\u001b[0;34m(\u001b[0m\u001b[0mestimator\u001b[0m\u001b[0;34m,\u001b[0m \u001b[0;34m*\u001b[0m\u001b[0margs\u001b[0m\u001b[0;34m,\u001b[0m \u001b[0;34m**\u001b[0m\u001b[0mkwargs\u001b[0m\u001b[0;34m)\u001b[0m\u001b[0;34m\u001b[0m\u001b[0;34m\u001b[0m\u001b[0m\n\u001b[0m\u001b[1;32m   1390\u001b[0m \u001b[0;34m\u001b[0m\u001b[0m\n\u001b[1;32m   1391\u001b[0m         \u001b[0;32mreturn\u001b[0m \u001b[0mwrapper\u001b[0m\u001b[0;34m\u001b[0m\u001b[0;34m\u001b[0m\u001b[0m\n",
            "\u001b[0;32m/usr/local/lib/python3.11/dist-packages/sklearn/model_selection/_search.py\u001b[0m in \u001b[0;36mfit\u001b[0;34m(self, X, y, **params)\u001b[0m\n\u001b[1;32m    931\u001b[0m         \u001b[0mrouted_params\u001b[0m \u001b[0;34m=\u001b[0m \u001b[0mself\u001b[0m\u001b[0;34m.\u001b[0m\u001b[0m_get_routed_params_for_fit\u001b[0m\u001b[0;34m(\u001b[0m\u001b[0mparams\u001b[0m\u001b[0;34m)\u001b[0m\u001b[0;34m\u001b[0m\u001b[0;34m\u001b[0m\u001b[0m\n\u001b[1;32m    932\u001b[0m \u001b[0;34m\u001b[0m\u001b[0m\n\u001b[0;32m--> 933\u001b[0;31m         \u001b[0mcv_orig\u001b[0m \u001b[0;34m=\u001b[0m \u001b[0mcheck_cv\u001b[0m\u001b[0;34m(\u001b[0m\u001b[0mself\u001b[0m\u001b[0;34m.\u001b[0m\u001b[0mcv\u001b[0m\u001b[0;34m,\u001b[0m \u001b[0my\u001b[0m\u001b[0;34m,\u001b[0m \u001b[0mclassifier\u001b[0m\u001b[0;34m=\u001b[0m\u001b[0mis_classifier\u001b[0m\u001b[0;34m(\u001b[0m\u001b[0mestimator\u001b[0m\u001b[0;34m)\u001b[0m\u001b[0;34m)\u001b[0m\u001b[0;34m\u001b[0m\u001b[0;34m\u001b[0m\u001b[0m\n\u001b[0m\u001b[1;32m    934\u001b[0m         \u001b[0mn_splits\u001b[0m \u001b[0;34m=\u001b[0m \u001b[0mcv_orig\u001b[0m\u001b[0;34m.\u001b[0m\u001b[0mget_n_splits\u001b[0m\u001b[0;34m(\u001b[0m\u001b[0mX\u001b[0m\u001b[0;34m,\u001b[0m \u001b[0my\u001b[0m\u001b[0;34m,\u001b[0m \u001b[0;34m**\u001b[0m\u001b[0mrouted_params\u001b[0m\u001b[0;34m.\u001b[0m\u001b[0msplitter\u001b[0m\u001b[0;34m.\u001b[0m\u001b[0msplit\u001b[0m\u001b[0;34m)\u001b[0m\u001b[0;34m\u001b[0m\u001b[0;34m\u001b[0m\u001b[0m\n\u001b[1;32m    935\u001b[0m \u001b[0;34m\u001b[0m\u001b[0m\n",
            "\u001b[0;32m/usr/local/lib/python3.11/dist-packages/sklearn/base.py\u001b[0m in \u001b[0;36mis_classifier\u001b[0;34m(estimator)\u001b[0m\n\u001b[1;32m   1235\u001b[0m         \u001b[0;32mreturn\u001b[0m \u001b[0mgetattr\u001b[0m\u001b[0;34m(\u001b[0m\u001b[0mestimator\u001b[0m\u001b[0;34m,\u001b[0m \u001b[0;34m\"_estimator_type\"\u001b[0m\u001b[0;34m,\u001b[0m \u001b[0;32mNone\u001b[0m\u001b[0;34m)\u001b[0m \u001b[0;34m==\u001b[0m \u001b[0;34m\"classifier\"\u001b[0m\u001b[0;34m\u001b[0m\u001b[0;34m\u001b[0m\u001b[0m\n\u001b[1;32m   1236\u001b[0m \u001b[0;34m\u001b[0m\u001b[0m\n\u001b[0;32m-> 1237\u001b[0;31m     \u001b[0;32mreturn\u001b[0m \u001b[0mget_tags\u001b[0m\u001b[0;34m(\u001b[0m\u001b[0mestimator\u001b[0m\u001b[0;34m)\u001b[0m\u001b[0;34m.\u001b[0m\u001b[0mestimator_type\u001b[0m \u001b[0;34m==\u001b[0m \u001b[0;34m\"classifier\"\u001b[0m\u001b[0;34m\u001b[0m\u001b[0;34m\u001b[0m\u001b[0m\n\u001b[0m\u001b[1;32m   1238\u001b[0m \u001b[0;34m\u001b[0m\u001b[0m\n\u001b[1;32m   1239\u001b[0m \u001b[0;34m\u001b[0m\u001b[0m\n",
            "\u001b[0;32m/usr/local/lib/python3.11/dist-packages/sklearn/utils/_tags.py\u001b[0m in \u001b[0;36mget_tags\u001b[0;34m(estimator)\u001b[0m\n\u001b[1;32m    428\u001b[0m         \u001b[0;32mfor\u001b[0m \u001b[0mklass\u001b[0m \u001b[0;32min\u001b[0m \u001b[0mreversed\u001b[0m\u001b[0;34m(\u001b[0m\u001b[0mtype\u001b[0m\u001b[0;34m(\u001b[0m\u001b[0mestimator\u001b[0m\u001b[0;34m)\u001b[0m\u001b[0;34m.\u001b[0m\u001b[0mmro\u001b[0m\u001b[0;34m(\u001b[0m\u001b[0;34m)\u001b[0m\u001b[0;34m)\u001b[0m\u001b[0;34m:\u001b[0m\u001b[0;34m\u001b[0m\u001b[0;34m\u001b[0m\u001b[0m\n\u001b[1;32m    429\u001b[0m             \u001b[0;32mif\u001b[0m \u001b[0;34m\"__sklearn_tags__\"\u001b[0m \u001b[0;32min\u001b[0m \u001b[0mvars\u001b[0m\u001b[0;34m(\u001b[0m\u001b[0mklass\u001b[0m\u001b[0;34m)\u001b[0m\u001b[0;34m:\u001b[0m\u001b[0;34m\u001b[0m\u001b[0;34m\u001b[0m\u001b[0m\n\u001b[0;32m--> 430\u001b[0;31m                 \u001b[0msklearn_tags_provider\u001b[0m\u001b[0;34m[\u001b[0m\u001b[0mklass\u001b[0m\u001b[0;34m]\u001b[0m \u001b[0;34m=\u001b[0m \u001b[0mklass\u001b[0m\u001b[0;34m.\u001b[0m\u001b[0m__sklearn_tags__\u001b[0m\u001b[0;34m(\u001b[0m\u001b[0mestimator\u001b[0m\u001b[0;34m)\u001b[0m  \u001b[0;31m# type: ignore[attr-defined]\u001b[0m\u001b[0;34m\u001b[0m\u001b[0;34m\u001b[0m\u001b[0m\n\u001b[0m\u001b[1;32m    431\u001b[0m                 \u001b[0mclass_order\u001b[0m\u001b[0;34m.\u001b[0m\u001b[0mappend\u001b[0m\u001b[0;34m(\u001b[0m\u001b[0mklass\u001b[0m\u001b[0;34m)\u001b[0m\u001b[0;34m\u001b[0m\u001b[0;34m\u001b[0m\u001b[0m\n\u001b[1;32m    432\u001b[0m             \u001b[0;32melif\u001b[0m \u001b[0;34m\"_more_tags\"\u001b[0m \u001b[0;32min\u001b[0m \u001b[0mvars\u001b[0m\u001b[0;34m(\u001b[0m\u001b[0mklass\u001b[0m\u001b[0;34m)\u001b[0m\u001b[0;34m:\u001b[0m\u001b[0;34m\u001b[0m\u001b[0;34m\u001b[0m\u001b[0m\n",
            "\u001b[0;32m/usr/local/lib/python3.11/dist-packages/sklearn/base.py\u001b[0m in \u001b[0;36m__sklearn_tags__\u001b[0;34m(self)\u001b[0m\n\u001b[1;32m    611\u001b[0m \u001b[0;34m\u001b[0m\u001b[0m\n\u001b[1;32m    612\u001b[0m     \u001b[0;32mdef\u001b[0m \u001b[0m__sklearn_tags__\u001b[0m\u001b[0;34m(\u001b[0m\u001b[0mself\u001b[0m\u001b[0;34m)\u001b[0m\u001b[0;34m:\u001b[0m\u001b[0;34m\u001b[0m\u001b[0;34m\u001b[0m\u001b[0m\n\u001b[0;32m--> 613\u001b[0;31m         \u001b[0mtags\u001b[0m \u001b[0;34m=\u001b[0m \u001b[0msuper\u001b[0m\u001b[0;34m(\u001b[0m\u001b[0;34m)\u001b[0m\u001b[0;34m.\u001b[0m\u001b[0m__sklearn_tags__\u001b[0m\u001b[0;34m(\u001b[0m\u001b[0;34m)\u001b[0m\u001b[0;34m\u001b[0m\u001b[0;34m\u001b[0m\u001b[0m\n\u001b[0m\u001b[1;32m    614\u001b[0m         \u001b[0mtags\u001b[0m\u001b[0;34m.\u001b[0m\u001b[0mestimator_type\u001b[0m \u001b[0;34m=\u001b[0m \u001b[0;34m\"regressor\"\u001b[0m\u001b[0;34m\u001b[0m\u001b[0;34m\u001b[0m\u001b[0m\n\u001b[1;32m    615\u001b[0m         \u001b[0mtags\u001b[0m\u001b[0;34m.\u001b[0m\u001b[0mregressor_tags\u001b[0m \u001b[0;34m=\u001b[0m \u001b[0mRegressorTags\u001b[0m\u001b[0;34m(\u001b[0m\u001b[0;34m)\u001b[0m\u001b[0;34m\u001b[0m\u001b[0;34m\u001b[0m\u001b[0m\n",
            "\u001b[0;31mAttributeError\u001b[0m: 'super' object has no attribute '__sklearn_tags__'"
          ]
        }
      ]
    },
    {
      "cell_type": "code",
      "source": [
        "import sklearn\n",
        "import xgboost\n",
        "\n",
        "print(\"Scikit-Learn Version:\", sklearn.__version__)\n",
        "print(\"XGBoost Version:\", xgboost.__version__)\n"
      ],
      "metadata": {
        "id": "l4F7twiTkQpP"
      },
      "execution_count": null,
      "outputs": []
    },
    {
      "cell_type": "code",
      "source": [],
      "metadata": {
        "id": "BRQrz9QokVOd"
      },
      "execution_count": null,
      "outputs": []
    },
    {
      "cell_type": "code",
      "source": [
        "!pip install --upgrade scikit-learn\n",
        "!pip install --upgrade xgboost\n"
      ],
      "metadata": {
        "id": "O32CMr3Jj6XO"
      },
      "execution_count": null,
      "outputs": []
    },
    {
      "cell_type": "code",
      "source": [
        "from xgboost import XGBRegressor\n",
        "from sklearn.model_selection import RandomizedSearchCV\n",
        "\n",
        "# Define hyperparameter grid\n",
        "param_grid = {\n",
        "    'n_estimators': [100, 200, 300],\n",
        "    'learning_rate': [0.01, 0.05, 0.1],\n",
        "    'max_depth': [3, 5, 7],\n",
        "    'subsample': [0.7, 0.8, 0.9],\n",
        "    'colsample_bytree': [0.7, 0.8, 0.9]\n",
        "}\n",
        "\n",
        "# Initialize model\n",
        "xgb_model = XGBRegressor(random_state=42)\n",
        "\n",
        "# Perform Randomized Search for best parameters\n",
        "random_search = RandomizedSearchCV(xgb_model, param_distributions=param_grid,\n",
        "                                   n_iter=20, cv=3, scoring='neg_mean_squared_error', n_jobs=-1)\n",
        "\n",
        "# Fit model (This should work now!)\n",
        "random_search.fit(X_train, y_train)\n",
        "\n",
        "# Get best parameters\n",
        "best_params = random_search.best_params_\n",
        "print(\"Best Parameters:\", best_params)\n"
      ],
      "metadata": {
        "id": "Sdr3umWki5ty"
      },
      "execution_count": null,
      "outputs": []
    },
    {
      "cell_type": "code",
      "source": [],
      "metadata": {
        "id": "wF2iLdnpGGHs"
      },
      "execution_count": null,
      "outputs": []
    },
    {
      "cell_type": "code",
      "source": [
        "# Convert dataset into time-series format\n",
        "df_melted = df.melt(id_vars=[\"Branch Code\", \"Homogeneous Branches\", \"Energy Carriers\"],\n",
        "                     var_name=\"Year\",\n",
        "                     value_name=\"Energy Consumption\")\n",
        "\n",
        "df_melted[\"Year\"] = df_melted[\"Year\"].astype(int)\n",
        "\n",
        "# Aggregate total energy consumption per energy carrier per year\n",
        "df_carrier_yearly = df_melted.groupby([\"Year\", \"Energy Carriers\"])[\"Energy Consumption\"].sum().reset_index()\n",
        "\n",
        "# Pivot table for time-series format\n",
        "df_pivot = df_carrier_yearly.pivot(index=\"Year\", columns=\"Energy Carriers\", values=\"Energy Consumption\").fillna(0)\n",
        "\n",
        "# Create lag features\n",
        "for lag in range(1, 4):\n",
        "    df_pivot[f\"Lag_{lag}\"] = df_pivot[\"Crude oil\"].shift(lag)\n",
        "\n",
        "df_pivot = df_pivot.dropna()\n",
        "\n",
        "# Define Features (X) and Target (y)\n",
        "X = df_pivot.drop(columns=[\"Crude oil\"])  # Use other features except the target\n",
        "y = df_pivot[\"Crude oil\"]\n",
        "\n",
        "# Split dataset\n",
        "from sklearn.model_selection import train_test_split\n",
        "X_train, X_test, y_train, y_test = train_test_split(X, y, test_size=0.2, random_state=42, shuffle=False)\n",
        "\n",
        "print(\"Dataset Recreated Successfully!\")\n"
      ],
      "metadata": {
        "id": "MV1fhekVlTly"
      },
      "execution_count": null,
      "outputs": []
    },
    {
      "cell_type": "code",
      "source": [
        "from xgboost import XGBRegressor\n",
        "from sklearn.model_selection import RandomizedSearchCV\n",
        "\n",
        "# Define hyperparameter grid\n",
        "param_grid = {\n",
        "    'n_estimators': [100, 200, 300],\n",
        "    'learning_rate': [0.01, 0.05, 0.1],\n",
        "    'max_depth': [3, 5, 7],\n",
        "    'subsample': [0.7, 0.8, 0.9],\n",
        "    'colsample_bytree': [0.7, 0.8, 0.9]\n",
        "}\n",
        "\n",
        "# Initialize model\n",
        "xgb_model = XGBRegressor(random_state=42)\n",
        "\n",
        "# Perform Randomized Search for best parameters\n",
        "random_search = RandomizedSearchCV(xgb_model, param_distributions=param_grid,\n",
        "                                   n_iter=20, cv=3, scoring='neg_mean_squared_error', n_jobs=-1)\n",
        "\n",
        "# Fit model (Now this should work!)\n",
        "random_search.fit(X_train, y_train)\n",
        "\n",
        "# Get best parameters\n",
        "best_params = random_search.best_params_\n",
        "print(\"Best Parameters:\", best_params)\n"
      ],
      "metadata": {
        "id": "28RDPS_ClWqH"
      },
      "execution_count": null,
      "outputs": []
    },
    {
      "cell_type": "code",
      "source": [
        "!pip install --upgrade scikit-learn\n",
        "!pip install --upgrade xgboost\n",
        "!pip install --upgrade --force-reinstall scikit-learn\n"
      ],
      "metadata": {
        "id": "2Ys2hEI4l_Kv"
      },
      "execution_count": null,
      "outputs": []
    },
    {
      "cell_type": "code",
      "source": [
        "import sklearn\n",
        "import xgboost\n",
        "\n",
        "print(\"Scikit-Learn Version:\", sklearn.__version__)\n",
        "print(\"XGBoost Version:\", xgboost.__version__)\n"
      ],
      "metadata": {
        "id": "mYugamMCmaij"
      },
      "execution_count": null,
      "outputs": []
    },
    {
      "cell_type": "code",
      "source": [
        "from xgboost import XGBRegressor\n",
        "from sklearn.model_selection import RandomizedSearchCV\n",
        "\n",
        "# Define hyperparameter grid\n",
        "param_grid = {\n",
        "    'n_estimators': [100, 200, 300],\n",
        "    'learning_rate': [0.01, 0.05, 0.1],\n",
        "    'max_depth': [3, 5, 7],\n",
        "    'subsample': [0.7, 0.8, 0.9],\n",
        "    'colsample_bytree': [0.7, 0.8, 0.9]\n",
        "}\n",
        "\n",
        "# Initialize model\n",
        "xgb_model = XGBRegressor(random_state=42)\n",
        "\n",
        "# Perform Randomized Search for best parameters\n",
        "random_search = RandomizedSearchCV(xgb_model, param_distributions=param_grid,\n",
        "                                   n_iter=20, cv=3, scoring='neg_mean_squared_error', n_jobs=-1)\n",
        "\n",
        "# Fit model (Now this should work!)\n",
        "random_search.fit(X_train, y_train)\n",
        "\n",
        "# Get best parameters\n",
        "best_params = random_search.best_params_\n",
        "print(\"Best Parameters:\", best_params)\n"
      ],
      "metadata": {
        "id": "62jH-U2MmhNy"
      },
      "execution_count": null,
      "outputs": []
    },
    {
      "cell_type": "code",
      "source": [],
      "metadata": {
        "id": "eStIKwnrzrYG"
      },
      "execution_count": null,
      "outputs": []
    },
    {
      "cell_type": "code",
      "source": [],
      "metadata": {
        "id": "ipIwfsxmzt3B"
      },
      "execution_count": null,
      "outputs": []
    },
    {
      "cell_type": "code",
      "source": [
        "!pip uninstall -y xgboost scikit-learn\n",
        "!pip install xgboost==1.7.6\n",
        "!pip install scikit-learn==1.1.3\n"
      ],
      "metadata": {
        "id": "IPD7vw-BpLaS"
      },
      "execution_count": null,
      "outputs": []
    },
    {
      "cell_type": "code",
      "source": [
        "from xgboost import XGBRegressor\n",
        "from sklearn.metrics import mean_squared_error, mean_absolute_percentage_error\n",
        "import numpy as np\n",
        "import matplotlib.pyplot as plt\n",
        "\n",
        "# Train model with best parameters\n",
        "xgb_optimized = XGBRegressor(\n",
        "    n_estimators=300,\n",
        "    learning_rate=0.05,\n",
        "    max_depth=5,\n",
        "    subsample=0.8,\n",
        "    colsample_bytree=0.8,\n",
        "    random_state=42\n",
        ")\n",
        "xgb_optimized.fit(X_train, y_train)\n",
        "\n",
        "# Predict energy consumption for test set\n",
        "y_pred = xgb_optimized.predict(X_test)\n",
        "\n",
        "# Evaluate performance\n",
        "mse = mean_squared_error(y_test, y_pred)\n",
        "rmse = np.sqrt(mse)\n",
        "mape = mean_absolute_percentage_error(y_test, y_pred)\n",
        "\n",
        "print(f\"Optimized XGBoost Performance:\\nMSE: {mse}\\nRMSE: {rmse}\\nMAPE: {mape*100:.2f}%\")\n"
      ],
      "metadata": {
        "id": "jo6Vd2rMzvqU"
      },
      "execution_count": null,
      "outputs": []
    },
    {
      "cell_type": "code",
      "source": [],
      "metadata": {
        "id": "g85S6aJAz07C"
      },
      "execution_count": null,
      "outputs": []
    },
    {
      "cell_type": "code",
      "source": [
        "import sklearn\n",
        "import xgboost\n",
        "\n",
        "print(\"Scikit-Learn Version:\", sklearn.__version__)  # Should be 1.1.3\n",
        "print(\"XGBoost Version:\", xgboost.__version__)  # Should be 1.7.6\n"
      ],
      "metadata": {
        "id": "P73nHQehpat7"
      },
      "execution_count": null,
      "outputs": []
    },
    {
      "cell_type": "code",
      "source": [
        "!pip uninstall -y numpy\n",
        "!pip install numpy==1.23.5\n"
      ],
      "metadata": {
        "id": "Ag8IB6d_xyci"
      },
      "execution_count": null,
      "outputs": []
    },
    {
      "cell_type": "code",
      "source": [
        "import numpy as np\n",
        "import sklearn\n",
        "import xgboost\n",
        "\n",
        "print(\"NumPy Version:\", np.__version__)\n",
        "print(\"Scikit-Learn Version:\", sklearn.__version__)\n",
        "print(\"XGBoost Version:\", xgboost.__version__)\n"
      ],
      "metadata": {
        "id": "KMYZWjvsymCS"
      },
      "execution_count": null,
      "outputs": []
    },
    {
      "cell_type": "code",
      "source": [
        "from xgboost import XGBRegressor\n",
        "from sklearn.metrics import mean_squared_error, mean_absolute_percentage_error\n",
        "import numpy as np\n",
        "import matplotlib.pyplot as plt\n",
        "\n",
        "# Train model with best parameters\n",
        "xgb_optimized = XGBRegressor(\n",
        "    n_estimators=300,\n",
        "    learning_rate=0.05,\n",
        "    max_depth=5,\n",
        "    subsample=0.8,\n",
        "    colsample_bytree=0.8,\n",
        "    random_state=42\n",
        ")\n",
        "xgb_optimized.fit(X_train, y_train)\n",
        "\n",
        "# Predict energy consumption for test set\n",
        "y_pred = xgb_optimized.predict(X_test)\n",
        "\n",
        "# Evaluate performance\n",
        "mse = mean_squared_error(y_test, y_pred)\n",
        "rmse = np.sqrt(mse)\n",
        "mape = mean_absolute_percentage_error(y_test, y_pred)\n",
        "\n",
        "print(f\"Optimized XGBoost Performance:\\nMSE: {mse}\\nRMSE: {rmse}\\nMAPE: {mape*100:.2f}%\")\n"
      ],
      "metadata": {
        "id": "WCE-jVk6z2Z4"
      },
      "execution_count": null,
      "outputs": []
    },
    {
      "cell_type": "code",
      "source": [
        "# Create future years (2021-2030)\n",
        "future_years = np.arange(2021, 2031)\n",
        "\n",
        "# Predict energy consumption for future years\n",
        "future_predictions = []\n",
        "current_data = X.iloc[-1:].values  # Start with the last available data\n",
        "\n",
        "for year in future_years:\n",
        "    next_prediction = xgb_optimized.predict(current_data)[0]\n",
        "    future_predictions.append(next_prediction)\n",
        "\n",
        "    # Update current data for rolling forecast\n",
        "    current_data = np.roll(current_data, -1, axis=0)  # Shift data\n",
        "    current_data[0, 0] = next_prediction  # Replace oldest value with prediction\n",
        "\n",
        "# Create DataFrame for future predictions\n",
        "df_forecast = pd.DataFrame({\"Year\": future_years, \"Predicted Energy Consumption\": future_predictions})\n",
        "\n",
        "# Display results\n",
        "print(df_forecast)\n",
        "\n",
        "# Plot the results\n",
        "plt.figure(figsize=(10, 5))\n",
        "plt.plot(df_pivot.index, df_pivot[\"Crude oil\"], label=\"Actual (1995-2020)\", marker='o')\n",
        "plt.plot(df_forecast[\"Year\"], df_forecast[\"Predicted Energy Consumption\"], label=\"Optimized Forecast (2021-2030)\", linestyle='dashed', marker='o', color='red')\n",
        "plt.xlabel(\"Year\")\n",
        "plt.ylabel(\"Energy Consumption\")\n",
        "plt.title(\"Improved Energy Consumption Forecast (2021-2030) using Optimized XGBoost\")\n",
        "plt.legend()\n",
        "plt.grid(True)\n",
        "plt.show()\n"
      ],
      "metadata": {
        "id": "Wjv58ycgz86B"
      },
      "execution_count": null,
      "outputs": []
    },
    {
      "cell_type": "code",
      "source": [
        "!pip install tensorflow keras scikit-learn matplotlib numpy pandas\n"
      ],
      "metadata": {
        "id": "3uir-B1D1BWW"
      },
      "execution_count": null,
      "outputs": []
    },
    {
      "cell_type": "code",
      "source": [
        "import numpy as np\n",
        "import pandas as pd\n",
        "import tensorflow as tf\n",
        "from tensorflow.keras.models import Sequential\n",
        "from tensorflow.keras.layers import LSTM, Dense, Dropout\n",
        "from sklearn.preprocessing import MinMaxScaler\n",
        "import matplotlib.pyplot as plt\n"
      ],
      "metadata": {
        "id": "H6cqKJGh1Ngf"
      },
      "execution_count": null,
      "outputs": []
    },
    {
      "cell_type": "code",
      "source": [
        "# Save XGBoost Forecast Results\n",
        "df_forecast.to_csv(\"/content/XGBoost_Forecast.csv\", index=False)\n",
        "\n",
        "# Save XGBoost Performance Metrics\n",
        "xgboost_metrics = {\n",
        "    \"MSE\": [mse],\n",
        "    \"RMSE\": [rmse],\n",
        "    \"MAPE\": [mape]\n",
        "}\n",
        "\n",
        "df_xgb_metrics = pd.DataFrame(xgboost_metrics)\n",
        "df_xgb_metrics.to_csv(\"/content/XGBoost_Performance.csv\", index=False)\n",
        "\n",
        "print(\"XGBoost results saved successfully!\")\n"
      ],
      "metadata": {
        "id": "fN3k9EVw2XI2"
      },
      "execution_count": null,
      "outputs": []
    },
    {
      "cell_type": "code",
      "source": [
        "code_xgb = \"\"\"\n",
        "# XGBoost Model Training & Forecasting\n",
        "\n",
        "from xgboost import XGBRegressor\n",
        "from sklearn.model_selection import train_test_split\n",
        "from sklearn.metrics import mean_squared_error, mean_absolute_percentage_error\n",
        "import numpy as np\n",
        "import pandas as pd\n",
        "import matplotlib.pyplot as plt\n",
        "\n",
        "# Train model with best parameters\n",
        "xgb_optimized = XGBRegressor(\n",
        "    n_estimators=300,\n",
        "    learning_rate=0.05,\n",
        "    max_depth=5,\n",
        "    subsample=0.8,\n",
        "    colsample_bytree=0.8,\n",
        "    random_state=42\n",
        ")\n",
        "xgb_optimized.fit(X_train, y_train)\n",
        "\n",
        "# Predict energy consumption for test set\n",
        "y_pred = xgb_optimized.predict(X_test)\n",
        "\n",
        "# Evaluate performance\n",
        "mse = mean_squared_error(y_test, y_pred)\n",
        "rmse = np.sqrt(mse)\n",
        "mape = mean_absolute_percentage_error(y_test, y_pred)\n",
        "\n",
        "print(f\"Optimized XGBoost Performance:\\\\nMSE: {mse}\\\\nRMSE: {rmse}\\\\nMAPE: {mape*100:.2f}%\")\n",
        "\n",
        "# Forecast 2021-2030\n",
        "future_years = np.arange(2021, 2031)\n",
        "future_predictions = []\n",
        "\n",
        "current_data = X.iloc[-1:].values  # Start with the last available data\n",
        "\n",
        "for year in future_years:\n",
        "    next_prediction = xgb_optimized.predict(current_data)[0]\n",
        "    future_predictions.append(next_prediction)\n",
        "\n",
        "    # Update current data for rolling forecast\n",
        "    current_data = np.roll(current_data, -1, axis=0)\n",
        "    current_data[0, 0] = next_prediction\n",
        "\n",
        "# Save XGBoost results\n",
        "df_forecast = pd.DataFrame({\"Year\": future_years, \"Predicted Energy Consumption\": future_predictions})\n",
        "df_forecast.to_csv(\"/content/XGBoost_Forecast.csv\", index=False)\n",
        "\n",
        "xgboost_metrics = {\"MSE\": [mse], \"RMSE\": [rmse], \"MAPE\": [mape]}\n",
        "df_xgb_metrics = pd.DataFrame(xgboost_metrics)\n",
        "df_xgb_metrics.to_csv(\"/content/XGBoost_Performance.csv\", index=False)\n",
        "\n",
        "print(\"XGBoost results saved successfully!\")\n",
        "\"\"\"\n",
        "\n",
        "code_lstm = \"\"\"\n",
        "# LSTM Model Training & Forecasting\n",
        "\n",
        "import numpy as np\n",
        "import pandas as pd\n",
        "import tensorflow as tf\n",
        "from tensorflow.keras.models import Sequential\n",
        "from tensorflow.keras.layers import LSTM, Dense, Dropout\n",
        "from sklearn.preprocessing import MinMaxScaler\n",
        "import matplotlib.pyplot as plt\n",
        "\n",
        "# Normalize data\n",
        "scaler = MinMaxScaler(feature_range=(0,1))\n",
        "df_lstm_scaled = scaler.fit_transform(df_pivot[[\"Crude oil\"]])\n",
        "\n",
        "# Create sequences for LSTM\n",
        "def create_sequences(data, time_steps=3):\n",
        "    X, y = [], []\n",
        "    for i in range(len(data) - time_steps):\n",
        "        X.append(data[i:i+time_steps])\n",
        "        y.append(data[i+time_steps])\n",
        "    return np.array(X), np.array(y)\n",
        "\n",
        "time_steps = 3\n",
        "X_lstm, y_lstm = create_sequences(df_lstm_scaled, time_steps)\n",
        "\n",
        "# Split into train and test sets\n",
        "split = int(0.8 * len(X_lstm))\n",
        "X_train_lstm, X_test_lstm = X_lstm[:split], X_lstm[split:]\n",
        "y_train_lstm, y_test_lstm = y_lstm[:split], y_lstm[split:]\n",
        "\n",
        "# Reshape for LSTM\n",
        "X_train_lstm = X_train_lstm.reshape((X_train_lstm.shape[0], X_train_lstm.shape[1], 1))\n",
        "X_test_lstm = X_test_lstm.reshape((X_test_lstm.shape[0], X_test_lstm.shape[1], 1))\n",
        "\n",
        "# Build LSTM Model\n",
        "model = Sequential([\n",
        "    LSTM(64, return_sequences=True, input_shape=(time_steps, 1)),\n",
        "    Dropout(0.2),\n",
        "    LSTM(64, return_sequences=False),\n",
        "    Dropout(0.2),\n",
        "    Dense(1)\n",
        "])\n",
        "\n",
        "model.compile(optimizer=\"adam\", loss=\"mse\")\n",
        "history = model.fit(X_train_lstm, y_train_lstm, epochs=50, batch_size=8, validation_data=(X_test_lstm, y_test_lstm), verbose=1)\n",
        "\n",
        "# Forecast 2021-2030\n",
        "future_years = np.arange(2021, 2031)\n",
        "future_predictions = []\n",
        "\n",
        "current_input = df_lstm_scaled[-time_steps:].reshape(1, time_steps, 1)\n",
        "\n",
        "for year in future_years:\n",
        "    next_prediction = model.predict(current_input)[0, 0]\n",
        "    future_predictions.append(next_prediction)\n",
        "    current_input = np.roll(current_input, -1, axis=1)\n",
        "    current_input[0, -1, 0] = next_prediction\n",
        "\n",
        "# Convert predictions back to original scale\n",
        "future_predictions = scaler.inverse_transform(np.array(future_predictions).reshape(-1, 1))\n",
        "\n",
        "df_lstm_forecast = pd.DataFrame({\"Year\": future_years, \"Predicted Energy Consumption\": future_predictions.flatten()})\n",
        "df_lstm_forecast.to_csv(\"/content/LSTM_Forecast.csv\", index=False)\n",
        "\n",
        "print(\"LSTM Forecast saved successfully!\")\n",
        "\"\"\"\n",
        "\n",
        "# Save both code snippets\n",
        "with open(\"/content/Required_Codes.txt\", \"w\") as f:\n",
        "    f.write(\"### XGBoost Model Code ###\\n\" + code_xgb + \"\\n\\n\")\n",
        "    f.write(\"### LSTM Model Code ###\\n\" + code_lstm + \"\\n\")\n",
        "\n",
        "print(\"All necessary codes saved successfully!\")\n"
      ],
      "metadata": {
        "id": "Vl41czKU3S35"
      },
      "execution_count": null,
      "outputs": []
    },
    {
      "cell_type": "code",
      "source": [
        "!pip uninstall -y numpy tensorflow keras\n",
        "!pip install numpy==1.23.5 tensorflow==2.10 keras==2.10\n"
      ],
      "metadata": {
        "id": "TFI_xFO13Y5n"
      },
      "execution_count": null,
      "outputs": []
    },
    {
      "cell_type": "code",
      "source": [
        "import pandas as pd\n",
        "\n",
        "# Load XGBoost Forecast Results\n",
        "df_forecast = pd.read_csv(\"/content/XGBoost_Forecast.csv\")\n",
        "print(\"Loaded XGBoost Forecast:\\n\", df_forecast.head())\n",
        "\n",
        "# Load XGBoost Performance Metrics\n",
        "df_xgb_metrics = pd.read_csv(\"/content/XGBoost_Performance.csv\")\n",
        "print(\"Loaded XGBoost Performance Metrics:\\n\", df_xgb_metrics)\n"
      ],
      "metadata": {
        "id": "F74V5t_O4Q1e"
      },
      "execution_count": null,
      "outputs": []
    },
    {
      "cell_type": "code",
      "source": [
        "import numpy as np\n",
        "import pandas as pd\n",
        "import tensorflow as tf\n",
        "from tensorflow.keras.models import Sequential\n",
        "from tensorflow.keras.layers import LSTM, Dense, Dropout\n",
        "from sklearn.preprocessing import MinMaxScaler\n",
        "import matplotlib.pyplot as plt\n"
      ],
      "metadata": {
        "id": "aBNYIuUp5Lld"
      },
      "execution_count": null,
      "outputs": []
    },
    {
      "cell_type": "code",
      "source": [
        "# Select only Crude Oil consumption for LSTM\n",
        "df_lstm = df_pivot[[\"Crude oil\"]].copy()\n",
        "\n",
        "# Normalize data (LSTMs work best with values between 0-1)\n",
        "scaler = MinMaxScaler(feature_range=(0,1))\n",
        "df_lstm_scaled = scaler.fit_transform(df_lstm)\n",
        "\n",
        "# Convert to DataFrame again\n",
        "df_lstm_scaled = pd.DataFrame(df_lstm_scaled, index=df_lstm.index, columns=df_lstm.columns)\n",
        "\n",
        "# Function to create sequences for LSTM\n",
        "def create_sequences(data, time_steps=3):\n",
        "    X, y = [], []\n",
        "    for i in range(len(data) - time_steps):\n",
        "        X.append(data[i:i+time_steps])\n",
        "        y.append(data[i+time_steps])\n",
        "    return np.array(X), np.array(y)\n",
        "\n",
        "# Create sequences\n",
        "time_steps = 3  # Using past 3 years to predict next year\n",
        "X_lstm, y_lstm = create_sequences(df_lstm_scaled.values, time_steps)\n",
        "\n",
        "# Split into train (80%) and test (20%)\n",
        "split = int(0.8 * len(X_lstm))\n",
        "X_train_lstm, X_test_lstm = X_lstm[:split], X_lstm[split:]\n",
        "y_train_lstm, y_test_lstm = y_lstm[:split], y_lstm[split:]\n",
        "\n",
        "# Reshape for LSTM input (samples, timesteps, features)\n",
        "X_train_lstm = X_train_lstm.reshape((X_train_lstm.shape[0], X_train_lstm.shape[1], 1))\n",
        "X_test_lstm = X_test_lstm.reshape((X_test_lstm.shape[0], X_test_lstm.shape[1], 1))\n",
        "\n",
        "print(\"LSTM Data Prepared!\")\n",
        "print(\"Train Shape:\", X_train_lstm.shape, y_train_lstm.shape)\n",
        "print(\"Test Shape:\", X_test_lstm.shape, y_test_lstm.shape)\n"
      ],
      "metadata": {
        "id": "X6fqfzLd55IP"
      },
      "execution_count": null,
      "outputs": []
    },
    {
      "cell_type": "code",
      "source": [
        "import numpy as np\n",
        "import pandas as pd\n",
        "import tensorflow as tf\n",
        "from tensorflow.keras.models import Sequential\n",
        "from tensorflow.keras.layers import LSTM, Dense, Dropout\n",
        "from sklearn.preprocessing import MinMaxScaler\n",
        "import matplotlib.pyplot as plt\n"
      ],
      "metadata": {
        "id": "Pgbu02PxGH1C"
      },
      "execution_count": null,
      "outputs": []
    },
    {
      "cell_type": "code",
      "source": [
        "# Select only Crude Oil consumption for LSTM\n",
        "df_lstm = df_pivot[[\"Crude oil\"]].copy()\n",
        "\n",
        "# Normalize data (LSTMs work best with values between 0-1)\n",
        "scaler = MinMaxScaler(feature_range=(0,1))\n",
        "df_lstm_scaled = scaler.fit_transform(df_lstm)\n",
        "\n",
        "# Convert to DataFrame again\n",
        "df_lstm_scaled = pd.DataFrame(df_lstm_scaled, index=df_lstm.index, columns=df_lstm.columns)\n",
        "\n",
        "# Function to create sequences for LSTM\n",
        "def create_sequences(data, time_steps=3):\n",
        "    X, y = [], []\n",
        "    for i in range(len(data) - time_steps):\n",
        "        X.append(data[i:i+time_steps])\n",
        "        y.append(data[i+time_steps])\n",
        "    return np.array(X), np.array(y)\n",
        "\n",
        "# Create sequences\n",
        "time_steps = 3  # Using past 3 years to predict next year\n",
        "X_lstm, y_lstm = create_sequences(df_lstm_scaled.values, time_steps)\n",
        "\n",
        "# Split into train (80%) and test (20%)\n",
        "split = int(0.8 * len(X_lstm))\n",
        "X_train_lstm, X_test_lstm = X_lstm[:split], X_lstm[split:]\n",
        "y_train_lstm, y_test_lstm = y_lstm[:split], y_lstm[split:]\n",
        "\n",
        "# Reshape for LSTM input (samples, timesteps, features)\n",
        "X_train_lstm = X_train_lstm.reshape((X_train_lstm.shape[0], X_train_lstm.shape[1], 1))\n",
        "X_test_lstm = X_test_lstm.reshape((X_test_lstm.shape[0], X_test_lstm.shape[1], 1))\n",
        "\n",
        "print(\"LSTM Data Prepared!\")\n",
        "print(\"Train Shape:\", X_train_lstm.shape, y_train_lstm.shape)\n",
        "print(\"Test Shape:\", X_test_lstm.shape, y_test_lstm.shape)\n"
      ],
      "metadata": {
        "id": "TFmUeI-xGLmc"
      },
      "execution_count": null,
      "outputs": []
    },
    {
      "cell_type": "code",
      "source": [
        "# Define LSTM Model\n",
        "model = Sequential([\n",
        "    LSTM(64, return_sequences=True, input_shape=(time_steps, 1)),\n",
        "    Dropout(0.2),\n",
        "    LSTM(64, return_sequences=False),\n",
        "    Dropout(0.2),\n",
        "    Dense(1)  # Output layer\n",
        "])\n",
        "\n",
        "# Compile Model\n",
        "model.compile(optimizer=\"adam\", loss=\"mse\")\n",
        "\n",
        "# Train Model\n",
        "history = model.fit(X_train_lstm, y_train_lstm, epochs=50, batch_size=8, validation_data=(X_test_lstm, y_test_lstm), verbose=1)\n",
        "\n",
        "# Plot Loss Curve\n",
        "plt.plot(history.history['loss'], label='Train Loss')\n",
        "plt.plot(history.history['val_loss'], label='Validation Loss')\n",
        "plt.xlabel(\"Epochs\")\n",
        "plt.ylabel(\"Loss (MSE)\")\n",
        "plt.legend()\n",
        "plt.title(\"LSTM Training Loss Curve\")\n",
        "plt.show()\n"
      ],
      "metadata": {
        "id": "D6-46OuOGPmW"
      },
      "execution_count": null,
      "outputs": []
    },
    {
      "cell_type": "code",
      "source": [
        "# Forecast 2021-2030\n",
        "future_years = np.arange(2021, 2031)\n",
        "future_predictions = []\n",
        "\n",
        "# Start with last 3 known years\n",
        "current_input = df_lstm_scaled.values[-time_steps:].reshape(1, time_steps, 1)\n",
        "\n",
        "for year in future_years:\n",
        "    next_prediction = model.predict(current_input)[0, 0]\n",
        "    future_predictions.append(next_prediction)\n",
        "\n",
        "    # Update input data (shift and add new prediction)\n",
        "    current_input = np.roll(current_input, -1, axis=1)\n",
        "    current_input[0, -1, 0] = next_prediction  # Replace last value\n",
        "\n",
        "# Convert predictions back to original scale\n",
        "future_predictions = scaler.inverse_transform(np.array(future_predictions).reshape(-1, 1))\n",
        "\n",
        "# Create DataFrame for predictions\n",
        "df_lstm_forecast = pd.DataFrame({\"Year\": future_years, \"Predicted Energy Consumption\": future_predictions.flatten()})\n",
        "\n",
        "# Display results\n",
        "print(df_lstm_forecast)\n",
        "\n",
        "# Plot Forecast\n",
        "plt.figure(figsize=(10, 5))\n",
        "plt.plot(df_pivot.index, df_pivot[\"Crude oil\"], label=\"Actual (1995-2020)\", marker='o')\n",
        "plt.plot(df_lstm_forecast[\"Year\"], df_lstm_forecast[\"Predicted Energy Consumption\"], label=\"LSTM Forecast (2021-2030)\", linestyle='dashed', marker='o', color='red')\n",
        "plt.xlabel(\"Year\")\n",
        "plt.ylabel(\"Energy Consumption\")\n",
        "plt.title(\"Energy Consumption Forecast (2021-2030) using LSTM\")\n",
        "plt.legend()\n",
        "plt.grid(True)\n",
        "plt.show()\n"
      ],
      "metadata": {
        "id": "UJtW6LrwGaTP"
      },
      "execution_count": null,
      "outputs": []
    },
    {
      "cell_type": "code",
      "source": [
        "from sklearn.metrics import mean_squared_error, mean_absolute_percentage_error\n",
        "import numpy as np\n",
        "\n",
        "# Get predictions on the test set\n",
        "y_test_pred = model.predict(X_test_lstm)\n",
        "\n",
        "# Convert predictions back to original scale\n",
        "y_test_pred = scaler.inverse_transform(y_test_pred)\n",
        "y_test_actual = scaler.inverse_transform(y_test_lstm.reshape(-1, 1))\n",
        "\n",
        "# Calculate performance metrics\n",
        "mse_lstm = mean_squared_error(y_test_actual, y_test_pred)\n",
        "rmse_lstm = np.sqrt(mse_lstm)\n",
        "mape_lstm = mean_absolute_percentage_error(y_test_actual, y_test_pred) * 100  # Convert to percentage\n",
        "\n",
        "print(f\"LSTM Model Performance:\\nMSE: {mse_lstm:.2f}\\nRMSE: {rmse_lstm:.2f}\\nMAPE: {mape_lstm:.2f}%\")\n"
      ],
      "metadata": {
        "id": "piObM_9fH_7i"
      },
      "execution_count": null,
      "outputs": []
    },
    {
      "cell_type": "code",
      "source": [
        "import numpy as np\n",
        "import pandas as pd\n",
        "import tensorflow as tf\n",
        "from tensorflow.keras.models import Sequential\n",
        "from tensorflow.keras.layers import GRU, Bidirectional, Dense, Dropout\n",
        "from sklearn.preprocessing import MinMaxScaler\n",
        "import matplotlib.pyplot as plt\n"
      ],
      "metadata": {
        "id": "85yQH8_yJUT5"
      },
      "execution_count": null,
      "outputs": []
    },
    {
      "cell_type": "code",
      "source": [
        "# Normalize data (same as LSTM)\n",
        "scaler = MinMaxScaler(feature_range=(0,1))\n",
        "df_gru_scaled = scaler.fit_transform(df_pivot[[\"Crude oil\"]])\n",
        "\n",
        "# Create sequences for GRU\n",
        "def create_sequences(data, time_steps=3):\n",
        "    X, y = [], []\n",
        "    for i in range(len(data) - time_steps):\n",
        "        X.append(data[i:i+time_steps])\n",
        "        y.append(data[i+time_steps])\n",
        "    return np.array(X), np.array(y)\n",
        "\n",
        "time_steps = 3\n",
        "X_gru, y_gru = create_sequences(df_gru_scaled, time_steps)\n",
        "\n",
        "# Split into train and test sets\n",
        "split = int(0.8 * len(X_gru))\n",
        "X_train_gru, X_test_gru = X_gru[:split], X_gru[split:]\n",
        "y_train_gru, y_test_gru = y_gru[:split], y_gru[split:]\n",
        "\n",
        "# Reshape for GRU\n",
        "X_train_gru = X_train_gru.reshape((X_train_gru.shape[0], X_train_gru.shape[1], 1))\n",
        "X_test_gru = X_test_gru.reshape((X_test_gru.shape[0], X_test_gru.shape[1], 1))\n",
        "\n",
        "print(\"Bi-GRU Data Prepared!\")\n",
        "print(\"Train Shape:\", X_train_gru.shape, y_train_gru.shape)\n",
        "print(\"Test Shape:\", X_test_gru.shape, y_test_gru.shape)\n"
      ],
      "metadata": {
        "id": "qjl_8vkeJZRz"
      },
      "execution_count": null,
      "outputs": []
    },
    {
      "cell_type": "code",
      "source": [
        "# Define Bi-GRU Model\n",
        "model_gru = Sequential([\n",
        "    Bidirectional(GRU(128, return_sequences=True, input_shape=(time_steps, 1))),\n",
        "    Dropout(0.3),\n",
        "    Bidirectional(GRU(128, return_sequences=False)),\n",
        "    Dropout(0.3),\n",
        "    Dense(1)\n",
        "])\n",
        "\n",
        "# Compile Model\n",
        "model_gru.compile(optimizer=\"adam\", loss=\"mse\")\n",
        "\n",
        "# Train Model\n",
        "history_gru = model_gru.fit(X_train_gru, y_train_gru, epochs=100, batch_size=16, validation_data=(X_test_gru, y_test_gru), verbose=1)\n",
        "\n",
        "# Plot Loss Curve\n",
        "plt.plot(history_gru.history['loss'], label='Train Loss')\n",
        "plt.plot(history_gru.history['val_loss'], label='Validation Loss')\n",
        "plt.xlabel(\"Epochs\")\n",
        "plt.ylabel(\"Loss (MSE)\")\n",
        "plt.legend()\n",
        "plt.title(\"Bi-GRU Training Loss Curve\")\n",
        "plt.show()\n"
      ],
      "metadata": {
        "id": "Hk_gMY0YJc9A"
      },
      "execution_count": null,
      "outputs": []
    },
    {
      "cell_type": "code",
      "source": [
        "# Define Bi-GRU Model\n",
        "model_gru = Sequential([\n",
        "    Bidirectional(GRU(128, return_sequences=True, input_shape=(time_steps, 1))),\n",
        "    Dropout(0.3),\n",
        "    Bidirectional(GRU(128, return_sequences=False)),\n",
        "    Dropout(0.3),\n",
        "    Dense(1)\n",
        "])\n",
        "\n",
        "# Compile Model\n",
        "model_gru.compile(optimizer=\"adam\", loss=\"mse\")\n",
        "\n",
        "# Train Model\n",
        "history_gru = model_gru.fit(X_train_gru, y_train_gru, epochs=100, batch_size=16, validation_data=(X_test_gru, y_test_gru), verbose=1)\n",
        "\n",
        "# Plot Loss Curve\n",
        "plt.plot(history_gru.history['loss'], label='Train Loss')\n",
        "plt.plot(history_gru.history['val_loss'], label='Validation Loss')\n",
        "plt.xlabel(\"Epochs\")\n",
        "plt.ylabel(\"Loss (MSE)\")\n",
        "plt.legend()\n",
        "plt.title(\"Bi-GRU Training Loss Curve\")\n",
        "plt.show()\n"
      ],
      "metadata": {
        "id": "KS3H10TEJ3ne"
      },
      "execution_count": null,
      "outputs": []
    },
    {
      "cell_type": "code",
      "source": [
        "# Forecast 2021-2030\n",
        "future_years = np.arange(2021, 2031)\n",
        "future_predictions_gru = []\n",
        "\n",
        "# Start with last 3 known years\n",
        "current_input = df_gru_scaled[-time_steps:].reshape(1, time_steps, 1)\n",
        "\n",
        "for year in future_years:\n",
        "    next_prediction = model_gru.predict(current_input)[0, 0]\n",
        "    future_predictions_gru.append(next_prediction)\n",
        "\n",
        "    # Update input data (shift and add new prediction)\n",
        "    current_input = np.roll(current_input, -1, axis=1)\n",
        "    current_input[0, -1, 0] = next_prediction\n",
        "\n",
        "# Convert predictions back to original scale\n",
        "future_predictions_gru = scaler.inverse_transform(np.array(future_predictions_gru).reshape(-1, 1))\n",
        "\n",
        "# Create DataFrame for predictions\n",
        "df_gru_forecast = pd.DataFrame({\"Year\": future_years, \"Predicted Energy Consumption\": future_predictions_gru.flatten()})\n",
        "df_gru_forecast.to_csv(\"/content/BiGRU_Forecast.csv\", index=False)\n",
        "\n",
        "# Display results\n",
        "print(df_gru_forecast)\n",
        "\n",
        "# Plot Forecast\n",
        "plt.figure(figsize=(10, 5))\n",
        "plt.plot(df_pivot.index, df_pivot[\"Crude oil\"], label=\"Actual (1995-2020)\", marker='o')\n",
        "plt.plot(df_gru_forecast[\"Year\"], df_gru_forecast[\"Predicted Energy Consumption\"], label=\"Bi-GRU Forecast (2021-2030)\", linestyle='dashed', marker='o', color='red')\n",
        "plt.xlabel(\"Year\")\n",
        "plt.ylabel(\"Energy Consumption\")\n",
        "plt.title(\"Energy Consumption Forecast (2021-2030) using Bi-GRU\")\n",
        "plt.legend()\n",
        "plt.grid(True)\n",
        "plt.show()\n"
      ],
      "metadata": {
        "id": "3VPSftx7KBsy"
      },
      "execution_count": null,
      "outputs": []
    },
    {
      "cell_type": "code",
      "source": [
        "from sklearn.metrics import mean_squared_error, mean_absolute_percentage_error\n",
        "\n",
        "# Get predictions on the test set\n",
        "y_test_pred_gru = model_gru.predict(X_test_gru)\n",
        "\n",
        "# Convert predictions back to original scale\n",
        "y_test_pred_gru = scaler.inverse_transform(y_test_pred_gru)\n",
        "y_test_actual_gru = scaler.inverse_transform(y_test_gru.reshape(-1, 1))\n",
        "\n",
        "# Calculate performance metrics\n",
        "mse_gru = mean_squared_error(y_test_actual_gru, y_test_pred_gru)\n",
        "rmse_gru = np.sqrt(mse_gru)\n",
        "mape_gru = mean_absolute_percentage_error(y_test_actual_gru, y_test_pred_gru) * 100  # Convert to percentage\n",
        "\n",
        "print(f\"Bi-GRU Model Performance:\\nMSE: {mse_gru:.2f}\\nRMSE: {rmse_gru:.2f}\\nMAPE: {mape_gru:.2f}%\")\n"
      ],
      "metadata": {
        "id": "Ah6hQgv_KkbF"
      },
      "execution_count": null,
      "outputs": []
    },
    {
      "cell_type": "code",
      "source": [
        "# Load XGBoost & LSTM performance metrics\n",
        "df_xgb_metrics = pd.read_csv(\"/content/XGBoost_Performance.csv\")\n",
        "\n",
        "# Extract XGBoost values\n",
        "mse_xgb = df_xgb_metrics[\"MSE\"].values[0]\n",
        "rmse_xgb = df_xgb_metrics[\"RMSE\"].values[0]\n",
        "mape_xgb = df_xgb_metrics[\"MAPE\"].values[0] * 100  # Convert to percentage\n",
        "\n",
        "# Display comparison\n",
        "print(\"=== Model Performance Comparison ===\")\n",
        "print(f\"XGBoost -> MSE: {mse_xgb:.2f}, RMSE: {rmse_xgb:.2f}, MAPE: {mape_xgb:.2f}%\")\n",
        "print(f\"LSTM    -> MSE: {mse_lstm:.2f}, RMSE: {rmse_lstm:.2f}, MAPE: {mape_lstm:.2f}%\")\n",
        "print(f\"Bi-GRU  -> MSE: {mse_gru:.2f}, RMSE: {rmse_gru:.2f}, MAPE: {mape_gru:.2f}%\")\n",
        "\n",
        "# Decide best model\n",
        "best_model = min([(\"XGBoost\", mse_xgb), (\"LSTM\", mse_lstm), (\"Bi-GRU\", mse_gru)], key=lambda x: x[1])[0]\n",
        "print(f\"✅ The best model for energy forecasting is: {best_model}\")\n"
      ],
      "metadata": {
        "id": "2lavDvCmKn12"
      },
      "execution_count": null,
      "outputs": []
    },
    {
      "cell_type": "code",
      "source": [
        "import pandas as pd\n",
        "\n",
        "# Define XGBoost performance metrics manually\n",
        "xgb_metrics = {\n",
        "    \"MSE\": [145033217058.5],  # Replace with your actual XGBoost MSE value\n",
        "    \"RMSE\": [380832.27],      # Replace with your actual XGBoost RMSE value\n",
        "    \"MAPE\": [8.10]            # Replace with your actual XGBoost MAPE value\n",
        "}\n",
        "\n",
        "# Save it to CSV\n",
        "df_xgb_metrics = pd.DataFrame(xgb_metrics)\n",
        "df_xgb_metrics.to_csv(\"/content/XGBoost_Performance.csv\", index=False)\n",
        "\n",
        "print(\"✅ XGBoost Performance file recreated successfully!\")\n"
      ],
      "metadata": {
        "id": "KD2qy-3XK_Qw"
      },
      "execution_count": null,
      "outputs": []
    },
    {
      "cell_type": "code",
      "source": [
        "# Load XGBoost & LSTM performance metrics\n",
        "df_xgb_metrics = pd.read_csv(\"/content/XGBoost_Performance.csv\")\n",
        "\n",
        "# Extract XGBoost values\n",
        "mse_xgb = df_xgb_metrics[\"MSE\"].values[0]\n",
        "rmse_xgb = df_xgb_metrics[\"RMSE\"].values[0]\n",
        "mape_xgb = df_xgb_metrics[\"MAPE\"].values[0]\n",
        "\n",
        "# Display comparison\n",
        "print(\"=== Model Performance Comparison ===\")\n",
        "print(f\"XGBoost -> MSE: {mse_xgb:.2f}, RMSE: {rmse_xgb:.2f}, MAPE: {mape_xgb:.2f}%\")\n",
        "print(f\"LSTM    -> MSE: {mse_lstm:.2f}, RMSE: {rmse_lstm:.2f}, MAPE: {mape_lstm:.2f}%\")\n",
        "print(f\"Bi-GRU  -> MSE: {mse_gru:.2f}, RMSE: {rmse_gru:.2f}, MAPE: {mape_gru:.2f}%\")\n",
        "\n",
        "# Decide best model\n",
        "best_model = min([(\"XGBoost\", mse_xgb), (\"LSTM\", mse_lstm), (\"Bi-GRU\", mse_gru)], key=lambda x: x[1])[0]\n",
        "print(f\"✅ The best model for energy forecasting is: {best_model}\")\n"
      ],
      "metadata": {
        "id": "wqGerNl6MrwW"
      },
      "execution_count": null,
      "outputs": []
    },
    {
      "cell_type": "code",
      "source": [
        "import numpy as np\n",
        "import pandas as pd\n",
        "import matplotlib.pyplot as plt\n",
        "from sklearn.preprocessing import MinMaxScaler\n",
        "from tensorflow.keras.models import Sequential\n",
        "from tensorflow.keras.layers import Dense, Dropout, Bidirectional, GRU\n",
        "from tensorflow.keras.optimizers import Adam\n",
        "\n",
        "# Load dataset\n",
        "file_path = \"/content/Use of Energy of Energy Carriers.csv\"  # Update with your file path\n",
        "df = pd.read_csv(file_path)\n",
        "\n",
        "# Convert 'Year' column to datetime and sort\n",
        "df['Year'] = pd.to_datetime(df['Year'], format='%Y')\n",
        "df.sort_values(by='Year', inplace=True)\n",
        "\n",
        "# Select relevant energy carriers (Use multiple features)\n",
        "selected_features = [\"Crude Oil\", \"Electricity\", \"Hard Coal\", \"Natural Gas\"]  # Update based on your dataset\n",
        "df_selected = df[['Year'] + selected_features].copy()\n",
        "\n",
        "# Normalize data\n",
        "scaler = MinMaxScaler()\n",
        "df_scaled = scaler.fit_transform(df_selected[selected_features])\n",
        "\n",
        "# Convert back to DataFrame\n",
        "df_scaled = pd.DataFrame(df_scaled, columns=selected_features, index=df_selected['Year'])\n"
      ],
      "metadata": {
        "id": "h7tiwXt4OUtC"
      },
      "execution_count": null,
      "outputs": []
    },
    {
      "cell_type": "code",
      "source": [
        "import pandas as pd\n",
        "\n",
        "# Load the dataset\n",
        "file_path = \"/content/Use of Energy of Energy Carriers.csv\"  # Update your file path\n",
        "df = pd.read_csv(file_path)\n",
        "\n",
        "# Reshape: Convert wide format (years as columns) to long format\n",
        "df_melted = df.melt(id_vars=[\"Energy Carrier\"], var_name=\"Year\", value_name=\"Consumption\")\n",
        "\n",
        "# Convert 'Year' to integer\n",
        "df_melted[\"Year\"] = df_melted[\"Year\"].astype(int)\n",
        "\n",
        "# Sort by Year and Carrier\n",
        "df_melted.sort_values(by=[\"Energy Carrier\", \"Year\"], inplace=True)\n",
        "\n",
        "# Print to verify structure\n",
        "print(df_melted.head())\n",
        "\n",
        "# Pivot table to get years as index and Energy Carriers as columns\n",
        "df_pivot = df_melted.pivot(index=\"Year\", columns=\"Energy Carrier\", values=\"Consumption\").reset_index()\n",
        "\n",
        "# Display new structure\n",
        "print(df_pivot.head())\n"
      ],
      "metadata": {
        "id": "4lAMBEouP1ze"
      },
      "execution_count": null,
      "outputs": []
    },
    {
      "cell_type": "code",
      "source": [
        "print(df.columns)\n"
      ],
      "metadata": {
        "id": "SuPlYK0LQIqP"
      },
      "execution_count": null,
      "outputs": []
    },
    {
      "cell_type": "code",
      "source": [
        "df_melted = df.melt(id_vars=[\"Energy Carriers\"], var_name=\"Year\", value_name=\"Consumption\")\n"
      ],
      "metadata": {
        "id": "ldNVT1CUQUmM"
      },
      "execution_count": null,
      "outputs": []
    },
    {
      "cell_type": "code",
      "source": [
        "df_melted = df.melt(id_vars=[\"Branch Code\", \"Homogeneous Branches\", \"Energy Carriers\"],\n",
        "                    var_name=\"Year\", value_name=\"Consumption\")\n"
      ],
      "metadata": {
        "id": "LgSUTR8WQXWS"
      },
      "execution_count": null,
      "outputs": []
    },
    {
      "cell_type": "code",
      "source": [
        "df_melted[\"Year\"] = df_melted[\"Year\"].astype(int)\n"
      ],
      "metadata": {
        "id": "nnhbsrlOQaGk"
      },
      "execution_count": null,
      "outputs": []
    },
    {
      "cell_type": "code",
      "source": [
        "from sklearn.preprocessing import MinMaxScaler\n",
        "import numpy as np\n",
        "import pandas as pd\n",
        "\n",
        "# Select relevant columns\n",
        "df_model = df_melted[[\"Year\", \"Consumption\"]]\n",
        "\n",
        "# Normalize 'Consumption'\n",
        "scaler = MinMaxScaler(feature_range=(0, 1))\n",
        "df_model[\"Scaled_Consumption\"] = scaler.fit_transform(df_model[[\"Consumption\"]])\n",
        "\n",
        "# Print to verify\n",
        "print(df_model.head())\n"
      ],
      "metadata": {
        "id": "_vvG4x6vQt9Z"
      },
      "execution_count": null,
      "outputs": []
    },
    {
      "cell_type": "code",
      "source": [
        "def create_sequences(data, seq_length=10):\n",
        "    X, y = [], []\n",
        "    for i in range(len(data) - seq_length):\n",
        "        X.append(data[i:i+seq_length])\n",
        "        y.append(data[i+seq_length])\n",
        "    return np.array(X), np.array(y)\n",
        "\n",
        "# Convert 'Scaled_Consumption' to numpy array\n",
        "data = df_model[\"Scaled_Consumption\"].values\n",
        "\n",
        "# Define sequence length (e.g., use past 10 years to predict next year)\n",
        "seq_length = 10\n",
        "X, y = create_sequences(data, seq_length)\n",
        "\n",
        "# Reshape input for Bi-GRU (samples, time steps, features)\n",
        "X = X.reshape((X.shape[0], X.shape[1], 1))\n",
        "\n",
        "# Print shape to verify\n",
        "print(\"X shape:\", X.shape)\n",
        "print(\"y shape:\", y.shape)\n"
      ],
      "metadata": {
        "id": "bfX4bOumQzqg"
      },
      "execution_count": null,
      "outputs": []
    },
    {
      "cell_type": "code",
      "source": [
        "from sklearn.model_selection import train_test_split\n",
        "\n",
        "# Split 80% Train - 20% Test\n",
        "X_train, X_test, y_train, y_test = train_test_split(X, y, test_size=0.2, shuffle=False)\n",
        "\n",
        "print(\"Train Shape:\", X_train.shape, y_train.shape)\n",
        "print(\"Test Shape:\", X_test.shape, y_test.shape)\n"
      ],
      "metadata": {
        "id": "ANPrpXArQ9WG"
      },
      "execution_count": null,
      "outputs": []
    },
    {
      "cell_type": "code",
      "source": [
        "import tensorflow as tf\n",
        "from tensorflow.keras.models import Sequential\n",
        "from tensorflow.keras.layers import Dense, Dropout, Bidirectional, GRU\n",
        "\n",
        "# Define the Bi-GRU model\n",
        "model = Sequential([\n",
        "    Bidirectional(GRU(64, return_sequences=True, input_shape=(X_train.shape[1], 1))),\n",
        "    Dropout(0.2),  # Regularization\n",
        "    Bidirectional(GRU(32, return_sequences=False)),\n",
        "    Dropout(0.2),\n",
        "    Dense(1)  # Output Layer (Single value prediction)\n",
        "])\n",
        "\n",
        "# Compile the model\n",
        "model.compile(optimizer='adam', loss='mse')\n",
        "\n",
        "# Print model summary\n",
        "model.summary()\n"
      ],
      "metadata": {
        "id": "JrXE2PXBRHWo"
      },
      "execution_count": null,
      "outputs": []
    },
    {
      "cell_type": "code",
      "source": [
        "# Train the model\n",
        "history = model.fit(X_train, y_train, validation_data=(X_test, y_test),\n",
        "                    epochs=50, batch_size=16, verbose=1)\n",
        "\n",
        "# Save training history for visualization\n",
        "loss = history.history['loss']\n",
        "val_loss = history.history['val_loss']\n"
      ],
      "metadata": {
        "id": "tsO23_LRRPbB"
      },
      "execution_count": null,
      "outputs": []
    },
    {
      "cell_type": "code",
      "source": [
        "import matplotlib.pyplot as plt\n",
        "\n",
        "# Plot Training vs Validation Loss\n",
        "plt.figure(figsize=(8,5))\n",
        "plt.plot(loss, label='Train Loss')\n",
        "plt.plot(val_loss, label='Validation Loss')\n",
        "plt.xlabel(\"Epochs\")\n",
        "plt.ylabel(\"Loss (MSE)\")\n",
        "plt.title(\"Bi-GRU Training Loss Curve\")\n",
        "plt.legend()\n",
        "plt.show()\n"
      ],
      "metadata": {
        "id": "kO6eXYA7W8TE"
      },
      "execution_count": null,
      "outputs": []
    },
    {
      "cell_type": "code",
      "source": [
        "# Step 1: Generate Predictions\n",
        "y_test_pred = model.predict(X_test_bi_gru)\n",
        "\n",
        "# Step 2: Convert Predictions Back to Original Scale\n",
        "y_test_pred = scaler.inverse_transform(y_test_pred)\n",
        "y_test_actual = scaler.inverse_transform(y_test.reshape(-1, 1))\n",
        "\n",
        "# Step 3: Evaluate Performance Metrics\n",
        "mse_bi_gru = mean_squared_error(y_test_actual, y_test_pred)\n",
        "rmse_bi_gru = np.sqrt(mse_bi_gru)\n",
        "mape_bi_gru = mean_absolute_percentage_error(y_test_actual, y_test_pred) * 100  # Convert to percentage\n",
        "\n",
        "# Print the performance metrics\n",
        "print(f\"Bi-GRU Model Performance:\\nMSE: {mse_bi_gru:.2f}\\nRMSE: {rmse_bi_gru:.2f}\\nMAPE: {mape_bi_gru:.2f}%\")\n",
        "\n",
        "# Step 4: Forecast Future Energy Consumption (2021-2030)\n",
        "future_years = np.arange(2021, 2031)\n",
        "future_predictions = model.predict(X_future)  # Ensure X_future is correctly prepared\n",
        "future_predictions = scaler.inverse_transform(future_predictions)\n",
        "\n",
        "# Step 5: Plot the Forecast\n",
        "plt.figure(figsize=(10, 6))\n",
        "plt.plot(years, y_actual, 'bo-', label=\"Actual (1995-2020)\")\n",
        "plt.plot(future_years, future_predictions, 'r.-', label=\"Bi-GRU Forecast (2021-2030)\")\n",
        "plt.xlabel(\"Year\")\n",
        "plt.ylabel(\"Energy Consumption\")\n",
        "plt.title(\"Energy Consumption Forecast (2021-2030) using Bi-GRU\")\n",
        "plt.legend()\n",
        "plt.grid()\n",
        "plt.show()\n"
      ],
      "metadata": {
        "id": "WgUg6QbOXkkJ"
      },
      "execution_count": null,
      "outputs": []
    },
    {
      "cell_type": "code",
      "source": [
        "# Ensure the test dataset exists and is properly shaped\n",
        "X_test_bi_gru = X_test.reshape((X_test.shape[0], X_test.shape[1], 1))  # Reshape for Bi-GRU input\n",
        "\n",
        "# Generate Predictions\n",
        "y_test_pred = model.predict(X_test_bi_gru)\n",
        "\n",
        "# Convert Predictions Back to Original Scale\n",
        "y_test_pred = scaler.inverse_transform(y_test_pred)\n",
        "y_test_actual = scaler.inverse_transform(y_test.reshape(-1, 1))\n",
        "\n",
        "# Evaluate Performance Metrics\n",
        "mse_bi_gru = mean_squared_error(y_test_actual, y_test_pred)\n",
        "rmse_bi_gru = np.sqrt(mse_bi_gru)\n",
        "mape_bi_gru = mean_absolute_percentage_error(y_test_actual, y_test_pred) * 100  # Convert to percentage\n",
        "\n",
        "# Print Performance Metrics\n",
        "print(f\"Bi-GRU Model Performance:\\nMSE: {mse_bi_gru:.2f}\\nRMSE: {rmse_bi_gru:.2f}\\nMAPE: {mape_bi_gru:.2f}%\")\n"
      ],
      "metadata": {
        "id": "uKALPxfCX4AY"
      },
      "execution_count": null,
      "outputs": []
    },
    {
      "cell_type": "code",
      "source": [
        "print(\"Min value in training data:\", X_train.min())\n",
        "print(\"Max value in training data:\", X_train.max())\n",
        "print(\"Min value in test data:\", X_test.min())\n",
        "print(\"Max value in test data:\", X_test.max())\n"
      ],
      "metadata": {
        "id": "xl-6PGtWYKZd"
      },
      "execution_count": null,
      "outputs": []
    },
    {
      "cell_type": "code",
      "source": [
        "from sklearn.preprocessing import MinMaxScaler\n",
        "\n",
        "scaler = MinMaxScaler()  # Define once\n",
        "\n",
        "# Fit ONLY on training data\n",
        "X_train_scaled = scaler.fit_transform(X_train)\n",
        "\n",
        "# Transform test data using the SAME scaler\n",
        "X_test_scaled = scaler.transform(X_test)\n"
      ],
      "metadata": {
        "id": "aXbi3U9nYZQI"
      },
      "execution_count": null,
      "outputs": []
    },
    {
      "cell_type": "code",
      "source": [
        "print(\"X_train shape:\", X_train.shape)\n",
        "print(\"X_test shape:\", X_test.shape)\n"
      ],
      "metadata": {
        "id": "TT6EPcujYuib"
      },
      "execution_count": null,
      "outputs": []
    },
    {
      "cell_type": "code",
      "source": [
        "# Reshape from (samples, timesteps, features) → (samples, features)\n",
        "X_train_reshaped = X_train.reshape(X_train.shape[0], -1)\n",
        "X_test_reshaped = X_test.reshape(X_test.shape[0], -1)\n",
        "\n",
        "# Apply MinMaxScaler\n",
        "scaler = MinMaxScaler()\n",
        "X_train_scaled = scaler.fit_transform(X_train_reshaped)\n",
        "X_test_scaled = scaler.transform(X_test_reshaped)\n",
        "\n",
        "# Reshape back to 3D for LSTM/Bi-GRU\n",
        "X_train_final = X_train_scaled.reshape(X_train.shape[0], X_train.shape[1], X_train.shape[2])\n",
        "X_test_final = X_test_scaled.reshape(X_test.shape[0], X_test.shape[1], X_test.shape[2])\n",
        "\n",
        "print(\"X_train_final shape:\", X_train_final.shape)\n",
        "print(\"X_test_final shape:\", X_test_final.shape)\n"
      ],
      "metadata": {
        "id": "vqW9gVOCY5cS"
      },
      "execution_count": null,
      "outputs": []
    },
    {
      "cell_type": "code",
      "source": [
        "from tensorflow.keras.models import Sequential\n",
        "from tensorflow.keras.layers import Bidirectional, GRU, Dense, Dropout\n",
        "from tensorflow.keras.optimizers import Adam\n",
        "\n",
        "# Define the Bi-GRU model architecture\n",
        "model_bi_gru = Sequential([\n",
        "    Bidirectional(GRU(64, return_sequences=True, activation='relu'), input_shape=(X_train_final.shape[1], X_train_final.shape[2])),\n",
        "    Dropout(0.2),\n",
        "    Bidirectional(GRU(32, return_sequences=False, activation='relu')),\n",
        "    Dropout(0.2),\n",
        "    Dense(1)  # Output layer for forecasting\n",
        "])\n",
        "\n",
        "# Compile the model\n",
        "model_bi_gru.compile(optimizer=Adam(learning_rate=0.001), loss='mse')\n",
        "\n",
        "# Print model summary\n",
        "model_bi_gru.summary()\n"
      ],
      "metadata": {
        "id": "VFbYoSV3ZV-j"
      },
      "execution_count": null,
      "outputs": []
    },
    {
      "cell_type": "code",
      "source": [
        "from tensorflow.keras.callbacks import EarlyStopping\n",
        "import matplotlib.pyplot as plt\n",
        "\n",
        "# Early stopping to prevent overfitting\n",
        "early_stopping = EarlyStopping(monitor='val_loss', patience=10, restore_best_weights=True)\n",
        "\n",
        "# Train the model\n",
        "history_bi_gru = model_bi_gru.fit(\n",
        "    X_train_final, y_train,\n",
        "    epochs=50, batch_size=32,\n",
        "    validation_data=(X_test_final, y_test),\n",
        "    callbacks=[early_stopping], verbose=1\n",
        ")\n",
        "\n",
        "# Plot training and validation loss\n",
        "plt.plot(history_bi_gru.history['loss'], label='Train Loss')\n",
        "plt.plot(history_bi_gru.history['val_loss'], label='Validation Loss')\n",
        "plt.title('Bi-GRU Training Loss Curve')\n",
        "plt.xlabel('Epochs')\n",
        "plt.ylabel('Loss (MSE)')\n",
        "plt.legend()\n",
        "plt.grid()\n",
        "plt.show()\n"
      ],
      "metadata": {
        "id": "FHSL6slXZaXy"
      },
      "execution_count": null,
      "outputs": []
    },
    {
      "cell_type": "code",
      "source": [
        "import numpy as np\n",
        "from sklearn.metrics import mean_squared_error, mean_absolute_percentage_error\n",
        "\n",
        "# Generate predictions\n",
        "y_test_pred = model_bi_gru.predict(X_test_final)\n",
        "\n",
        "# Convert predictions back to original scale\n",
        "y_test_pred = scaler.inverse_transform(y_test_pred)\n",
        "y_test_actual = scaler.inverse_transform(y_test.reshape(-1, 1))\n",
        "\n",
        "# Compute performance metrics\n",
        "mse_bi_gru = mean_squared_error(y_test_actual, y_test_pred)\n",
        "rmse_bi_gru = np.sqrt(mse_bi_gru)\n",
        "mape_bi_gru = mean_absolute_percentage_error(y_test_actual, y_test_pred) * 100  # Convert to percentage\n",
        "\n",
        "# Print performance metrics\n",
        "print(f\"Bi-GRU Model Performance:\\nMSE: {mse_bi_gru:.2f}\\nRMSE: {rmse_bi_gru:.2f}\\nMAPE: {mape_bi_gru:.2f}%\")\n"
      ],
      "metadata": {
        "id": "nDGyy42Ta-As"
      },
      "execution_count": null,
      "outputs": []
    },
    {
      "cell_type": "code",
      "source": [
        "# Create new input data for future years (2021-2030)\n",
        "X_future = np.copy(X_test_final[-1, :, :])  # Use last known sequence\n",
        "future_predictions = []\n",
        "\n",
        "for i in range(10):  # Predict for 10 years\n",
        "    pred = model_bi_gru.predict(X_future.reshape(1, X_future.shape[0], X_future.shape[1]))\n",
        "    future_predictions.append(pred[0, 0])  # Append prediction\n",
        "\n",
        "    # Update input sequence with new prediction\n",
        "    X_future = np.roll(X_future, shift=-1, axis=0)\n",
        "    X_future[-1] = pred  # Replace last step with predicted value\n",
        "\n",
        "# Convert to original scale\n",
        "future_predictions = scaler.inverse_transform(np.array(future_predictions).reshape(-1, 1))\n",
        "\n",
        "# Prepare forecast dataframe\n",
        "years = np.arange(2021, 2031)\n",
        "forecast_df = pd.DataFrame({'Year': years, 'Predicted Energy Consumption': future_predictions.flatten()})\n",
        "\n",
        "# Plot results\n",
        "plt.figure(figsize=(10, 5))\n",
        "plt.plot(np.arange(1995, 2021), y_test_actual.flatten(), label=\"Actual (1995-2020)\", marker='o', linestyle=\"-\", color=\"blue\")\n",
        "plt.plot(years, future_predictions.flatten(), label=\"Bi-GRU Forecast (2021-2030)\", marker='o', linestyle=\"--\", color=\"red\")\n",
        "plt.title(\"Energy Consumption Forecast (2021-2030) using Bi-GRU\")\n",
        "plt.xlabel(\"Year\")\n",
        "plt.ylabel(\"Energy Consumption\")\n",
        "plt.legend()\n",
        "plt.grid()\n",
        "plt.show()\n"
      ],
      "metadata": {
        "id": "gm54LZRdbFWZ"
      },
      "execution_count": null,
      "outputs": []
    },
    {
      "cell_type": "code",
      "source": [
        "from tensorflow.keras.models import Sequential\n",
        "from tensorflow.keras.layers import Bidirectional, GRU, Dense, Dropout\n",
        "from tensorflow.keras.optimizers import Adam\n",
        "\n",
        "# Define Bi-GRU model\n",
        "model_bi_gru = Sequential([\n",
        "    Bidirectional(GRU(64, return_sequences=True, activation='relu'), input_shape=(X_train_final.shape[1], X_train_final.shape[2])),\n",
        "    Dropout(0.2),\n",
        "    Bidirectional(GRU(32, return_sequences=False, activation='relu')),\n",
        "    Dropout(0.2),\n",
        "    Dense(1)\n",
        "])\n",
        "\n",
        "# Compile model\n",
        "model_bi_gru.compile(optimizer=Adam(learning_rate=0.001), loss='mse')\n",
        "\n",
        "# Display model architecture\n",
        "model_bi_gru.summary()\n"
      ],
      "metadata": {
        "id": "BnVO2JbXbK1u"
      },
      "execution_count": null,
      "outputs": []
    },
    {
      "cell_type": "code",
      "source": [
        "import matplotlib.pyplot as plt\n",
        "\n",
        "# Train the model\n",
        "history = model_bi_gru.fit(X_train_final, y_train, epochs=50, batch_size=32, validation_data=(X_test_final, y_test), verbose=1)\n",
        "\n",
        "# Plot training loss curve\n",
        "plt.figure(figsize=(8, 5))\n",
        "plt.plot(history.history['loss'], label='Train Loss', color='blue')\n",
        "plt.plot(history.history['val_loss'], label='Validation Loss', color='orange')\n",
        "plt.title(\"Bi-GRU Training Loss Curve\")\n",
        "plt.xlabel(\"Epochs\")\n",
        "plt.ylabel(\"Loss (MSE)\")\n",
        "plt.legend()\n",
        "plt.grid()\n",
        "plt.show()\n"
      ],
      "metadata": {
        "id": "c357_Ze_bNlR"
      },
      "execution_count": null,
      "outputs": []
    },
    {
      "cell_type": "code",
      "source": [
        "import numpy as np\n",
        "from sklearn.metrics import mean_squared_error, mean_absolute_percentage_error\n",
        "\n",
        "# Generate predictions\n",
        "y_test_pred = model_bi_gru.predict(X_test_final)\n",
        "\n",
        "# Convert predictions back to original scale\n",
        "y_test_pred = scaler.inverse_transform(y_test_pred)\n",
        "y_test_actual = scaler.inverse_transform(y_test.reshape(-1, 1))\n",
        "\n",
        "# Compute performance metrics\n",
        "mse_bi_gru = mean_squared_error(y_test_actual, y_test_pred)\n",
        "rmse_bi_gru = np.sqrt(mse_bi_gru)\n",
        "mape_bi_gru = mean_absolute_percentage_error(y_test_actual, y_test_pred) * 100  # Convert to percentage\n",
        "\n",
        "# Print performance metrics\n",
        "print(f\"Bi-GRU Model Performance:\\nMSE: {mse_bi_gru:.2f}\\nRMSE: {rmse_bi_gru:.2f}\\nMAPE: {mape_bi_gru:.2f}%\")\n"
      ],
      "metadata": {
        "id": "jH1WVyr5b98f"
      },
      "execution_count": null,
      "outputs": []
    },
    {
      "cell_type": "code",
      "source": [
        "# Generate Predictions\n",
        "y_test_pred = model_bi_gru.predict(X_test_final)\n",
        "\n",
        "# Reshape predictions to match scaler expected shape (single column)\n",
        "y_test_pred = y_test_pred.reshape(-1, 1)\n",
        "\n",
        "# Convert predictions back to original scale\n",
        "y_test_pred_original = scaler.inverse_transform(y_test_pred)\n",
        "y_test_actual_original = scaler.inverse_transform(y_test.reshape(-1, 1))\n",
        "\n",
        "# Evaluate Performance Metrics\n",
        "mse_bi_gru = mean_squared_error(y_test_actual_original, y_test_pred_original)\n",
        "rmse_bi_gru = np.sqrt(mse_bi_gru)\n",
        "mape_bi_gru = mean_absolute_percentage_error(y_test_actual_original, y_test_pred_original) * 100  # Convert to percentage\n",
        "\n",
        "# Print Performance Metrics\n",
        "print(f\"Bi-GRU Model Performance:\\nMSE: {mse_bi_gru:.2f}\\nRMSE: {rmse_bi_gru:.2f}\\nMAPE: {mape_bi_gru:.2f}%\")\n"
      ],
      "metadata": {
        "id": "mOz_DuMKcSC6"
      },
      "execution_count": null,
      "outputs": []
    },
    {
      "cell_type": "code",
      "source": [
        "# Generate Predictions\n",
        "y_test_pred = model_bi_gru.predict(X_test_final)\n",
        "\n",
        "# Reshape predictions and test labels to match scaler expected shape (single column)\n",
        "y_test_pred = y_test_pred[:, 0].reshape(-1, 1)  # Select first column and reshape\n",
        "y_test_actual = y_test[:, 0].reshape(-1, 1)  # Select first column and reshape\n",
        "\n",
        "# Convert predictions back to original scale\n",
        "y_test_pred_original = scaler.inverse_transform(y_test_pred)\n",
        "y_test_actual_original = scaler.inverse_transform(y_test_actual)\n",
        "\n",
        "# Evaluate Performance Metrics\n",
        "mse_bi_gru = mean_squared_error(y_test_actual_original, y_test_pred_original)\n",
        "rmse_bi_gru = np.sqrt(mse_bi_gru)\n",
        "mape_bi_gru = mean_absolute_percentage_error(y_test_actual_original, y_test_pred_original) * 100  # Convert to percentage\n",
        "\n",
        "# Print Performance Metrics\n",
        "print(f\"Bi-GRU Model Performance:\\nMSE: {mse_bi_gru:.2f}\\nRMSE: {rmse_bi_gru:.2f}\\nMAPE: {mape_bi_gru:.2f}%\")\n"
      ],
      "metadata": {
        "id": "yIfjZmXWcg2C"
      },
      "execution_count": null,
      "outputs": []
    },
    {
      "cell_type": "code",
      "source": [
        "# Reshape predictions and test labels to match scaler expected shape (single column)\n",
        "y_test_pred = y_test_pred.reshape(-1, 1)  # Simply reshape without indexing\n",
        "y_test_actual = y_test.reshape(-1, 1)  # Simply reshape without indexing\n"
      ],
      "metadata": {
        "id": "cSmURFYNcx4n"
      },
      "execution_count": null,
      "outputs": []
    },
    {
      "cell_type": "code",
      "source": [
        "# Generate Predictions\n",
        "y_test_pred = model_bi_gru.predict(X_test_final)\n",
        "\n",
        "# Reshape predictions and test labels to match scaler expected shape (single column)\n",
        "y_test_pred = y_test_pred.reshape(-1, 1)  # Convert to 2D for scaler\n",
        "y_test_actual = y_test.reshape(-1, 1)  # Convert to 2D for scaler\n",
        "\n",
        "# Convert predictions back to original scale\n",
        "y_test_pred_original = scaler.inverse_transform(y_test_pred)\n",
        "y_test_actual_original = scaler.inverse_transform(y_test_actual)\n",
        "\n",
        "# Evaluate Performance Metrics\n",
        "mse_bi_gru = mean_squared_error(y_test_actual_original, y_test_pred_original)\n",
        "rmse_bi_gru = np.sqrt(mse_bi_gru)\n",
        "mape_bi_gru = mean_absolute_percentage_error(y_test_actual_original, y_test_pred_original) * 100  # Convert to percentage\n",
        "\n",
        "# Print Performance Metrics\n",
        "print(f\"Bi-GRU Model Performance:\\nMSE: {mse_bi_gru:.2f}\\nRMSE: {rmse_bi_gru:.2f}\\nMAPE: {mape_bi_gru:.2f}%\")\n"
      ],
      "metadata": {
        "id": "IYTTD0y6c0-w"
      },
      "execution_count": null,
      "outputs": []
    },
    {
      "cell_type": "code",
      "source": [
        "scaler_y = MinMaxScaler()  # Separate scaler for target variable\n",
        "y_train_scaled = scaler_y.fit_transform(y_train.reshape(-1, 1))  # Fit on y_train only\n"
      ],
      "metadata": {
        "id": "0MZWraUHdGH3"
      },
      "execution_count": null,
      "outputs": []
    },
    {
      "cell_type": "code",
      "source": [
        "y_test_pred_original = scaler_y.inverse_transform(y_test_pred)  # Use separate scaler for target\n",
        "y_test_actual_original = scaler_y.inverse_transform(y_test_actual)\n"
      ],
      "metadata": {
        "id": "xrfnnM6ZdIxt"
      },
      "execution_count": null,
      "outputs": []
    },
    {
      "cell_type": "code",
      "source": [
        "# Step 1: Generate Predictions\n",
        "y_test_pred = model_bi_gru.predict(X_test_final)\n",
        "\n",
        "# Step 2: Convert Predictions Back to Original Scale\n",
        "y_test_pred_original = scaler_y.inverse_transform(y_test_pred)  # Use separate scaler for target\n",
        "y_test_actual_original = scaler_y.inverse_transform(y_test_actual.reshape(-1, 1))\n",
        "\n",
        "# Step 3: Evaluate Performance Metrics\n",
        "mse_bi_gru = mean_squared_error(y_test_actual_original, y_test_pred_original)\n",
        "rmse_bi_gru = np.sqrt(mse_bi_gru)\n",
        "mape_bi_gru = mean_absolute_percentage_error(y_test_actual_original, y_test_pred_original) * 100  # Convert to percentage\n",
        "\n",
        "# Step 4: Print Performance Metrics\n",
        "print(f\"Bi-GRU Model Performance:\\nMSE: {mse_bi_gru:.2f}\\nRMSE: {rmse_bi_gru:.2f}\\nMAPE: {mape_bi_gru:.2f}%\")\n"
      ],
      "metadata": {
        "id": "Uh8OF6n9dLkq"
      },
      "execution_count": null,
      "outputs": []
    },
    {
      "cell_type": "code",
      "source": [
        "scaler_y = MinMaxScaler()\n",
        "y_train_scaled = scaler_y.fit_transform(y_train.reshape(-1, 1))  # Fit only on y_train\n",
        "y_test_scaled = scaler_y.transform(y_test.reshape(-1, 1))  # Transform y_test\n"
      ],
      "metadata": {
        "id": "LHtfFtBQdfJL"
      },
      "execution_count": null,
      "outputs": []
    },
    {
      "cell_type": "code",
      "source": [
        "print(\"Unique Predictions:\", np.unique(y_test_pred_original))\n"
      ],
      "metadata": {
        "id": "Nf9ZyolNdh0N"
      },
      "execution_count": null,
      "outputs": []
    },
    {
      "cell_type": "code",
      "source": [
        "mape_bi_gru = np.mean(np.abs((y_test_actual_original - y_test_pred_original) /\n",
        "               np.maximum(y_test_actual_original, 1e-5))) * 100\n"
      ],
      "metadata": {
        "id": "t0nd2ZUodmwK"
      },
      "execution_count": null,
      "outputs": []
    },
    {
      "cell_type": "code",
      "source": [
        "scaler_y = MinMaxScaler()\n",
        "y_train_scaled = scaler_y.fit_transform(y_train.reshape(-1, 1))  # Fit only on y_train\n",
        "y_test_scaled = scaler_y.transform(y_test.reshape(-1, 1))  # Transform y_test\n"
      ],
      "metadata": {
        "id": "zZtoFXbzeHhx"
      },
      "execution_count": null,
      "outputs": []
    },
    {
      "cell_type": "code",
      "source": [
        "y_test_pred_original = scaler_y.inverse_transform(y_test_pred.reshape(-1, 1))\n"
      ],
      "metadata": {
        "id": "mCPzqGU8eKZW"
      },
      "execution_count": null,
      "outputs": []
    },
    {
      "cell_type": "code",
      "source": [
        "print(\"Min Y_train_scaled:\", np.min(y_train_scaled))\n",
        "print(\"Max Y_train_scaled:\", np.max(y_train_scaled))\n"
      ],
      "metadata": {
        "id": "FsAZ9E0xeOpQ"
      },
      "execution_count": null,
      "outputs": []
    },
    {
      "cell_type": "code",
      "source": [
        "print(\"First 10 actual values:\", y_test_actual_original[:10])\n",
        "print(\"First 10 predicted values:\", y_test_pred_original[:10])\n"
      ],
      "metadata": {
        "id": "H0AXSAHceSV8"
      },
      "execution_count": null,
      "outputs": []
    },
    {
      "cell_type": "code",
      "source": [
        "from tensorflow.keras.models import Sequential\n",
        "from tensorflow.keras.layers import Bidirectional, GRU, Dense, Dropout, BatchNormalization\n",
        "from tensorflow.keras.optimizers import AdamW\n",
        "\n",
        "# Define the Bi-GRU Model\n",
        "model = Sequential([\n",
        "    Bidirectional(GRU(128, return_sequences=True, activation='tanh', recurrent_dropout=0.2)),\n",
        "    BatchNormalization(),\n",
        "    Dropout(0.3),\n",
        "\n",
        "    Bidirectional(GRU(64, return_sequences=True, activation='tanh', recurrent_dropout=0.2)),\n",
        "    BatchNormalization(),\n",
        "    Dropout(0.3),\n",
        "\n",
        "    Bidirectional(GRU(32, return_sequences=False, activation='tanh', recurrent_dropout=0.2)),\n",
        "    BatchNormalization(),\n",
        "    Dropout(0.3),\n",
        "\n",
        "    Dense(1, activation='linear')  # Regression output\n",
        "])\n",
        "\n",
        "# Compile the model\n",
        "model.compile(optimizer=AdamW(learning_rate=0.001), loss='huber_loss')\n",
        "\n",
        "# Print Summary\n",
        "model.summary()\n"
      ],
      "metadata": {
        "id": "IkWyBe_Ye4BR"
      },
      "execution_count": null,
      "outputs": []
    },
    {
      "cell_type": "code",
      "source": [
        "history = model.fit(X_train_final, y_train_scaled,\n",
        "                    epochs=150,\n",
        "                    batch_size=32,\n",
        "                    validation_data=(X_test_final, y_test_scaled),\n",
        "                    verbose=1)\n"
      ],
      "metadata": {
        "id": "R8m9stxOe8QY"
      },
      "execution_count": null,
      "outputs": []
    },
    {
      "cell_type": "code",
      "source": [
        "from tensorflow.keras.models import Sequential\n",
        "from tensorflow.keras.layers import Bidirectional, GRU, Dense, Dropout, BatchNormalization\n",
        "from tensorflow.keras.optimizers import AdamW\n",
        "\n",
        "# Define the Bi-GRU Model\n",
        "model = Sequential([\n",
        "    Bidirectional(GRU(128, return_sequences=True, activation='tanh', recurrent_dropout=0.2, input_shape=(X_train_final.shape[1], X_train_final.shape[2]))),\n",
        "    BatchNormalization(),\n",
        "    Dropout(0.3),\n",
        "\n",
        "    Bidirectional(GRU(64, return_sequences=True, activation='tanh', recurrent_dropout=0.2)),\n",
        "    BatchNormalization(),\n",
        "    Dropout(0.3),\n",
        "\n",
        "    Bidirectional(GRU(32, return_sequences=False, activation='tanh', recurrent_dropout=0.2)),\n",
        "    BatchNormalization(),\n",
        "    Dropout(0.3),\n",
        "\n",
        "    Dense(1, activation='linear')  # Regression output\n",
        "])\n",
        "\n",
        "# Compile the model\n",
        "model.compile(optimizer=AdamW(learning_rate=0.001), loss='huber_loss')\n",
        "\n",
        "# Print Model Summary\n",
        "model.summary()\n"
      ],
      "metadata": {
        "id": "V3LFoqaIfP4D"
      },
      "execution_count": null,
      "outputs": []
    },
    {
      "cell_type": "code",
      "source": [
        "from tensorflow.keras.models import Sequential\n",
        "from tensorflow.keras.layers import Bidirectional, GRU, Dense, Dropout, BatchNormalization\n",
        "from tensorflow.keras.optimizers import AdamW\n",
        "\n",
        "# Ensure input shape is explicitly set\n",
        "input_shape = (X_train_final.shape[1], X_train_final.shape[2])\n",
        "\n",
        "# Define the Bi-GRU Model\n",
        "model = Sequential([\n",
        "    Bidirectional(GRU(128, return_sequences=True, activation='tanh', recurrent_dropout=0.2, input_shape=input_shape)),\n",
        "    BatchNormalization(),\n",
        "    Dropout(0.3),\n",
        "\n",
        "    Bidirectional(GRU(64, return_sequences=True, activation='tanh', recurrent_dropout=0.2)),\n",
        "    BatchNormalization(),\n",
        "    Dropout(0.3),\n",
        "\n",
        "    Bidirectional(GRU(32, return_sequences=False, activation='tanh', recurrent_dropout=0.2)),\n",
        "    BatchNormalization(),\n",
        "    Dropout(0.3),\n",
        "\n",
        "    Dense(1, activation='linear')  # Output layer for regression\n",
        "])\n",
        "\n",
        "# Compile the model\n",
        "model.compile(optimizer=AdamW(learning_rate=0.001), loss='huber_loss')\n",
        "\n",
        "# Print Model Summary\n",
        "model.summary()\n"
      ],
      "metadata": {
        "id": "6dVswo39fdfr"
      },
      "execution_count": null,
      "outputs": []
    },
    {
      "cell_type": "code",
      "source": [
        "# Ensure input shape is explicitly set\n",
        "input_shape = (X_train_final.shape[1], X_train_final.shape[2])\n",
        "\n",
        "# Define the Bi-GRU Model\n",
        "model = Sequential([\n",
        "    Bidirectional(GRU(128, return_sequences=True, activation='tanh', recurrent_dropout=0.2, input_shape=input_shape)),\n",
        "    BatchNormalization(),\n",
        "    Dropout(0.3),\n",
        "\n",
        "    Bidirectional(GRU(64, return_sequences=True, activation='tanh', recurrent_dropout=0.2)),\n",
        "    BatchNormalization(),\n",
        "    Dropout(0.3),\n",
        "\n",
        "    Bidirectional(GRU(32, return_sequences=False, activation='tanh', recurrent_dropout=0.2)),\n",
        "    BatchNormalization(),\n",
        "    Dropout(0.3),\n",
        "\n",
        "    Dense(1, activation='linear')  # Output layer for regression\n",
        "])\n",
        "\n",
        "# Compile the model\n",
        "model.compile(optimizer='adam', loss='mse')\n",
        "\n",
        "# Print Model Summary\n",
        "model.build(input_shape=(None, X_train_final.shape[1], X_train_final.shape[2]))  # Manually build the model\n",
        "model.summary()\n"
      ],
      "metadata": {
        "id": "nDk6RTHyfs0a"
      },
      "execution_count": null,
      "outputs": []
    },
    {
      "cell_type": "code",
      "source": [
        "# Train the model\n",
        "history = model.fit(\n",
        "    X_train_final, y_train_scaled,\n",
        "    validation_data=(X_test_final, y_test_scaled),\n",
        "    epochs=50,  # Adjust based on time constraints\n",
        "    batch_size=32,\n",
        "    verbose=1\n",
        ")\n"
      ],
      "metadata": {
        "id": "HuJnm7z4gODb"
      },
      "execution_count": null,
      "outputs": []
    },
    {
      "cell_type": "code",
      "source": [
        "import matplotlib.pyplot as plt\n",
        "\n",
        "# Plot training & validation loss\n",
        "plt.figure(figsize=(8, 5))\n",
        "plt.plot(history.history['loss'], label=\"Train Loss\")\n",
        "plt.plot(history.history['val_loss'], label=\"Validation Loss\")\n",
        "plt.xlabel(\"Epochs\")\n",
        "plt.ylabel(\"Loss (MSE)\")\n",
        "plt.title(\"Bi-GRU Training Loss Curve\")\n",
        "plt.legend()\n",
        "plt.grid()\n",
        "plt.show()\n"
      ],
      "metadata": {
        "id": "8IfE57TzvFrq"
      },
      "execution_count": null,
      "outputs": []
    },
    {
      "cell_type": "code",
      "source": [
        "# Generate Predictions\n",
        "y_test_pred = model.predict(X_test_final)\n",
        "\n",
        "# Convert Predictions Back to Original Scale\n",
        "y_test_pred_original = scaler_y.inverse_transform(y_test_pred.reshape(-1, 1))\n",
        "y_test_actual_original = scaler_y.inverse_transform(y_test.reshape(-1, 1))\n",
        "\n",
        "# Evaluate Performance Metrics\n",
        "from sklearn.metrics import mean_squared_error, mean_absolute_percentage_error\n",
        "import numpy as np\n",
        "\n",
        "mse_bi_gru = mean_squared_error(y_test_actual_original, y_test_pred_original)\n",
        "rmse_bi_gru = np.sqrt(mse_bi_gru)\n",
        "mape_bi_gru = mean_absolute_percentage_error(y_test_actual_original, y_test_pred_original) * 100  # Convert to percentage\n",
        "\n",
        "# Print Performance Metrics\n",
        "print(f\"Bi-GRU Model Performance:\\nMSE: {mse_bi_gru:.2f}\\nRMSE: {rmse_bi_gru:.2f}\\nMAPE: {mape_bi_gru:.2f}%\")\n"
      ],
      "metadata": {
        "id": "eEehXEdKvYee"
      },
      "execution_count": null,
      "outputs": []
    },
    {
      "cell_type": "code",
      "source": [
        "print(\"Shape of y_test:\", y_test.shape)\n",
        "print(\"Shape of y_test_pred:\", y_test_pred.shape)\n"
      ],
      "metadata": {
        "id": "v-hhofnZvww2"
      },
      "execution_count": null,
      "outputs": []
    },
    {
      "cell_type": "code",
      "source": [
        "print(\"y_test shape:\", y_test.shape)\n",
        "print(\"y_test_pred shape:\", y_test_pred.shape)\n",
        "print(\"y_test_actual_original shape:\", y_test_actual_original.shape)\n",
        "print(\"y_test_pred_original shape:\", y_test_pred_original.shape)\n"
      ],
      "metadata": {
        "id": "ij9o8ef8v3f1"
      },
      "execution_count": null,
      "outputs": []
    },
    {
      "cell_type": "code",
      "source": [
        "print(\"First 10 actual values:\", y_test_actual_original[:10])\n",
        "print(\"First 10 predicted values:\", y_test_pred_original[:10])\n"
      ],
      "metadata": {
        "id": "fs_J3pKYwBy6"
      },
      "execution_count": null,
      "outputs": []
    },
    {
      "cell_type": "code",
      "source": [
        "print(\"Min prediction:\", np.min(y_test_pred_original))\n",
        "print(\"Max prediction:\", np.max(y_test_pred_original))\n",
        "print(\"Min actual:\", np.min(y_test_actual_original))\n",
        "print(\"Max actual:\", np.max(y_test_actual_original))\n"
      ],
      "metadata": {
        "id": "cKz_uZ2hwHWK"
      },
      "execution_count": null,
      "outputs": []
    },
    {
      "cell_type": "code",
      "source": [
        "print(\"Train loss after last epoch:\", history.history['loss'][-1])\n",
        "print(\"Validation loss after last epoch:\", history.history['val_loss'][-1])\n"
      ],
      "metadata": {
        "id": "p7HJJLO4wMYP"
      },
      "execution_count": null,
      "outputs": []
    },
    {
      "cell_type": "code",
      "source": [
        "from tensorflow.keras.models import Sequential\n",
        "from tensorflow.keras.layers import Dense, Dropout, BatchNormalization, Bidirectional, GRU\n",
        "from tensorflow.keras.regularizers import l2\n",
        "\n",
        "# Define a revised Bi-GRU model\n",
        "model = Sequential([\n",
        "    Bidirectional(GRU(128, return_sequences=True, kernel_regularizer=l2(0.01))),\n",
        "    BatchNormalization(),\n",
        "    Dropout(0.3),\n",
        "\n",
        "    Bidirectional(GRU(64, return_sequences=True, kernel_regularizer=l2(0.01))),\n",
        "    BatchNormalization(),\n",
        "    Dropout(0.3),\n",
        "\n",
        "    Bidirectional(GRU(32, kernel_regularizer=l2(0.01))),\n",
        "    BatchNormalization(),\n",
        "    Dropout(0.3),\n",
        "\n",
        "    Dense(1, activation='relu')  # Ensures no negative predictions\n",
        "])\n",
        "\n",
        "# Compile model\n",
        "model.compile(optimizer='adam', loss='mse')\n",
        "\n",
        "# Print model summary\n",
        "model.summary()\n"
      ],
      "metadata": {
        "id": "7E4L9Tqjws3I"
      },
      "execution_count": null,
      "outputs": []
    },
    {
      "cell_type": "code",
      "source": [],
      "metadata": {
        "id": "QKLoO9czw56k"
      },
      "execution_count": null,
      "outputs": []
    },
    {
      "cell_type": "code",
      "source": [
        "from tensorflow.keras.models import Sequential\n",
        "from tensorflow.keras.layers import Bidirectional, GRU, Dense, Dropout, BatchNormalization\n",
        "\n",
        "# Define model again\n",
        "model = Sequential()\n",
        "\n",
        "# First Bi-GRU layer (Ensure Input Shape is Correct)\n",
        "model.add(Bidirectional(GRU(64, return_sequences=True), input_shape=(X_train_final.shape[1], X_train_final.shape[2])))\n",
        "model.add(BatchNormalization())\n",
        "model.add(Dropout(0.2))\n",
        "\n",
        "# Second Bi-GRU layer\n",
        "model.add(Bidirectional(GRU(32, return_sequences=True)))\n",
        "model.add(BatchNormalization())\n",
        "model.add(Dropout(0.2))\n",
        "\n",
        "# Third Bi-GRU layer\n",
        "model.add(Bidirectional(GRU(16)))\n",
        "model.add(BatchNormalization())\n",
        "model.add(Dropout(0.2))\n",
        "\n",
        "# Fully connected layer (output layer)\n",
        "model.add(Dense(1))\n",
        "\n",
        "# Compile the model\n",
        "model.compile(optimizer='adam', loss='mse', metrics=['mae'])\n",
        "\n",
        "# Now check the summary\n",
        "model.summary()\n"
      ],
      "metadata": {
        "id": "eoqFt225xJKi"
      },
      "execution_count": null,
      "outputs": []
    },
    {
      "cell_type": "code",
      "source": [
        "# Import necessary libraries\n",
        "from tensorflow.keras.callbacks import EarlyStopping\n",
        "\n",
        "# Define early stopping to prevent overfitting\n",
        "early_stopping = EarlyStopping(monitor='val_loss', patience=5, restore_best_weights=True)\n",
        "\n",
        "# Train the model\n",
        "history = model.fit(\n",
        "    X_train_final, y_train_scaled,  # Training data\n",
        "    validation_data=(X_test_final, y_test_scaled),  # Validation data\n",
        "    epochs=50,  # Number of epochs\n",
        "    batch_size=32,  # Batch size\n",
        "    callbacks=[early_stopping],  # Early stopping\n",
        "    verbose=1\n",
        ")\n",
        "\n",
        "# Save the model for future use\n",
        "model.save(\"BiGRU_Energy_Forecast.h5\")\n"
      ],
      "metadata": {
        "id": "CmNWGln_xU8I"
      },
      "execution_count": null,
      "outputs": []
    },
    {
      "cell_type": "code",
      "source": [
        "import matplotlib.pyplot as plt\n",
        "\n",
        "# Plot training and validation loss\n",
        "plt.figure(figsize=(8, 5))\n",
        "plt.plot(history.history['loss'], label=\"Train Loss\")\n",
        "plt.plot(history.history['val_loss'], label=\"Validation Loss\")\n",
        "plt.title(\"Bi-GRU Training Loss Curve\")\n",
        "plt.xlabel(\"Epochs\")\n",
        "plt.ylabel(\"Loss (MSE)\")\n",
        "plt.legend()\n",
        "plt.show()\n",
        "\n",
        "# Evaluate Model Performance\n",
        "from sklearn.metrics import mean_squared_error, mean_absolute_percentage_error\n",
        "\n",
        "# Predict on test data\n",
        "y_test_pred = model.predict(X_test_final)\n",
        "\n",
        "# Inverse transform the predictions and actual values\n",
        "y_test_pred_original = scaler_y.inverse_transform(y_test_pred)\n",
        "y_test_actual_original = scaler_y.inverse_transform(y_test.reshape(-1, 1))\n",
        "\n",
        "# Calculate Metrics\n",
        "mse_bi_gru = mean_squared_error(y_test_actual_original, y_test_pred_original)\n",
        "rmse_bi_gru = mse_bi_gru ** 0.5\n",
        "mape_bi_gru = mean_absolute_percentage_error(y_test_actual_original, y_test_pred_original) * 100\n",
        "\n",
        "# Print Performance Metrics\n",
        "print(f\"Bi-GRU Model Performance:\\nMSE: {mse_bi_gru:.4f}\\nRMSE: {rmse_bi_gru:.4f}\\nMAPE: {mape_bi_gru:.2f}%\")\n"
      ],
      "metadata": {
        "id": "5NyYNw_myBE1"
      },
      "execution_count": null,
      "outputs": []
    },
    {
      "cell_type": "code",
      "source": [
        "# Print first 10 actual and predicted values\n",
        "print(\"First 10 actual values:\\n\", y_test_actual_original[:10])\n",
        "print(\"First 10 predicted values:\\n\", y_test_pred_original[:10])\n",
        "\n",
        "# Check min/max values\n",
        "print(\"\\nMin actual:\", np.min(y_test_actual_original))\n",
        "print(\"Max actual:\", np.max(y_test_actual_original))\n",
        "print(\"\\nMin prediction:\", np.min(y_test_pred_original))\n",
        "print(\"Max prediction:\", np.max(y_test_pred_original))\n"
      ],
      "metadata": {
        "id": "myyTAGDYya3S"
      },
      "execution_count": null,
      "outputs": []
    },
    {
      "cell_type": "code",
      "source": [
        "import seaborn as sns\n",
        "\n",
        "plt.figure(figsize=(8, 5))\n",
        "sns.histplot(y_test_actual_original, label=\"Actual Values\", color='blue', kde=True)\n",
        "sns.histplot(y_test_pred_original, label=\"Predicted Values\", color='red', kde=True)\n",
        "plt.legend()\n",
        "plt.title(\"Actual vs. Predicted Value Distribution\")\n",
        "plt.xlabel(\"Energy Consumption\")\n",
        "plt.show()\n"
      ],
      "metadata": {
        "id": "QtBzLmtZyhTy"
      },
      "execution_count": null,
      "outputs": []
    },
    {
      "cell_type": "code",
      "source": [
        "from sklearn.preprocessing import StandardScaler\n",
        "import tensorflow as tf\n",
        "from tensorflow.keras.models import Sequential\n",
        "from tensorflow.keras.layers import Bidirectional, GRU, Dense, Dropout, BatchNormalization\n",
        "\n",
        "# Scale X and y using StandardScaler instead of MinMaxScaler\n",
        "scaler_X = StandardScaler()\n",
        "scaler_y = StandardScaler()\n",
        "\n",
        "X_train_scaled = scaler_X.fit_transform(X_train.reshape(-1, X_train.shape[-1])).reshape(X_train.shape)\n",
        "X_test_scaled = scaler_X.transform(X_test.reshape(-1, X_test.shape[-1])).reshape(X_test.shape)\n",
        "\n",
        "y_train_scaled = scaler_y.fit_transform(y_train.reshape(-1, 1))\n",
        "y_test_scaled = scaler_y.transform(y_test.reshape(-1, 1))\n",
        "\n",
        "# Define Improved Bi-GRU Model\n",
        "model = Sequential([\n",
        "    Bidirectional(GRU(128, return_sequences=True)),\n",
        "    BatchNormalization(),\n",
        "    Dropout(0.2),\n",
        "\n",
        "    Bidirectional(GRU(64, return_sequences=True)),\n",
        "    BatchNormalization(),\n",
        "    Dropout(0.2),\n",
        "\n",
        "    Bidirectional(GRU(32, return_sequences=False)),  # Final Bi-GRU Layer\n",
        "    BatchNormalization(),\n",
        "    Dropout(0.2),\n",
        "\n",
        "    Dense(1)  # Output Layer\n",
        "])\n",
        "\n",
        "# Compile the Model with Huber Loss\n",
        "model.compile(optimizer='adam', loss=tf.keras.losses.Huber(), metrics=['mae'])\n",
        "\n",
        "# Train the Model with More Epochs and Early Stopping\n",
        "early_stopping = tf.keras.callbacks.EarlyStopping(monitor='val_loss', patience=10, restore_best_weights=True)\n",
        "\n",
        "history = model.fit(\n",
        "    X_train_scaled, y_train_scaled,\n",
        "    validation_data=(X_test_scaled, y_test_scaled),\n",
        "    epochs=150,\n",
        "    batch_size=64,\n",
        "    callbacks=[early_stopping]\n",
        ")\n",
        "\n",
        "# Save the model\n",
        "model.save(\"BiGRU_Improved_Energy_Forecast.h5\")\n",
        "\n",
        "# Evaluate Model Performance\n",
        "y_test_pred_scaled = model.predict(X_test_scaled)\n",
        "y_test_pred_original = scaler_y.inverse_transform(y_test_pred_scaled)\n",
        "y_test_actual_original = scaler_y.inverse_transform(y_test_scaled)\n",
        "\n",
        "from sklearn.metrics import mean_absolute_error, mean_squared_error\n",
        "\n",
        "mse = mean_squared_error(y_test_actual_original, y_test_pred_original)\n",
        "mae = mean_absolute_error(y_test_actual_original, y_test_pred_original)\n",
        "\n",
        "print(f\"MSE: {mse:.4f}, MAE: {mae:.4f}\")\n"
      ],
      "metadata": {
        "id": "R-SrWJ8dy84m"
      },
      "execution_count": null,
      "outputs": []
    },
    {
      "cell_type": "code",
      "source": [
        "import matplotlib.pyplot as plt\n",
        "import numpy as np\n",
        "\n",
        "# Make Predictions\n",
        "y_test_pred_scaled = model.predict(X_test_scaled)\n",
        "y_test_pred_original = scaler_y.inverse_transform(y_test_pred_scaled)\n",
        "y_test_actual_original = scaler_y.inverse_transform(y_test_scaled)\n",
        "\n",
        "# Plot Actual vs. Predicted Values\n",
        "plt.figure(figsize=(8, 5))\n",
        "plt.scatter(y_test_actual_original, y_test_pred_original, alpha=0.5, label=\"Predicted vs Actual\")\n",
        "plt.plot([min(y_test_actual_original), max(y_test_actual_original)],\n",
        "         [min(y_test_actual_original), max(y_test_actual_original)], 'r', label=\"Perfect Fit\")\n",
        "plt.xlabel(\"Actual Energy Consumption\")\n",
        "plt.ylabel(\"Predicted Energy Consumption\")\n",
        "plt.legend()\n",
        "plt.title(\"Actual vs Predicted Energy Consumption\")\n",
        "plt.show()\n"
      ],
      "metadata": {
        "id": "jokOKampzyNP"
      },
      "execution_count": null,
      "outputs": []
    },
    {
      "cell_type": "code",
      "source": [
        "# Calculate Errors\n",
        "errors = y_test_actual_original - y_test_pred_original\n",
        "\n",
        "# Plot Histogram of Errors\n",
        "plt.figure(figsize=(8, 5))\n",
        "plt.hist(errors, bins=50, edgecolor='black')\n",
        "plt.xlabel(\"Prediction Error (Actual - Predicted)\")\n",
        "plt.ylabel(\"Frequency\")\n",
        "plt.title(\"Distribution of Prediction Errors\")\n",
        "plt.show()\n"
      ],
      "metadata": {
        "id": "zSjxfTqzz5uP"
      },
      "execution_count": null,
      "outputs": []
    },
    {
      "cell_type": "code",
      "source": [
        "from tensorflow.keras.callbacks import EarlyStopping\n",
        "\n",
        "# Define Early Stopping\n",
        "early_stopping = EarlyStopping(monitor='val_loss', patience=5, restore_best_weights=True)\n",
        "\n",
        "# Train Again with Early Stopping\n",
        "history = model.fit(\n",
        "    X_train_scaled, y_train_scaled,\n",
        "    validation_data=(X_test_scaled, y_test_scaled),\n",
        "    epochs=150,\n",
        "    batch_size=64,\n",
        "    callbacks=[early_stopping]  # Apply early stopping\n",
        ")\n"
      ],
      "metadata": {
        "id": "Scje0cZx0BPe"
      },
      "execution_count": null,
      "outputs": []
    },
    {
      "cell_type": "code",
      "source": [
        "from tensorflow.keras.models import Sequential\n",
        "from tensorflow.keras.layers import Dense, Dropout, Bidirectional, GRU, BatchNormalization\n",
        "from tensorflow.keras.optimizers import Adam\n",
        "from tensorflow.keras.losses import Huber\n",
        "from sklearn.preprocessing import MinMaxScaler\n",
        "import numpy as np\n",
        "import matplotlib.pyplot as plt\n",
        "\n",
        "# Ensure proper scaling and inverse transformation\n",
        "scaler_y = MinMaxScaler()\n",
        "y_train_scaled = scaler_y.fit_transform(y_train.reshape(-1, 1))\n",
        "y_test_scaled = scaler_y.transform(y_test.reshape(-1, 1))\n",
        "\n",
        "# Define Bi-GRU Model\n",
        "model = Sequential([\n",
        "    Bidirectional(GRU(128, return_sequences=True, activation='tanh', recurrent_dropout=0.2)),\n",
        "    BatchNormalization(),\n",
        "    Dropout(0.2),\n",
        "\n",
        "    Bidirectional(GRU(64, return_sequences=True, activation='tanh', recurrent_dropout=0.2)),\n",
        "    BatchNormalization(),\n",
        "    Dropout(0.2),\n",
        "\n",
        "    Bidirectional(GRU(32, activation='tanh')),\n",
        "    BatchNormalization(),\n",
        "    Dropout(0.2),\n",
        "\n",
        "    Dense(1, activation='relu')  # Ensuring output is non-negative\n",
        "])\n",
        "\n",
        "# Compile the model\n",
        "model.compile(\n",
        "    optimizer=Adam(learning_rate=0.001),\n",
        "    loss=Huber(delta=1.0),  # More robust to outliers than MSE\n",
        "    metrics=['mae']\n",
        ")\n",
        "\n",
        "# Train with Early Stopping\n",
        "from tensorflow.keras.callbacks import EarlyStopping\n",
        "\n",
        "early_stopping = EarlyStopping(monitor='val_loss', patience=10, restore_best_weights=True)\n",
        "history = model.fit(\n",
        "    X_train_scaled, y_train_scaled,\n",
        "    validation_data=(X_test_scaled, y_test_scaled),\n",
        "    epochs=100,\n",
        "    batch_size=64,\n",
        "    callbacks=[early_stopping]\n",
        ")\n",
        "\n",
        "# Evaluate Model Performance\n",
        "y_pred_scaled = model.predict(X_test_scaled)\n",
        "y_pred = scaler_y.inverse_transform(y_pred_scaled)\n",
        "\n",
        "y_test_actual = scaler_y.inverse_transform(y_test_scaled)\n",
        "\n",
        "# Calculate Errors\n",
        "mse = np.mean((y_test_actual - y_pred) ** 2)\n",
        "rmse = np.sqrt(mse)\n",
        "mape = np.mean(np.abs((y_test_actual - y_pred) / np.maximum(y_test_actual, 1e-5))) * 100\n",
        "\n",
        "print(f\"Updated Bi-GRU Model Performance:\\nMSE: {mse:.6f}\\nRMSE: {rmse:.6f}\\nMAPE: {mape:.2f}%\")\n",
        "\n",
        "# Visualization of Predictions\n",
        "plt.figure(figsize=(8,6))\n",
        "plt.scatter(y_test_actual, y_pred, label='Predicted vs Actual', alpha=0.5)\n",
        "plt.plot([0, max(y_test_actual)], [0, max(y_test_actual)], color='red', label='Perfect Fit')\n",
        "plt.xlabel('Actual Energy Consumption')\n",
        "plt.ylabel('Predicted Energy Consumption')\n",
        "plt.legend()\n",
        "plt.title('Actual vs Predicted Energy Consumption')\n",
        "plt.show()\n",
        "\n",
        "# Save the improved model\n",
        "model.save(\"BiGRU_Improved_Energy_Forecast.h5\")\n"
      ],
      "metadata": {
        "id": "-P0Fb_wH0x21"
      },
      "execution_count": null,
      "outputs": []
    },
    {
      "cell_type": "code",
      "source": [
        "import numpy as np\n",
        "import matplotlib.pyplot as plt\n",
        "\n",
        "# Ensure y_test_actual is in a compatible format (convert to NumPy array if needed)\n",
        "y_test_actual = np.array(y_test_actual).flatten()  # Flatten in case it's multi-dimensional\n",
        "y_pred = np.array(y_pred).flatten()  # Ensure predictions are also 1D\n",
        "\n",
        "# Plot the actual vs predicted values\n",
        "plt.figure(figsize=(8,6))\n",
        "plt.scatter(y_test_actual, y_pred, label='Predicted vs Actual', alpha=0.5)\n",
        "\n",
        "# Fix: Use np.max() to avoid ValueError\n",
        "plt.plot([0, np.max(y_test_actual)], [0, np.max(y_test_actual)], color='red', label='Perfect Fit')\n",
        "\n",
        "# Labels and Title\n",
        "plt.xlabel('Actual Energy Consumption')\n",
        "plt.ylabel('Predicted Energy Consumption')\n",
        "plt.title('Actual vs Predicted Energy Consumption')\n",
        "plt.legend()\n",
        "\n",
        "# Show the plot\n",
        "plt.show()\n"
      ],
      "metadata": {
        "colab": {
          "base_uri": "https://localhost:8080/",
          "height": 218
        },
        "id": "cmqIP812B2u0",
        "outputId": "1c93f07a-f40b-4f36-a5a7-88f2b26467bd"
      },
      "execution_count": null,
      "outputs": [
        {
          "output_type": "error",
          "ename": "NameError",
          "evalue": "name 'y_test_actual' is not defined",
          "traceback": [
            "\u001b[0;31m---------------------------------------------------------------------------\u001b[0m",
            "\u001b[0;31mNameError\u001b[0m                                 Traceback (most recent call last)",
            "\u001b[0;32m<ipython-input-35-e05a041e995c>\u001b[0m in \u001b[0;36m<cell line: 0>\u001b[0;34m()\u001b[0m\n\u001b[1;32m      3\u001b[0m \u001b[0;34m\u001b[0m\u001b[0m\n\u001b[1;32m      4\u001b[0m \u001b[0;31m# Ensure y_test_actual is in a compatible format (convert to NumPy array if needed)\u001b[0m\u001b[0;34m\u001b[0m\u001b[0;34m\u001b[0m\u001b[0m\n\u001b[0;32m----> 5\u001b[0;31m \u001b[0my_test_actual\u001b[0m \u001b[0;34m=\u001b[0m \u001b[0mnp\u001b[0m\u001b[0;34m.\u001b[0m\u001b[0marray\u001b[0m\u001b[0;34m(\u001b[0m\u001b[0my_test_actual\u001b[0m\u001b[0;34m)\u001b[0m\u001b[0;34m.\u001b[0m\u001b[0mflatten\u001b[0m\u001b[0;34m(\u001b[0m\u001b[0;34m)\u001b[0m  \u001b[0;31m# Flatten in case it's multi-dimensional\u001b[0m\u001b[0;34m\u001b[0m\u001b[0;34m\u001b[0m\u001b[0m\n\u001b[0m\u001b[1;32m      6\u001b[0m \u001b[0my_pred\u001b[0m \u001b[0;34m=\u001b[0m \u001b[0mnp\u001b[0m\u001b[0;34m.\u001b[0m\u001b[0marray\u001b[0m\u001b[0;34m(\u001b[0m\u001b[0my_pred\u001b[0m\u001b[0;34m)\u001b[0m\u001b[0;34m.\u001b[0m\u001b[0mflatten\u001b[0m\u001b[0;34m(\u001b[0m\u001b[0;34m)\u001b[0m  \u001b[0;31m# Ensure predictions are also 1D\u001b[0m\u001b[0;34m\u001b[0m\u001b[0;34m\u001b[0m\u001b[0m\n\u001b[1;32m      7\u001b[0m \u001b[0;34m\u001b[0m\u001b[0m\n",
            "\u001b[0;31mNameError\u001b[0m: name 'y_test_actual' is not defined"
          ]
        }
      ]
    },
    {
      "cell_type": "code",
      "source": [
        "import pandas as pd\n",
        "import numpy as np\n",
        "import matplotlib.pyplot as plt\n",
        "import seaborn as sns\n",
        "from sklearn.model_selection import train_test_split\n",
        "from sklearn.preprocessing import MinMaxScaler\n",
        "from sklearn.metrics import mean_squared_error, mean_absolute_error, mean_absolute_percentage_error\n",
        "import tensorflow as tf\n",
        "from tensorflow.keras.models import Sequential\n",
        "from tensorflow.keras.layers import Dense, Bidirectional, GRU, Dropout, BatchNormalization\n",
        "import smogn\n"
      ],
      "metadata": {
        "id": "H7RFvIRsPNde"
      },
      "execution_count": null,
      "outputs": []
    },
    {
      "cell_type": "code",
      "source": [
        "!pip install smogn tensorflow numpy pandas scikit-learn matplotlib seaborn\n"
      ],
      "metadata": {
        "colab": {
          "base_uri": "https://localhost:8080/"
        },
        "id": "bf3mZA0hPR7Z",
        "outputId": "f9d028ec-8bed-4ae0-c0ab-84106a765715"
      },
      "execution_count": null,
      "outputs": [
        {
          "output_type": "stream",
          "name": "stdout",
          "text": [
            "Collecting smogn\n",
            "  Downloading smogn-0.1.2-py3-none-any.whl.metadata (4.5 kB)\n",
            "Requirement already satisfied: tensorflow in /usr/local/lib/python3.11/dist-packages (2.18.0)\n",
            "Requirement already satisfied: numpy in /usr/local/lib/python3.11/dist-packages (1.26.4)\n",
            "Requirement already satisfied: pandas in /usr/local/lib/python3.11/dist-packages (2.2.2)\n",
            "Requirement already satisfied: scikit-learn in /usr/local/lib/python3.11/dist-packages (1.6.1)\n",
            "Requirement already satisfied: matplotlib in /usr/local/lib/python3.11/dist-packages (3.10.0)\n",
            "Requirement already satisfied: seaborn in /usr/local/lib/python3.11/dist-packages (0.13.2)\n",
            "Requirement already satisfied: tqdm in /usr/local/lib/python3.11/dist-packages (from smogn) (4.67.1)\n",
            "Requirement already satisfied: absl-py>=1.0.0 in /usr/local/lib/python3.11/dist-packages (from tensorflow) (1.4.0)\n",
            "Requirement already satisfied: astunparse>=1.6.0 in /usr/local/lib/python3.11/dist-packages (from tensorflow) (1.6.3)\n",
            "Requirement already satisfied: flatbuffers>=24.3.25 in /usr/local/lib/python3.11/dist-packages (from tensorflow) (25.1.24)\n",
            "Requirement already satisfied: gast!=0.5.0,!=0.5.1,!=0.5.2,>=0.2.1 in /usr/local/lib/python3.11/dist-packages (from tensorflow) (0.6.0)\n",
            "Requirement already satisfied: google-pasta>=0.1.1 in /usr/local/lib/python3.11/dist-packages (from tensorflow) (0.2.0)\n",
            "Requirement already satisfied: libclang>=13.0.0 in /usr/local/lib/python3.11/dist-packages (from tensorflow) (18.1.1)\n",
            "Requirement already satisfied: opt-einsum>=2.3.2 in /usr/local/lib/python3.11/dist-packages (from tensorflow) (3.4.0)\n",
            "Requirement already satisfied: packaging in /usr/local/lib/python3.11/dist-packages (from tensorflow) (24.2)\n",
            "Requirement already satisfied: protobuf!=4.21.0,!=4.21.1,!=4.21.2,!=4.21.3,!=4.21.4,!=4.21.5,<6.0.0dev,>=3.20.3 in /usr/local/lib/python3.11/dist-packages (from tensorflow) (4.25.6)\n",
            "Requirement already satisfied: requests<3,>=2.21.0 in /usr/local/lib/python3.11/dist-packages (from tensorflow) (2.32.3)\n",
            "Requirement already satisfied: setuptools in /usr/local/lib/python3.11/dist-packages (from tensorflow) (75.1.0)\n",
            "Requirement already satisfied: six>=1.12.0 in /usr/local/lib/python3.11/dist-packages (from tensorflow) (1.17.0)\n",
            "Requirement already satisfied: termcolor>=1.1.0 in /usr/local/lib/python3.11/dist-packages (from tensorflow) (2.5.0)\n",
            "Requirement already satisfied: typing-extensions>=3.6.6 in /usr/local/lib/python3.11/dist-packages (from tensorflow) (4.12.2)\n",
            "Requirement already satisfied: wrapt>=1.11.0 in /usr/local/lib/python3.11/dist-packages (from tensorflow) (1.17.2)\n",
            "Requirement already satisfied: grpcio<2.0,>=1.24.3 in /usr/local/lib/python3.11/dist-packages (from tensorflow) (1.70.0)\n",
            "Requirement already satisfied: tensorboard<2.19,>=2.18 in /usr/local/lib/python3.11/dist-packages (from tensorflow) (2.18.0)\n",
            "Requirement already satisfied: keras>=3.5.0 in /usr/local/lib/python3.11/dist-packages (from tensorflow) (3.8.0)\n",
            "Requirement already satisfied: h5py>=3.11.0 in /usr/local/lib/python3.11/dist-packages (from tensorflow) (3.12.1)\n",
            "Requirement already satisfied: ml-dtypes<0.5.0,>=0.4.0 in /usr/local/lib/python3.11/dist-packages (from tensorflow) (0.4.1)\n",
            "Requirement already satisfied: tensorflow-io-gcs-filesystem>=0.23.1 in /usr/local/lib/python3.11/dist-packages (from tensorflow) (0.37.1)\n",
            "Requirement already satisfied: python-dateutil>=2.8.2 in /usr/local/lib/python3.11/dist-packages (from pandas) (2.8.2)\n",
            "Requirement already satisfied: pytz>=2020.1 in /usr/local/lib/python3.11/dist-packages (from pandas) (2024.2)\n",
            "Requirement already satisfied: tzdata>=2022.7 in /usr/local/lib/python3.11/dist-packages (from pandas) (2025.1)\n",
            "Requirement already satisfied: scipy>=1.6.0 in /usr/local/lib/python3.11/dist-packages (from scikit-learn) (1.13.1)\n",
            "Requirement already satisfied: joblib>=1.2.0 in /usr/local/lib/python3.11/dist-packages (from scikit-learn) (1.4.2)\n",
            "Requirement already satisfied: threadpoolctl>=3.1.0 in /usr/local/lib/python3.11/dist-packages (from scikit-learn) (3.5.0)\n",
            "Requirement already satisfied: contourpy>=1.0.1 in /usr/local/lib/python3.11/dist-packages (from matplotlib) (1.3.1)\n",
            "Requirement already satisfied: cycler>=0.10 in /usr/local/lib/python3.11/dist-packages (from matplotlib) (0.12.1)\n",
            "Requirement already satisfied: fonttools>=4.22.0 in /usr/local/lib/python3.11/dist-packages (from matplotlib) (4.55.7)\n",
            "Requirement already satisfied: kiwisolver>=1.3.1 in /usr/local/lib/python3.11/dist-packages (from matplotlib) (1.4.8)\n",
            "Requirement already satisfied: pillow>=8 in /usr/local/lib/python3.11/dist-packages (from matplotlib) (11.1.0)\n",
            "Requirement already satisfied: pyparsing>=2.3.1 in /usr/local/lib/python3.11/dist-packages (from matplotlib) (3.2.1)\n",
            "Requirement already satisfied: wheel<1.0,>=0.23.0 in /usr/local/lib/python3.11/dist-packages (from astunparse>=1.6.0->tensorflow) (0.45.1)\n",
            "Requirement already satisfied: rich in /usr/local/lib/python3.11/dist-packages (from keras>=3.5.0->tensorflow) (13.9.4)\n",
            "Requirement already satisfied: namex in /usr/local/lib/python3.11/dist-packages (from keras>=3.5.0->tensorflow) (0.0.8)\n",
            "Requirement already satisfied: optree in /usr/local/lib/python3.11/dist-packages (from keras>=3.5.0->tensorflow) (0.14.0)\n",
            "Requirement already satisfied: charset-normalizer<4,>=2 in /usr/local/lib/python3.11/dist-packages (from requests<3,>=2.21.0->tensorflow) (3.4.1)\n",
            "Requirement already satisfied: idna<4,>=2.5 in /usr/local/lib/python3.11/dist-packages (from requests<3,>=2.21.0->tensorflow) (3.10)\n",
            "Requirement already satisfied: urllib3<3,>=1.21.1 in /usr/local/lib/python3.11/dist-packages (from requests<3,>=2.21.0->tensorflow) (2.3.0)\n",
            "Requirement already satisfied: certifi>=2017.4.17 in /usr/local/lib/python3.11/dist-packages (from requests<3,>=2.21.0->tensorflow) (2024.12.14)\n",
            "Requirement already satisfied: markdown>=2.6.8 in /usr/local/lib/python3.11/dist-packages (from tensorboard<2.19,>=2.18->tensorflow) (3.7)\n",
            "Requirement already satisfied: tensorboard-data-server<0.8.0,>=0.7.0 in /usr/local/lib/python3.11/dist-packages (from tensorboard<2.19,>=2.18->tensorflow) (0.7.2)\n",
            "Requirement already satisfied: werkzeug>=1.0.1 in /usr/local/lib/python3.11/dist-packages (from tensorboard<2.19,>=2.18->tensorflow) (3.1.3)\n",
            "Requirement already satisfied: MarkupSafe>=2.1.1 in /usr/local/lib/python3.11/dist-packages (from werkzeug>=1.0.1->tensorboard<2.19,>=2.18->tensorflow) (3.0.2)\n",
            "Requirement already satisfied: markdown-it-py>=2.2.0 in /usr/local/lib/python3.11/dist-packages (from rich->keras>=3.5.0->tensorflow) (3.0.0)\n",
            "Requirement already satisfied: pygments<3.0.0,>=2.13.0 in /usr/local/lib/python3.11/dist-packages (from rich->keras>=3.5.0->tensorflow) (2.18.0)\n",
            "Requirement already satisfied: mdurl~=0.1 in /usr/local/lib/python3.11/dist-packages (from markdown-it-py>=2.2.0->rich->keras>=3.5.0->tensorflow) (0.1.2)\n",
            "Downloading smogn-0.1.2-py3-none-any.whl (30 kB)\n",
            "Installing collected packages: smogn\n",
            "Successfully installed smogn-0.1.2\n"
          ]
        }
      ]
    },
    {
      "cell_type": "code",
      "source": [
        "y_test_pred_original = scaler_y.inverse_transform(y_test_pred.reshape(-1, 1))\n",
        "y_test_actual_original = scaler_y.inverse_transform(y_test.reshape(-1, 1))\n"
      ],
      "metadata": {
        "id": "tPo3n48mIfwv"
      },
      "execution_count": null,
      "outputs": []
    },
    {
      "cell_type": "code",
      "source": [
        "from tensorflow.keras.optimizers import Adam\n",
        "\n",
        "optimizer = Adam(learning_rate=0.001, clipnorm=1.0)  # Clipping gradients\n",
        "model.compile(loss='mse', optimizer=optimizer, metrics=['mae'])\n"
      ],
      "metadata": {
        "id": "oEHyofh2IjE6"
      },
      "execution_count": null,
      "outputs": []
    },
    {
      "cell_type": "code",
      "source": [
        "plt.hist(y_train, bins=50)\n",
        "plt.title(\"Distribution of Target Variable\")\n",
        "plt.xlabel(\"Energy Consumption\")\n",
        "plt.ylabel(\"Frequency\")\n",
        "plt.show()\n"
      ],
      "metadata": {
        "id": "NYseEVmHImWE"
      },
      "execution_count": null,
      "outputs": []
    },
    {
      "cell_type": "code",
      "source": [
        "early_stopping = EarlyStopping(monitor='val_loss', patience=10, restore_best_weights=True)\n",
        "history = model.fit(X_train_scaled, y_train_scaled, validation_data=(X_test_scaled, y_test_scaled),\n",
        "                    epochs=200, batch_size=64, callbacks=[early_stopping])\n"
      ],
      "metadata": {
        "id": "1m9C_XJ1Iv2G"
      },
      "execution_count": null,
      "outputs": []
    },
    {
      "cell_type": "code",
      "source": [
        "import numpy as np\n",
        "\n",
        "# Apply log transformation to shift values away from zero\n",
        "y_train_transformed = np.log1p(y_train)  # log(1 + y) to avoid log(0)\n",
        "y_test_transformed = np.log1p(y_test)\n",
        "\n",
        "# Scale the transformed target variable\n",
        "scaler_y = MinMaxScaler()\n",
        "y_train_scaled = scaler_y.fit_transform(y_train_transformed.reshape(-1, 1))\n",
        "y_test_scaled = scaler_y.transform(y_test_transformed.reshape(-1, 1))\n"
      ],
      "metadata": {
        "id": "lD_xfzziI9dc"
      },
      "execution_count": null,
      "outputs": []
    },
    {
      "cell_type": "code",
      "source": [
        "# Reverse the log transformation\n",
        "y_test_pred_original = np.expm1(scaler_y.inverse_transform(y_test_pred.reshape(-1, 1)))\n",
        "y_test_actual_original = np.expm1(scaler_y.inverse_transform(y_test.reshape(-1, 1)))\n"
      ],
      "metadata": {
        "id": "eUnHaF__JAy-"
      },
      "execution_count": null,
      "outputs": []
    },
    {
      "cell_type": "code",
      "source": [
        "from tensorflow.keras.optimizers import Adam\n",
        "from tensorflow.keras.losses import LogCosh\n",
        "\n",
        "optimizer = Adam(learning_rate=0.001, clipnorm=1.0)  # Prevent exploding gradients\n",
        "model.compile(loss=LogCosh(), optimizer=optimizer, metrics=['mae'])\n"
      ],
      "metadata": {
        "id": "dlPaQ4-8JDhh"
      },
      "execution_count": null,
      "outputs": []
    },
    {
      "cell_type": "code",
      "source": [
        "from imblearn.over_sampling import SMOTE\n",
        "\n",
        "smote = SMOTE()\n",
        "X_train_resampled, y_train_resampled = smote.fit_resample(X_train, y_train)\n"
      ],
      "metadata": {
        "id": "FXv6faAFJGa4"
      },
      "execution_count": null,
      "outputs": []
    },
    {
      "cell_type": "code",
      "source": [
        "from imblearn.over_sampling import SMOTENC\n",
        "\n",
        "# Define SMOTER for regression tasks\n",
        "smoter = SMOTENC(categorical_features=[], random_state=42)\n",
        "\n",
        "# Apply SMOTER on the dataset\n",
        "X_train_resampled, y_train_resampled = smoter.fit_resample(X_train, y_train)\n"
      ],
      "metadata": {
        "id": "S1zru5n9KrfK"
      },
      "execution_count": null,
      "outputs": []
    },
    {
      "cell_type": "code",
      "source": [
        "import pandas as pd\n",
        "\n",
        "# Define bins based on quantiles (e.g., Low, Medium, High consumption)\n",
        "y_train_binned = pd.qcut(y_train.flatten(), q=3, labels=False)  # 3 bins (Low, Medium, High)\n"
      ],
      "metadata": {
        "id": "LCR_0_xeKvyO"
      },
      "execution_count": null,
      "outputs": []
    },
    {
      "cell_type": "code",
      "source": [
        "from imblearn.over_sampling import SMOTE\n",
        "\n",
        "smote = SMOTE(sampling_strategy='auto', random_state=42)\n",
        "X_train_resampled, y_train_binned_resampled = smote.fit_resample(X_train, y_train_binned)\n"
      ],
      "metadata": {
        "id": "iDmnIznQKziu"
      },
      "execution_count": null,
      "outputs": []
    },
    {
      "cell_type": "code",
      "source": [
        "# Load your dataset\n",
        "file_path = \"/content/Use of Energy of Energy Carriers.csv\"  # Change if necessary\n",
        "df = pd.read_csv(file_path)\n",
        "\n",
        "# Display the first few rows\n",
        "print(df.head())\n",
        "\n",
        "# Check for missing values\n",
        "print(df.isnull().sum())\n"
      ],
      "metadata": {
        "colab": {
          "base_uri": "https://localhost:8080/"
        },
        "id": "Cvwy39FTPeGT",
        "outputId": "d68e42a5-9bf2-4137-843a-254e6b9ab068"
      },
      "execution_count": null,
      "outputs": [
        {
          "output_type": "stream",
          "name": "stdout",
          "text": [
            "  Branch Code                              Homogeneous Branches  \\\n",
            "0    CPA08-01  Products of agric., hunting and related services   \n",
            "1    CPA08-01  Products of agric., hunting and related services   \n",
            "2    CPA08-01  Products of agric., hunting and related services   \n",
            "3    CPA08-01  Products of agric., hunting and related services   \n",
            "4    CPA08-01  Products of agric., hunting and related services   \n",
            "\n",
            "                                Energy Carriers   1995   1996   1997   1998  \\\n",
            "0              Hard coal and hard coal products    888    946    829   1071   \n",
            "1  Brown coal (lignite) and brown coal products   1477   1346   1275   1056   \n",
            "2                                     Crude oil      0      0      0      0   \n",
            "3                                        Petrol   4580   3610   2976   2897   \n",
            "4                                  Diesel fuels  94156  94655  94546  94130   \n",
            "\n",
            "    1999   2000   2001  ...   2011   2012   2013   2014   2015   2016   2017  \\\n",
            "0   1185   1329   1692  ...    360   1080    248    475   1766    565    368   \n",
            "1    873    678    545  ...      0      0      0      0      0      0      0   \n",
            "2      0      0      0  ...      0      0      0      0      0      0      0   \n",
            "3   2456   1926   1573  ...    383    350    345    317    284    270    265   \n",
            "4  93709  82778  81461  ...  48796  47952  50725  52114  54741  56857  58373   \n",
            "\n",
            "    2018   2019   2020  \n",
            "0    417     34     30  \n",
            "1      0      0      0  \n",
            "2      0      0      0  \n",
            "3    261    275    241  \n",
            "4  54796  55719  56631  \n",
            "\n",
            "[5 rows x 29 columns]\n",
            "Branch Code             0\n",
            "Homogeneous Branches    0\n",
            "Energy Carriers         0\n",
            "1995                    0\n",
            "1996                    0\n",
            "1997                    0\n",
            "1998                    0\n",
            "1999                    0\n",
            "2000                    0\n",
            "2001                    0\n",
            "2002                    0\n",
            "2003                    0\n",
            "2004                    0\n",
            "2005                    0\n",
            "2006                    0\n",
            "2007                    0\n",
            "2008                    0\n",
            "2009                    0\n",
            "2010                    0\n",
            "2011                    0\n",
            "2012                    0\n",
            "2013                    0\n",
            "2014                    0\n",
            "2015                    0\n",
            "2016                    0\n",
            "2017                    0\n",
            "2018                    0\n",
            "2019                    0\n",
            "2020                    0\n",
            "dtype: int64\n"
          ]
        }
      ]
    },
    {
      "cell_type": "code",
      "source": [],
      "metadata": {
        "id": "vQcXAbvuPmC2"
      },
      "execution_count": null,
      "outputs": []
    },
    {
      "cell_type": "code",
      "source": [
        "file_path = \"/content/Use of Energy of Energy Carriers.csv\"  # Update if necessary\n",
        "df = pd.read_csv(file_path)\n",
        "\n",
        "# Display first few rows\n",
        "print(df.head())\n"
      ],
      "metadata": {
        "colab": {
          "base_uri": "https://localhost:8080/"
        },
        "id": "_w1dBq4BP5sK",
        "outputId": "2ab5a6cb-6d51-4b81-c961-10e80d4f2b73"
      },
      "execution_count": null,
      "outputs": [
        {
          "output_type": "stream",
          "name": "stdout",
          "text": [
            "  Branch Code                              Homogeneous Branches  \\\n",
            "0    CPA08-01  Products of agric., hunting and related services   \n",
            "1    CPA08-01  Products of agric., hunting and related services   \n",
            "2    CPA08-01  Products of agric., hunting and related services   \n",
            "3    CPA08-01  Products of agric., hunting and related services   \n",
            "4    CPA08-01  Products of agric., hunting and related services   \n",
            "\n",
            "                                Energy Carriers   1995   1996   1997   1998  \\\n",
            "0              Hard coal and hard coal products    888    946    829   1071   \n",
            "1  Brown coal (lignite) and brown coal products   1477   1346   1275   1056   \n",
            "2                                     Crude oil      0      0      0      0   \n",
            "3                                        Petrol   4580   3610   2976   2897   \n",
            "4                                  Diesel fuels  94156  94655  94546  94130   \n",
            "\n",
            "    1999   2000   2001  ...   2011   2012   2013   2014   2015   2016   2017  \\\n",
            "0   1185   1329   1692  ...    360   1080    248    475   1766    565    368   \n",
            "1    873    678    545  ...      0      0      0      0      0      0      0   \n",
            "2      0      0      0  ...      0      0      0      0      0      0      0   \n",
            "3   2456   1926   1573  ...    383    350    345    317    284    270    265   \n",
            "4  93709  82778  81461  ...  48796  47952  50725  52114  54741  56857  58373   \n",
            "\n",
            "    2018   2019   2020  \n",
            "0    417     34     30  \n",
            "1      0      0      0  \n",
            "2      0      0      0  \n",
            "3    261    275    241  \n",
            "4  54796  55719  56631  \n",
            "\n",
            "[5 rows x 29 columns]\n"
          ]
        }
      ]
    },
    {
      "cell_type": "code",
      "source": [
        "print(df.dtypes)\n"
      ],
      "metadata": {
        "colab": {
          "base_uri": "https://localhost:8080/"
        },
        "id": "vbnlWVC1QFo3",
        "outputId": "8752efa9-f287-4561-84bd-13ff97992b58"
      },
      "execution_count": null,
      "outputs": [
        {
          "output_type": "stream",
          "name": "stdout",
          "text": [
            "Branch Code             object\n",
            "Homogeneous Branches    object\n",
            "Energy Carriers         object\n",
            "1995                     int64\n",
            "1996                     int64\n",
            "1997                     int64\n",
            "1998                     int64\n",
            "1999                     int64\n",
            "2000                     int64\n",
            "2001                     int64\n",
            "2002                     int64\n",
            "2003                     int64\n",
            "2004                     int64\n",
            "2005                     int64\n",
            "2006                     int64\n",
            "2007                     int64\n",
            "2008                     int64\n",
            "2009                     int64\n",
            "2010                     int64\n",
            "2011                     int64\n",
            "2012                     int64\n",
            "2013                     int64\n",
            "2014                     int64\n",
            "2015                     int64\n",
            "2016                     int64\n",
            "2017                     int64\n",
            "2018                     int64\n",
            "2019                     int64\n",
            "2020                     int64\n",
            "dtype: object\n"
          ]
        }
      ]
    },
    {
      "cell_type": "code",
      "source": [
        "df = pd.read_csv(file_path, skiprows=1)  # Skip first row if necessary\n",
        "print(df.head())\n"
      ],
      "metadata": {
        "colab": {
          "base_uri": "https://localhost:8080/"
        },
        "id": "K6VQY9baQLNt",
        "outputId": "845806d8-4edd-4db2-c5bd-9d8172632f35"
      },
      "execution_count": null,
      "outputs": [
        {
          "output_type": "stream",
          "name": "stdout",
          "text": [
            "   CPA08-01  Products of agric., hunting and related services  \\\n",
            "0  CPA08-01  Products of agric., hunting and related services   \n",
            "1  CPA08-01  Products of agric., hunting and related services   \n",
            "2  CPA08-01  Products of agric., hunting and related services   \n",
            "3  CPA08-01  Products of agric., hunting and related services   \n",
            "4  CPA08-01  Products of agric., hunting and related services   \n",
            "\n",
            "               Hard coal and hard coal products    888    946    829   1071  \\\n",
            "0  Brown coal (lignite) and brown coal products   1477   1346   1275   1056   \n",
            "1                                     Crude oil      0      0      0      0   \n",
            "2                                        Petrol   4580   3610   2976   2897   \n",
            "3                                  Diesel fuels  94156  94655  94546  94130   \n",
            "4                         Aviation turbine fuel      0      0      0      0   \n",
            "\n",
            "    1185   1329   1692  ...    360   1080    248    475   1766    565    368  \\\n",
            "0    873    678    545  ...      0      0      0      0      0      0      0   \n",
            "1      0      0      0  ...      0      0      0      0      0      0      0   \n",
            "2   2456   1926   1573  ...    383    350    345    317    284    270    265   \n",
            "3  93709  82778  81461  ...  48796  47952  50725  52114  54741  56857  58373   \n",
            "4      0      0      0  ...      0      0      0      0      0      0      0   \n",
            "\n",
            "     417     34     30  \n",
            "0      0      0      0  \n",
            "1      0      0      0  \n",
            "2    261    275    241  \n",
            "3  54796  55719  56631  \n",
            "4      0      0      0  \n",
            "\n",
            "[5 rows x 29 columns]\n"
          ]
        }
      ]
    },
    {
      "cell_type": "code",
      "source": [
        "print(df.isnull().sum())\n"
      ],
      "metadata": {
        "colab": {
          "base_uri": "https://localhost:8080/"
        },
        "id": "3aI4hU32QPGb",
        "outputId": "b9a51d51-6d75-4d53-d098-2d793593eeee"
      },
      "execution_count": null,
      "outputs": [
        {
          "output_type": "stream",
          "name": "stdout",
          "text": [
            "CPA08-01                                            0\n",
            "Products of agric., hunting and related services    0\n",
            "Hard coal and hard coal products                    0\n",
            "888                                                 0\n",
            "946                                                 0\n",
            "829                                                 0\n",
            "1071                                                0\n",
            "1185                                                0\n",
            "1329                                                0\n",
            "1692                                                0\n",
            "1756                                                0\n",
            "899                                                 0\n",
            "985                                                 0\n",
            "975                                                 0\n",
            "980                                                 0\n",
            "396                                                 0\n",
            "400                                                 0\n",
            "200                                                 0\n",
            "300                                                 0\n",
            "360                                                 0\n",
            "1080                                                0\n",
            "248                                                 0\n",
            "475                                                 0\n",
            "1766                                                0\n",
            "565                                                 0\n",
            "368                                                 0\n",
            "417                                                 0\n",
            "34                                                  0\n",
            "30                                                  0\n",
            "dtype: int64\n"
          ]
        }
      ]
    },
    {
      "cell_type": "code",
      "source": [
        "with open(file_path, \"r\") as file:\n",
        "    print(file.readlines()[:10])  # Print first 10 lines\n"
      ],
      "metadata": {
        "colab": {
          "base_uri": "https://localhost:8080/"
        },
        "id": "uRIWHZK1QWdw",
        "outputId": "3b4e8f53-f395-4a2a-f198-556fac3430a1"
      },
      "execution_count": null,
      "outputs": [
        {
          "output_type": "stream",
          "name": "stdout",
          "text": [
            "['\\ufeffBranch Code,Homogeneous Branches,Energy Carriers,1995,1996,1997,1998,1999,2000,2001,2002,2003,2004,2005,2006,2007,2008,2009,2010,2011,2012,2013,2014,2015,2016,2017,2018,2019,2020\\n', 'CPA08-01,\"Products of agric., hunting and related services\",Hard coal and hard coal products,888,946,829,1071,1185,1329,1692,1756,899,985,975,980,396,400,200,300,360,1080,248,475,1766,565,368,417,34,30\\n', 'CPA08-01,\"Products of agric., hunting and related services\",Brown coal (lignite) and brown coal products,1477,1346,1275,1056,873,678,545,669,132,20,25,20,4,0,0,0,0,0,0,0,0,0,0,0,0,0\\n', 'CPA08-01,\"Products of agric., hunting and related services\",Crude oil,0,0,0,0,0,0,0,0,0,0,0,0,0,0,0,0,0,0,0,0,0,0,0,0,0,0\\n', 'CPA08-01,\"Products of agric., hunting and related services\",Petrol,4580,3610,2976,2897,2456,1926,1573,1504,1301,1182,708,625,542,490,430,402,383,350,345,317,284,270,265,261,275,241\\n', 'CPA08-01,\"Products of agric., hunting and related services\",Diesel fuels,94156,94655,94546,94130,93709,82778,81461,81573,82385,83557,43340,42891,43239,44348,48407,48012,48796,47952,50725,52114,54741,56857,58373,54796,55719,56631\\n', 'CPA08-01,\"Products of agric., hunting and related services\",Aviation turbine fuel,0,0,0,0,0,0,0,0,0,0,0,0,0,0,0,0,0,0,0,0,0,0,0,0,0,0\\n', 'CPA08-01,\"Products of agric., hunting and related services\",Heating oil,58503,67213,46675,44120,35033,30308,35324,35185,30848,25973,21121,24816,18514,28650,28127,20290,18350,19118,19493,17536,17351,15866,16077,12913,11870,16069\\n', 'CPA08-01,\"Products of agric., hunting and related services\",Heavy fuel oil,0,0,0,0,0,0,0,0,0,0,0,0,0,0,0,0,0,0,0,0,0,0,0,0,0,0\\n', 'CPA08-01,\"Products of agric., hunting and related services\",Other mineral oil products,766,740,860,775,753,693,712,631,637,2155,2402,1806,1854,1781,1815,2101,1641,1674,1672,1534,1700,1984,1448,1657,1880,1446\\n']\n"
          ]
        }
      ]
    },
    {
      "cell_type": "code",
      "source": [
        "# Selecting relevant features and target\n",
        "features = ['feature_1', 'feature_2', 'feature_3']  # Update with actual feature names\n",
        "target = 'Energy_Consumption'  # Change based on actual column name\n",
        "\n",
        "X = df[features]\n",
        "y = df[target]\n",
        "\n",
        "# Check target variable distribution\n",
        "plt.figure(figsize=(8,6))\n",
        "sns.histplot(y, bins=50, kde=True)\n",
        "plt.title(\"Distribution of Target Variable (Energy Consumption)\")\n",
        "plt.xlabel(\"Energy Consumption\")\n",
        "plt.ylabel(\"Frequency\")\n",
        "plt.show()\n"
      ],
      "metadata": {
        "colab": {
          "base_uri": "https://localhost:8080/",
          "height": 368
        },
        "id": "SftGSiRUQhk8",
        "outputId": "97eea2d0-92c2-4a75-e0b8-8d3df05b9f3c"
      },
      "execution_count": null,
      "outputs": [
        {
          "output_type": "error",
          "ename": "KeyError",
          "evalue": "\"None of [Index(['feature_1', 'feature_2', 'feature_3'], dtype='object')] are in the [columns]\"",
          "traceback": [
            "\u001b[0;31m---------------------------------------------------------------------------\u001b[0m",
            "\u001b[0;31mKeyError\u001b[0m                                  Traceback (most recent call last)",
            "\u001b[0;32m<ipython-input-46-4678d411c5d3>\u001b[0m in \u001b[0;36m<cell line: 0>\u001b[0;34m()\u001b[0m\n\u001b[1;32m      3\u001b[0m \u001b[0mtarget\u001b[0m \u001b[0;34m=\u001b[0m \u001b[0;34m'Energy_Consumption'\u001b[0m  \u001b[0;31m# Change based on actual column name\u001b[0m\u001b[0;34m\u001b[0m\u001b[0;34m\u001b[0m\u001b[0m\n\u001b[1;32m      4\u001b[0m \u001b[0;34m\u001b[0m\u001b[0m\n\u001b[0;32m----> 5\u001b[0;31m \u001b[0mX\u001b[0m \u001b[0;34m=\u001b[0m \u001b[0mdf\u001b[0m\u001b[0;34m[\u001b[0m\u001b[0mfeatures\u001b[0m\u001b[0;34m]\u001b[0m\u001b[0;34m\u001b[0m\u001b[0;34m\u001b[0m\u001b[0m\n\u001b[0m\u001b[1;32m      6\u001b[0m \u001b[0my\u001b[0m \u001b[0;34m=\u001b[0m \u001b[0mdf\u001b[0m\u001b[0;34m[\u001b[0m\u001b[0mtarget\u001b[0m\u001b[0;34m]\u001b[0m\u001b[0;34m\u001b[0m\u001b[0;34m\u001b[0m\u001b[0m\n\u001b[1;32m      7\u001b[0m \u001b[0;34m\u001b[0m\u001b[0m\n",
            "\u001b[0;32m/usr/local/lib/python3.11/dist-packages/pandas/core/frame.py\u001b[0m in \u001b[0;36m__getitem__\u001b[0;34m(self, key)\u001b[0m\n\u001b[1;32m   4106\u001b[0m             \u001b[0;32mif\u001b[0m \u001b[0mis_iterator\u001b[0m\u001b[0;34m(\u001b[0m\u001b[0mkey\u001b[0m\u001b[0;34m)\u001b[0m\u001b[0;34m:\u001b[0m\u001b[0;34m\u001b[0m\u001b[0;34m\u001b[0m\u001b[0m\n\u001b[1;32m   4107\u001b[0m                 \u001b[0mkey\u001b[0m \u001b[0;34m=\u001b[0m \u001b[0mlist\u001b[0m\u001b[0;34m(\u001b[0m\u001b[0mkey\u001b[0m\u001b[0;34m)\u001b[0m\u001b[0;34m\u001b[0m\u001b[0;34m\u001b[0m\u001b[0m\n\u001b[0;32m-> 4108\u001b[0;31m             \u001b[0mindexer\u001b[0m \u001b[0;34m=\u001b[0m \u001b[0mself\u001b[0m\u001b[0;34m.\u001b[0m\u001b[0mcolumns\u001b[0m\u001b[0;34m.\u001b[0m\u001b[0m_get_indexer_strict\u001b[0m\u001b[0;34m(\u001b[0m\u001b[0mkey\u001b[0m\u001b[0;34m,\u001b[0m \u001b[0;34m\"columns\"\u001b[0m\u001b[0;34m)\u001b[0m\u001b[0;34m[\u001b[0m\u001b[0;36m1\u001b[0m\u001b[0;34m]\u001b[0m\u001b[0;34m\u001b[0m\u001b[0;34m\u001b[0m\u001b[0m\n\u001b[0m\u001b[1;32m   4109\u001b[0m \u001b[0;34m\u001b[0m\u001b[0m\n\u001b[1;32m   4110\u001b[0m         \u001b[0;31m# take() does not accept boolean indexers\u001b[0m\u001b[0;34m\u001b[0m\u001b[0;34m\u001b[0m\u001b[0m\n",
            "\u001b[0;32m/usr/local/lib/python3.11/dist-packages/pandas/core/indexes/base.py\u001b[0m in \u001b[0;36m_get_indexer_strict\u001b[0;34m(self, key, axis_name)\u001b[0m\n\u001b[1;32m   6198\u001b[0m             \u001b[0mkeyarr\u001b[0m\u001b[0;34m,\u001b[0m \u001b[0mindexer\u001b[0m\u001b[0;34m,\u001b[0m \u001b[0mnew_indexer\u001b[0m \u001b[0;34m=\u001b[0m \u001b[0mself\u001b[0m\u001b[0;34m.\u001b[0m\u001b[0m_reindex_non_unique\u001b[0m\u001b[0;34m(\u001b[0m\u001b[0mkeyarr\u001b[0m\u001b[0;34m)\u001b[0m\u001b[0;34m\u001b[0m\u001b[0;34m\u001b[0m\u001b[0m\n\u001b[1;32m   6199\u001b[0m \u001b[0;34m\u001b[0m\u001b[0m\n\u001b[0;32m-> 6200\u001b[0;31m         \u001b[0mself\u001b[0m\u001b[0;34m.\u001b[0m\u001b[0m_raise_if_missing\u001b[0m\u001b[0;34m(\u001b[0m\u001b[0mkeyarr\u001b[0m\u001b[0;34m,\u001b[0m \u001b[0mindexer\u001b[0m\u001b[0;34m,\u001b[0m \u001b[0maxis_name\u001b[0m\u001b[0;34m)\u001b[0m\u001b[0;34m\u001b[0m\u001b[0;34m\u001b[0m\u001b[0m\n\u001b[0m\u001b[1;32m   6201\u001b[0m \u001b[0;34m\u001b[0m\u001b[0m\n\u001b[1;32m   6202\u001b[0m         \u001b[0mkeyarr\u001b[0m \u001b[0;34m=\u001b[0m \u001b[0mself\u001b[0m\u001b[0;34m.\u001b[0m\u001b[0mtake\u001b[0m\u001b[0;34m(\u001b[0m\u001b[0mindexer\u001b[0m\u001b[0;34m)\u001b[0m\u001b[0;34m\u001b[0m\u001b[0;34m\u001b[0m\u001b[0m\n",
            "\u001b[0;32m/usr/local/lib/python3.11/dist-packages/pandas/core/indexes/base.py\u001b[0m in \u001b[0;36m_raise_if_missing\u001b[0;34m(self, key, indexer, axis_name)\u001b[0m\n\u001b[1;32m   6247\u001b[0m         \u001b[0;32mif\u001b[0m \u001b[0mnmissing\u001b[0m\u001b[0;34m:\u001b[0m\u001b[0;34m\u001b[0m\u001b[0;34m\u001b[0m\u001b[0m\n\u001b[1;32m   6248\u001b[0m             \u001b[0;32mif\u001b[0m \u001b[0mnmissing\u001b[0m \u001b[0;34m==\u001b[0m \u001b[0mlen\u001b[0m\u001b[0;34m(\u001b[0m\u001b[0mindexer\u001b[0m\u001b[0;34m)\u001b[0m\u001b[0;34m:\u001b[0m\u001b[0;34m\u001b[0m\u001b[0;34m\u001b[0m\u001b[0m\n\u001b[0;32m-> 6249\u001b[0;31m                 \u001b[0;32mraise\u001b[0m \u001b[0mKeyError\u001b[0m\u001b[0;34m(\u001b[0m\u001b[0;34mf\"None of [{key}] are in the [{axis_name}]\"\u001b[0m\u001b[0;34m)\u001b[0m\u001b[0;34m\u001b[0m\u001b[0;34m\u001b[0m\u001b[0m\n\u001b[0m\u001b[1;32m   6250\u001b[0m \u001b[0;34m\u001b[0m\u001b[0m\n\u001b[1;32m   6251\u001b[0m             \u001b[0mnot_found\u001b[0m \u001b[0;34m=\u001b[0m \u001b[0mlist\u001b[0m\u001b[0;34m(\u001b[0m\u001b[0mensure_index\u001b[0m\u001b[0;34m(\u001b[0m\u001b[0mkey\u001b[0m\u001b[0;34m)\u001b[0m\u001b[0;34m[\u001b[0m\u001b[0mmissing_mask\u001b[0m\u001b[0;34m.\u001b[0m\u001b[0mnonzero\u001b[0m\u001b[0;34m(\u001b[0m\u001b[0;34m)\u001b[0m\u001b[0;34m[\u001b[0m\u001b[0;36m0\u001b[0m\u001b[0;34m]\u001b[0m\u001b[0;34m]\u001b[0m\u001b[0;34m.\u001b[0m\u001b[0munique\u001b[0m\u001b[0;34m(\u001b[0m\u001b[0;34m)\u001b[0m\u001b[0;34m)\u001b[0m\u001b[0;34m\u001b[0m\u001b[0;34m\u001b[0m\u001b[0m\n",
            "\u001b[0;31mKeyError\u001b[0m: \"None of [Index(['feature_1', 'feature_2', 'feature_3'], dtype='object')] are in the [columns]\""
          ]
        }
      ]
    },
    {
      "cell_type": "code",
      "source": [
        "print(df.columns)\n"
      ],
      "metadata": {
        "colab": {
          "base_uri": "https://localhost:8080/"
        },
        "id": "XJ7VQO2cUQb-",
        "outputId": "3373dc4d-b0e0-406e-bbd9-1ae395b9fe01"
      },
      "execution_count": null,
      "outputs": [
        {
          "output_type": "stream",
          "name": "stdout",
          "text": [
            "Index(['CPA08-01', 'Products of agric., hunting and related services',\n",
            "       'Hard coal and hard coal products', '888', '946', '829', '1071', '1185',\n",
            "       '1329', '1692', '1756', '899', '985', '975', '980', '396', '400', '200',\n",
            "       '300', '360', '1080', '248', '475', '1766', '565', '368', '417', '34',\n",
            "       '30'],\n",
            "      dtype='object')\n"
          ]
        }
      ]
    },
    {
      "cell_type": "code",
      "source": [
        "print(df.head())  # Print the first few rows\n",
        "print(df.columns)  # Print column names\n"
      ],
      "metadata": {
        "id": "cfc5KtY-UiVk",
        "outputId": "d76ab97d-0ae2-46d1-be6a-c51ea3681ba1",
        "colab": {
          "base_uri": "https://localhost:8080/"
        }
      },
      "execution_count": null,
      "outputs": [
        {
          "output_type": "stream",
          "name": "stdout",
          "text": [
            "   CPA08-01  Products of agric., hunting and related services  \\\n",
            "0  CPA08-01  Products of agric., hunting and related services   \n",
            "1  CPA08-01  Products of agric., hunting and related services   \n",
            "2  CPA08-01  Products of agric., hunting and related services   \n",
            "3  CPA08-01  Products of agric., hunting and related services   \n",
            "4  CPA08-01  Products of agric., hunting and related services   \n",
            "\n",
            "               Hard coal and hard coal products    888    946    829   1071  \\\n",
            "0  Brown coal (lignite) and brown coal products   1477   1346   1275   1056   \n",
            "1                                     Crude oil      0      0      0      0   \n",
            "2                                        Petrol   4580   3610   2976   2897   \n",
            "3                                  Diesel fuels  94156  94655  94546  94130   \n",
            "4                         Aviation turbine fuel      0      0      0      0   \n",
            "\n",
            "    1185   1329   1692  ...    360   1080    248    475   1766    565    368  \\\n",
            "0    873    678    545  ...      0      0      0      0      0      0      0   \n",
            "1      0      0      0  ...      0      0      0      0      0      0      0   \n",
            "2   2456   1926   1573  ...    383    350    345    317    284    270    265   \n",
            "3  93709  82778  81461  ...  48796  47952  50725  52114  54741  56857  58373   \n",
            "4      0      0      0  ...      0      0      0      0      0      0      0   \n",
            "\n",
            "     417     34     30  \n",
            "0      0      0      0  \n",
            "1      0      0      0  \n",
            "2    261    275    241  \n",
            "3  54796  55719  56631  \n",
            "4      0      0      0  \n",
            "\n",
            "[5 rows x 29 columns]\n",
            "Index(['CPA08-01', 'Products of agric., hunting and related services',\n",
            "       'Hard coal and hard coal products', '888', '946', '829', '1071', '1185',\n",
            "       '1329', '1692', '1756', '899', '985', '975', '980', '396', '400', '200',\n",
            "       '300', '360', '1080', '248', '475', '1766', '565', '368', '417', '34',\n",
            "       '30'],\n",
            "      dtype='object')\n"
          ]
        }
      ]
    }
  ]
}